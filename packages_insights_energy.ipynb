{
 "cells": [
  {
   "cell_type": "markdown",
   "id": "8acfddd6",
   "metadata": {
    "colab_type": "text",
    "id": "view-in-github"
   },
   "source": [
    "<a href=\"https://colab.research.google.com/github/protontypes/osta/blob/main/packages_insights.ipynb\" target=\"_parent\"><img src=\"https://colab.research.google.com/assets/colab-badge.svg\" alt=\"Open In Colab\"/></a>"
   ]
  },
  {
   "cell_type": "code",
   "execution_count": 1,
   "id": "3e8200fb",
   "metadata": {
    "colab": {
     "base_uri": "https://localhost:8080/"
    },
    "id": "3e8200fb",
    "outputId": "014a9b1b-062c-4b17-94a4-224524860a79"
   },
   "outputs": [],
   "source": [
    "#!pip install pyalex semanticscholar habanero itables"
   ]
  },
  {
   "cell_type": "code",
   "execution_count": 2,
   "id": "4405547e",
   "metadata": {
    "id": "4405547e"
   },
   "outputs": [],
   "source": [
    "import requests\n",
    "import pandas as pd\n",
    "pd.set_option('display.max_rows', 500)\n",
    "pd.set_option('display.max_columns', 500)\n",
    "pd.set_option('display.width', 1000)\n",
    "\n",
    "import pyalex\n",
    "pyalex.config.email = \"ly0@protonmail.com\"\n",
    "from habanero import counts\n",
    "\n",
    "from semanticscholar import SemanticScholar\n",
    "sch = SemanticScholar()\n",
    "\n",
    "URL = \"https://ost.ecosyste.ms/api/v1/projects/packages\"\n",
    "FILE_TO_SAVE_AS = \"ecosystems_downloads.json\" # the name you want to save file as\n",
    "\n",
    "import os.path\n",
    "#os.path.isfile(fname)\n",
    "\n",
    "resp = requests.get(URL) # making requests to server\n",
    "\n",
    "with open(FILE_TO_SAVE_AS, \"wb\") as f: # opening a file handler to create new file\n",
    "    f.write(resp.content) # writing content to file"
   ]
  },
  {
   "cell_type": "code",
   "execution_count": 4,
   "id": "6027e310-2c28-45da-9ac5-190501b84e71",
   "metadata": {},
   "outputs": [
    {
     "name": "stdout",
     "output_type": "stream",
     "text": [
      "Total downloads for pypsa: 4126\n"
     ]
    }
   ],
   "source": [
    "import pandas as pd\n",
    "\n",
    "# Define the S3 path to the Parquet file\n",
    "s3_path = 's3://anaconda-package-data/conda/monthly/2024/2024-12.parquet'\n",
    "\n",
    "# Load the Parquet file into a DataFrame\n",
    "df = pd.read_parquet(s3_path, engine='pyarrow')\n",
    "package_name = 'pypsa'\n",
    "package_data = df[df['pkg_name'] == package_name]\n",
    "total_downloads = package_data['counts'].sum()\n",
    "print(f'Total downloads for {package_name}: {total_downloads}')"
   ]
  },
  {
   "cell_type": "code",
   "execution_count": null,
   "id": "61707d43",
   "metadata": {
    "colab": {
     "base_uri": "https://localhost:8080/"
    },
    "id": "61707d43",
    "outputId": "d7947441-14d7-4e5b-e2be-b2dc173b5cda"
   },
   "outputs": [],
   "source": [
    "df = pd.read_json(resp.content.decode())"
   ]
  },
  {
   "cell_type": "code",
   "execution_count": null,
   "id": "36b2c31f",
   "metadata": {
    "colab": {
     "base_uri": "https://localhost:8080/",
     "height": 1000
    },
    "id": "36b2c31f",
    "outputId": "c2894d7d-e6fe-4b50-875d-041e64000d5a"
   },
   "outputs": [],
   "source": [
    "df.head(30)"
   ]
  },
  {
   "cell_type": "code",
   "execution_count": null,
   "id": "4352e621",
   "metadata": {
    "colab": {
     "base_uri": "https://localhost:8080/"
    },
    "id": "4352e621",
    "outputId": "c4b47c39-2633-4f05-c94e-026b8f833cf4"
   },
   "outputs": [],
   "source": [
    "df.iloc[1][\"packages\"][0] # GO packages do not provide montly download numbers. That's why we had to kick out kube-green"
   ]
  },
  {
   "cell_type": "code",
   "execution_count": null,
   "id": "e6c85dc5",
   "metadata": {
    "id": "e6c85dc5"
   },
   "outputs": [],
   "source": [
    "names = []\n",
    "download_counts = []\n",
    "url = []\n",
    "description = []\n",
    "category = []\n",
    "sub_category = []\n",
    "language = []\n",
    "docker_downloads = []\n",
    "doi = []\n",
    "citations = []\n",
    "\n",
    "for index, row in df.iterrows():\n",
    "    names.append(row['name'])\n",
    "    package_downloads = 0\n",
    "    docker_download_count = 0\n",
    "    for package_manager in range(len(row['packages'])):\n",
    "        if row['packages'][package_manager]['downloads']:\n",
    "            if row['packages'][package_manager]['downloads_period'] == \"last-month\":\n",
    "                package_downloads += row['packages'][package_manager]['downloads']\n",
    "        if row['packages'][package_manager]['docker_downloads_count']:\n",
    "            docker_download_count = row['packages'][package_manager]['docker_downloads_count']\n",
    "        print(package_manager)\n",
    "    download_counts.append(package_downloads)\n",
    "    docker_downloads.append(docker_download_count)\n",
    "    url.append(row['url'])\n",
    "    description.append(row['description'])\n",
    "    category.append(row['category'])\n",
    "    sub_category.append(row['sub_category'])\n",
    "    language.append(row['language'])\n",
    "    citations.append(row['total_citations'])\n"
   ]
  },
  {
   "cell_type": "code",
   "execution_count": null,
   "id": "e07725b3",
   "metadata": {
    "colab": {
     "base_uri": "https://localhost:8080/",
     "height": 1000
    },
    "id": "e07725b3",
    "outputId": "1006c266-90f4-4cd9-9387-3eb44745ee5a"
   },
   "outputs": [],
   "source": [
    "df_extract = pd.DataFrame()\n",
    "df_extract['project_names'] = names\n",
    "df_extract['download_counts'] = download_counts\n",
    "df_extract['git_url'] = url\n",
    "df_extract['description'] = description\n",
    "df_extract['category'] = category\n",
    "df_extract['sub_category'] = sub_category\n",
    "df_extract['language'] = language\n",
    "df_extract['docker_downloads'] = docker_downloads\n",
    "df_extract['citations'] = citations\n",
    "df_extract.head(200)\n",
    "\n",
    "df_extract = df_extract[(df_extract['category'] == 'Renewable Energy') | (df_extract['category'] == 'Energy Systems') | (df_extract['category'] == 'Energy Storage')]\n"
   ]
  },
  {
   "cell_type": "code",
   "execution_count": null,
   "id": "cf0db338",
   "metadata": {
    "colab": {
     "base_uri": "https://localhost:8080/",
     "height": 1000
    },
    "id": "cf0db338",
    "outputId": "5370d09f-9bd4-4ec4-b3b0-cc0e3cd94287"
   },
   "outputs": [],
   "source": [
    "df_extract.loc[df['language'] == 'Julia']"
   ]
  },
  {
   "cell_type": "code",
   "execution_count": null,
   "id": "55be4c73",
   "metadata": {
    "colab": {
     "base_uri": "https://localhost:8080/",
     "height": 424
    },
    "id": "55be4c73",
    "outputId": "58f1041d-e917-4ae2-bd81-22e8bbef3b8a"
   },
   "outputs": [],
   "source": [
    "import textwrap\n",
    "\n",
    "def text_to_link(project_name, git_url):\n",
    "    return '<a href=\"' + git_url + '\" target=\"_blank\" style = \"color: black\">' + str(project_name) + \"</a>\"\n",
    "\n",
    "def text_to_bolt(topic):\n",
    "    return \"<b>\" + topic + \"</b>\"\n",
    "\n",
    "def line_break_text(text):\n",
    "    wrapped_text = '<br>'.join(textwrap.wrap(text, 64))\n",
    "    return wrapped_text\n",
    "\n",
    "df_extract[\"description\"] = df_extract.apply(\n",
    "    lambda x: line_break_text(x.description), axis=1\n",
    ")\n",
    "\n",
    "\n",
    "df_extract[\"project_names\"] = df_extract.apply(\n",
    "    lambda x: text_to_link(x.project_names, x.git_url), axis=1\n",
    ")\n",
    "df_extract"
   ]
  },
  {
   "cell_type": "code",
   "execution_count": null,
   "id": "0cdb8937",
   "metadata": {
    "colab": {
     "base_uri": "https://localhost:8080/",
     "height": 1000
    },
    "id": "0cdb8937",
    "outputId": "2c95e1b6-3cff-4ef4-9b0e-4c7273e9b15e"
   },
   "outputs": [],
   "source": [
    "import numpy as np\n",
    "import pandas as pd\n",
    "import plotly.io as pio\n",
    "import plotly.graph_objects as go\n",
    "import plotly.express as px\n",
    "from datetime import datetime\n",
    "\n",
    "# Get the current date\n",
    "current_date = datetime.now()\n",
    "\n",
    "# Format the date to display the full month and year\n",
    "month_year = current_date.strftime(\"%B %Y\")\n",
    "\n",
    "\n",
    "#df_extract = df_extract[df_extract[\"category\"] == \"Renewable Energy\"]\n",
    "\n",
    "number_of_projects_to_show = 300\n",
    "top_downloaders = df_extract.nlargest(number_of_projects_to_show, \"download_counts\")\n",
    "top_downloaders.index.name = \"ranking\"\n",
    "color_discrete_sequence = px.colors.qualitative.Vivid\n",
    "fig = px.bar(\n",
    "    top_downloaders,\n",
    "    x=top_downloaders[\"download_counts\"],\n",
    "    y=top_downloaders[\"project_names\"],\n",
    "    custom_data=[\"project_names\", \"download_counts\", \"docker_downloads\", \"git_url\", \"description\",\"category\",\"sub_category\",\"language\",top_downloaders.index+1],\n",
    "    orientation=\"h\",\n",
    "    color = 'category',\n",
    "    color_discrete_sequence=color_discrete_sequence,\n",
    ")\n",
    "\n",
    "fig.update_layout(\n",
    "    height=number_of_projects_to_show*20,  # Added parameter\n",
    "    #width=700,\n",
    "    xaxis_title=\"\",\n",
    "    yaxis_title=None,\n",
    "    title=\"Package Downloads of Open Source Project in Climate and Sustainability in \"+month_year,\n",
    "    dragmode=False,\n",
    ")\n",
    "\n",
    "fig.update_layout(hovermode=\"y unified\",hoverdistance=1000)\n",
    "\n",
    "fig.update_traces(\n",
    "    hovertemplate=\"<extra></extra>\"+\"<br>\".join(\n",
    "        [\n",
    "            \"Ranking: <b>%{customdata[8]}</b>\",\n",
    "            \"Description: <b>%{customdata[4]}</b>\",\n",
    "            \"Sub Category: <b>%{customdata[6]}</b>\",\n",
    "            \"Language: <b>%{customdata[7]}</b>\",\n",
    "            \"Downloads per month: <b>%{customdata[1]}</b>\",\n",
    "            #\"Docker Downloads: <b>%{customdata[2]}</b>\",\n",
    "            \"Category: <b>%{customdata[5]}</b>\",\n",
    "\n",
    "        ]\n",
    "    )\n",
    "\n",
    ")\n",
    "\n",
    "#fig.update(layout_showlegend=False)\n",
    "\n",
    "fig.update_layout(modebar=dict(bgcolor=\"rgba(0,0,0,0)\"))\n",
    "\n",
    "config = {\n",
    "  'toImageButtonOptions': {\n",
    "    'format': 'png', # one of png, svg, jpeg, webp\n",
    "  },\n",
    "  'responsive':'true'\n",
    "}\n",
    "fig.update_layout(\n",
    "    plot_bgcolor='white'\n",
    ")\n",
    "\n",
    "fig.update_layout(modebar_color=\"#009485\", modebar_activecolor=\"#2563eb\")\n",
    "fig[\"layout\"][\"yaxis\"][\"autorange\"] = \"reversed\"\n",
    "\n",
    "fig.update_xaxes(showspikes=False)  # <-- add this line\n",
    "fig.update_yaxes(showspikes=False)  # <-- add this line\n",
    "#fig.update_layout(paper_bgcolor = \"rgba(0,0,0,0)\",\n",
    "#                  plot_bgcolor = \"rgba(0,0,0,0)\")\n",
    "\n",
    "#fig.update_layout(barmode='stack', xaxis={'categoryorder':'total ascending'})\n",
    "fig.update_layout(xaxis_type = \"log\",yaxis_categoryorder = 'total descending',legend_title=None, xaxis={'side': 'top'}, )\n",
    "fig.show(config=config)\n",
    "\n",
    "pio.write_json(fig,\"download_plot.json\")\n",
    "pio.write_html(fig,\"download_plot.html\")"
   ]
  },
  {
   "cell_type": "code",
   "execution_count": null,
   "id": "a8bbf98c",
   "metadata": {
    "colab": {
     "base_uri": "https://localhost:8080/",
     "height": 1000
    },
    "id": "a8bbf98c",
    "outputId": "b438608d-33bd-4746-fcd0-1d56be3a309e"
   },
   "outputs": [],
   "source": [
    "from itables import init_notebook_mode\n",
    "\n",
    "init_notebook_mode(all_interactive=True)\n",
    "df_extract.loc[df_extract['citations'] > 0]"
   ]
  },
  {
   "cell_type": "code",
   "execution_count": null,
   "id": "90662052",
   "metadata": {
    "id": "90662052"
   },
   "outputs": [],
   "source": []
  },
  {
   "cell_type": "code",
   "execution_count": null,
   "id": "aeaf062b-b2d4-4176-adb8-f93b9286e904",
   "metadata": {},
   "outputs": [],
   "source": []
  }
 ],
 "metadata": {
  "colab": {
   "include_colab_link": true,
   "provenance": []
  },
  "kernelspec": {
   "display_name": "Python 3 (ipykernel)",
   "language": "python",
   "name": "python3"
  },
  "language_info": {
   "codemirror_mode": {
    "name": "ipython",
    "version": 3
   },
   "file_extension": ".py",
   "mimetype": "text/x-python",
   "name": "python",
   "nbconvert_exporter": "python",
   "pygments_lexer": "ipython3",
   "version": "3.10.12"
  }
 },
 "nbformat": 4,
 "nbformat_minor": 5
}
