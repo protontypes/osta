{
  "cells": [
    {
      "cell_type": "markdown",
      "source": [
        "# Word statistics on open source in environmental sustainability\n",
        "\n",
        "## Ideas and ToDo\n",
        "Compare with: https://blogs.reading.ac.uk/weather-and-climate-at-reading/2021/whats-that-data-why-and-how-the-geoscientific-community-is-forging-metadata-standards/\n",
        "https://github.com/sadielbartholomew/cf-standard-names-linguistics\n",
        "https://sadielbartholomew.github.io/cf-standard-names-linguistics/"
      ],
      "metadata": {
        "id": "eN2prsBq-RDt"
      }
    },
    {
      "cell_type": "code",
      "execution_count": 30,
      "metadata": {
        "id": "gRqJTU_tqNK6",
        "outputId": "2b263c2e-4bef-4b7d-e5f9-319f8122a4c7",
        "colab": {
          "base_uri": "https://localhost:8080/"
        }
      },
      "outputs": [
        {
          "output_type": "stream",
          "name": "stdout",
          "text": [
            "Requirement already satisfied: nltk in /usr/local/lib/python3.10/dist-packages (3.8.1)\n",
            "Requirement already satisfied: pandas in /usr/local/lib/python3.10/dist-packages (2.0.3)\n",
            "Requirement already satisfied: yake in /usr/local/lib/python3.10/dist-packages (0.4.8)\n",
            "Requirement already satisfied: multi_rake in /usr/local/lib/python3.10/dist-packages (0.0.2)\n",
            "Requirement already satisfied: wordcloud in /usr/local/lib/python3.10/dist-packages (1.9.3)\n",
            "Requirement already satisfied: click in /usr/local/lib/python3.10/dist-packages (from nltk) (8.1.7)\n",
            "Requirement already satisfied: joblib in /usr/local/lib/python3.10/dist-packages (from nltk) (1.4.2)\n",
            "Requirement already satisfied: regex>=2021.8.3 in /usr/local/lib/python3.10/dist-packages (from nltk) (2024.5.15)\n",
            "Requirement already satisfied: tqdm in /usr/local/lib/python3.10/dist-packages (from nltk) (4.66.4)\n",
            "Requirement already satisfied: python-dateutil>=2.8.2 in /usr/local/lib/python3.10/dist-packages (from pandas) (2.8.2)\n",
            "Requirement already satisfied: pytz>=2020.1 in /usr/local/lib/python3.10/dist-packages (from pandas) (2023.4)\n",
            "Requirement already satisfied: tzdata>=2022.1 in /usr/local/lib/python3.10/dist-packages (from pandas) (2024.1)\n",
            "Requirement already satisfied: numpy>=1.21.0 in /usr/local/lib/python3.10/dist-packages (from pandas) (1.25.2)\n",
            "Requirement already satisfied: tabulate in /usr/local/lib/python3.10/dist-packages (from yake) (0.9.0)\n",
            "Requirement already satisfied: segtok in /usr/local/lib/python3.10/dist-packages (from yake) (1.5.11)\n",
            "Requirement already satisfied: networkx in /usr/local/lib/python3.10/dist-packages (from yake) (3.3)\n",
            "Requirement already satisfied: jellyfish in /usr/local/lib/python3.10/dist-packages (from yake) (1.0.4)\n",
            "Requirement already satisfied: pycld2>=0.41 in /usr/local/lib/python3.10/dist-packages (from multi_rake) (0.41)\n",
            "Requirement already satisfied: pyrsistent>=0.14.2 in /usr/local/lib/python3.10/dist-packages (from multi_rake) (0.20.0)\n",
            "Requirement already satisfied: pillow in /usr/local/lib/python3.10/dist-packages (from wordcloud) (9.4.0)\n",
            "Requirement already satisfied: matplotlib in /usr/local/lib/python3.10/dist-packages (from wordcloud) (3.7.1)\n",
            "Requirement already satisfied: six>=1.5 in /usr/local/lib/python3.10/dist-packages (from python-dateutil>=2.8.2->pandas) (1.16.0)\n",
            "Requirement already satisfied: contourpy>=1.0.1 in /usr/local/lib/python3.10/dist-packages (from matplotlib->wordcloud) (1.2.1)\n",
            "Requirement already satisfied: cycler>=0.10 in /usr/local/lib/python3.10/dist-packages (from matplotlib->wordcloud) (0.12.1)\n",
            "Requirement already satisfied: fonttools>=4.22.0 in /usr/local/lib/python3.10/dist-packages (from matplotlib->wordcloud) (4.53.0)\n",
            "Requirement already satisfied: kiwisolver>=1.0.1 in /usr/local/lib/python3.10/dist-packages (from matplotlib->wordcloud) (1.4.5)\n",
            "Requirement already satisfied: packaging>=20.0 in /usr/local/lib/python3.10/dist-packages (from matplotlib->wordcloud) (24.1)\n",
            "Requirement already satisfied: pyparsing>=2.3.1 in /usr/local/lib/python3.10/dist-packages (from matplotlib->wordcloud) (3.1.2)\n"
          ]
        }
      ],
      "source": [
        "!pip install nltk pandas yake multi_rake wordcloud"
      ]
    },
    {
      "cell_type": "code",
      "source": [
        "import requests\n",
        "import pandas as pd\n",
        "pd.set_option('display.max_rows', 500)\n",
        "pd.set_option('display.max_columns', 500)\n",
        "pd.set_option('display.width', 1000)\n",
        "\n",
        "URL = \"https://ost.ecosyste.ms/api/v1/projects?reviewed=true&per_page=3000\"\n",
        "FILE_TO_SAVE_AS = \"projects.json\" # the name you want to save file as\n",
        "\n",
        "\n",
        "resp = requests.get(URL) # making requests to server\n",
        "\n",
        "with open(FILE_TO_SAVE_AS, \"wb\") as f: # opening a file handler to create new file\n",
        "    f.write(resp.content) # writing content to file"
      ],
      "metadata": {
        "id": "5DKM4Sc6szWm"
      },
      "execution_count": 31,
      "outputs": []
    },
    {
      "cell_type": "code",
      "execution_count": 32,
      "metadata": {
        "colab": {
          "base_uri": "https://localhost:8080/",
          "height": 609
        },
        "id": "Qz4VKs-fPT1V",
        "outputId": "3bec58ea-712d-4a92-c3e8-e4535b5df1d4"
      },
      "outputs": [
        {
          "output_type": "stream",
          "name": "stdout",
          "text": [
            "(1993, 30)\n"
          ]
        },
        {
          "output_type": "execute_result",
          "data": {
            "text/plain": [
              "       id        name                                        description                                                url                   last_synced_at                                         repository                                              owner                                           packages                                            commits                                       issues_stats                                             events                                           keywords                                       dependencies      score                       created_at                       updated_at                                  avatar_url          language        category                      sub_category  monthly_downloads                                             readme                              funding_links                                    readme_doi_urls                                              works  \\\n",
              "0  114061     cmocean  Colormap setup for standardizing commonly-plot...              https://github.com/matplotlib/cmocean 2024-07-07 13:34:30.070000+00:00  {'id': 28577265, 'uuid': '32095153', 'full_nam...  {'login': 'matplotlib', 'name': 'Matplotlib De...  [{'id': 2673889, 'name': 'cmocean', 'ecosystem...  {'full_name': 'matplotlib/cmocean', 'default_b...  {'full_name': 'matplotlib/cmocean', 'html_url'...  {'total': {'ForkEvent': 56, 'CreateEvent': 30,...                                                 []  [{'ecosystem': 'pypi', 'filepath': 'requiremen...  18.919363 2023-10-11 00:08:50.545000+00:00 2024-07-08 14:03:30.286000+00:00           https://github.com/matplotlib.png            Python     Hydrosphere   Ocean and Hydrology Data Access              34828  cmocean\\n=======\\n\\n[![Build Status](https://i...                                         []                                                 []                                                 {}   \n",
              "1   76815  TrapTagger         AI-Powered Camera-Trap Imagery Processing.  https://github.com/wildeyeconservation/traptagger 2024-07-07 13:34:32.439000+00:00  {'id': 37577885, 'uuid': '479335428', 'full_na...  {'login': 'WildEyeConservation', 'name': 'Wild...                                                 []  {'full_name': 'WildEyeConservation/TrapTagger'...  {'full_name': 'WildEyeConservation/TrapTagger'...  {'total': {'IssuesEvent': 4, 'WatchEvent': 21,...  [camera-traps, computer-vision, conservation, ...  [{'ecosystem': 'docker', 'filepath': 'docker-c...   4.744932 2023-09-19 00:02:42.361000+00:00 2024-07-08 14:03:30.096000+00:00  https://github.com/WildEyeConservation.png        JavaScript       Biosphere               Terrestrial Animals                  0  ![WildEye Conservation Logo](https://wildeyeco...                                         []                                                 []                                                 {}   \n",
              "2   81451        OPEM  A modeling tool for evaluating the performance...                      https://github.com/ecsim/opem 2024-07-07 13:34:32.545000+00:00  {'id': 27805219, 'uuid': '114471494', 'full_na...  {'login': 'ECSIM', 'name': 'ECSIM', 'uuid': '3...  [{'id': 2839334, 'name': 'opem', 'ecosystem': ...  {'full_name': 'ECSIM/opem', 'default_branch': ...  {'full_name': 'ECSIM/opem', 'html_url': 'https...  {'total': {'ForkEvent': 63, 'CreateEvent': 139...  [chemistry, dynamic-analysis, electrochemistry...  [{'ecosystem': 'actions', 'filepath': '.github...  12.572402 2023-09-19 11:39:35.203000+00:00 2024-07-08 14:03:30.075000+00:00                https://github.com/ECSIM.png            Python  Energy Storage                          Hydrogen                157  <div align=\"center\">\\n<img src=\"https://github...  [https://www.ecsim.site/opem/donate.html]  [https://doi.org/10.3390/app9061066, https://d...  {'https://doi.org/10.3390/app9061066': {'id': ...   \n",
              "3     797     climlab  A Python package for process-oriented climate ...                 https://github.com/climlab/climlab 2024-07-07 13:35:03.322000+00:00  {'id': 21647342, 'uuid': '24968065', 'full_nam...  {'login': 'climlab', 'name': 'climlab', 'uuid'...  [{'id': 2672164, 'name': 'climlab', 'ecosystem...  {'full_name': 'climlab/climlab', 'default_bran...  {'full_name': 'climlab/climlab', 'html_url': '...  {'total': {'CreateEvent': 3, 'ReleaseEvent': 2...  [climate-model, climate-science, educational-s...  [{'ecosystem': 'pypi', 'filepath': 'setup.py',...  13.308538 2023-09-11 11:54:35.977000+00:00 2024-07-08 14:03:30.025000+00:00              https://github.com/climlab.png  Jupyter Notebook  Climate Change        Earth and Climate Modeling                161  =======\\nclimlab\\n=======\\n\\n|docs| |JOSS| |DO...                                         []              [https://doi.org/10.21105/joss.00659]  {'https://doi.org/10.21105/joss.00659': {'id':...   \n",
              "4   19900        FINE  Provides a framework for modeling, optimizing ...               https://github.com/FZJ-IEK3-VSA/FINE 2024-07-07 13:34:59.778000+00:00  {'id': 41086353, 'uuid': '139456829', 'full_na...  {'login': 'FZJ-IEK3-VSA', 'name': 'FZJ-IEK3', ...  [{'id': 2733858, 'name': 'fine', 'ecosystem': ...  {'full_name': 'FZJ-IEK3-VSA/FINE', 'default_br...  {'full_name': 'FZJ-IEK3-VSA/FINE', 'html_url':...  {'total': {'CreateEvent': 48, 'ReleaseEvent': ...                                                 []  [{'ecosystem': 'docker', 'filepath': 'Dockerfi...  13.917778 2023-09-11 14:52:07.941000+00:00 2024-07-08 14:03:29.971000+00:00         https://github.com/FZJ-IEK3-VSA.png            Python  Energy Systems  Energy Modeling and Optimization                368  <!-- markdownlint-disable line-length no-inlin...                                         []                                                 []                                                 {}   \n",
              "\n",
              "                                     citation_counts  total_citations                         keywords_from_contributors                                     project_url                                 html_url  \n",
              "0                                                 {}                0  [reporting, parallel, meshing, measur, project...  https://ost.ecosyste.ms/api/v1/projects/114061  https://ost.ecosyste.ms/projects/114061  \n",
              "1                                                 {}                0                                                 []   https://ost.ecosyste.ms/api/v1/projects/76815   https://ost.ecosyste.ms/projects/76815  \n",
              "2  {'https://doi.org/10.3390/app9061066': 19, 'ht...               23  [measurements, pypi, mathematics, transforms, ...   https://ost.ecosyste.ms/api/v1/projects/81451   https://ost.ecosyste.ms/projects/81451  \n",
              "3        {'https://doi.org/10.21105/joss.00659': 24}               24  [projection, measur, archiving, transforms, an...     https://ost.ecosyste.ms/api/v1/projects/797     https://ost.ecosyste.ms/projects/797  \n",
              "4                                                 {}                0  [gdal, gdal-library, general-purpose, geospati...   https://ost.ecosyste.ms/api/v1/projects/19900   https://ost.ecosyste.ms/projects/19900  "
            ],
            "text/html": [
              "\n",
              "  <div id=\"df-86c6ad92-570a-44d0-bebf-9f5754380ba8\" class=\"colab-df-container\">\n",
              "    <div>\n",
              "<style scoped>\n",
              "    .dataframe tbody tr th:only-of-type {\n",
              "        vertical-align: middle;\n",
              "    }\n",
              "\n",
              "    .dataframe tbody tr th {\n",
              "        vertical-align: top;\n",
              "    }\n",
              "\n",
              "    .dataframe thead th {\n",
              "        text-align: right;\n",
              "    }\n",
              "</style>\n",
              "<table border=\"1\" class=\"dataframe\">\n",
              "  <thead>\n",
              "    <tr style=\"text-align: right;\">\n",
              "      <th></th>\n",
              "      <th>id</th>\n",
              "      <th>name</th>\n",
              "      <th>description</th>\n",
              "      <th>url</th>\n",
              "      <th>last_synced_at</th>\n",
              "      <th>repository</th>\n",
              "      <th>owner</th>\n",
              "      <th>packages</th>\n",
              "      <th>commits</th>\n",
              "      <th>issues_stats</th>\n",
              "      <th>events</th>\n",
              "      <th>keywords</th>\n",
              "      <th>dependencies</th>\n",
              "      <th>score</th>\n",
              "      <th>created_at</th>\n",
              "      <th>updated_at</th>\n",
              "      <th>avatar_url</th>\n",
              "      <th>language</th>\n",
              "      <th>category</th>\n",
              "      <th>sub_category</th>\n",
              "      <th>monthly_downloads</th>\n",
              "      <th>readme</th>\n",
              "      <th>funding_links</th>\n",
              "      <th>readme_doi_urls</th>\n",
              "      <th>works</th>\n",
              "      <th>citation_counts</th>\n",
              "      <th>total_citations</th>\n",
              "      <th>keywords_from_contributors</th>\n",
              "      <th>project_url</th>\n",
              "      <th>html_url</th>\n",
              "    </tr>\n",
              "  </thead>\n",
              "  <tbody>\n",
              "    <tr>\n",
              "      <th>0</th>\n",
              "      <td>114061</td>\n",
              "      <td>cmocean</td>\n",
              "      <td>Colormap setup for standardizing commonly-plot...</td>\n",
              "      <td>https://github.com/matplotlib/cmocean</td>\n",
              "      <td>2024-07-07 13:34:30.070000+00:00</td>\n",
              "      <td>{'id': 28577265, 'uuid': '32095153', 'full_nam...</td>\n",
              "      <td>{'login': 'matplotlib', 'name': 'Matplotlib De...</td>\n",
              "      <td>[{'id': 2673889, 'name': 'cmocean', 'ecosystem...</td>\n",
              "      <td>{'full_name': 'matplotlib/cmocean', 'default_b...</td>\n",
              "      <td>{'full_name': 'matplotlib/cmocean', 'html_url'...</td>\n",
              "      <td>{'total': {'ForkEvent': 56, 'CreateEvent': 30,...</td>\n",
              "      <td>[]</td>\n",
              "      <td>[{'ecosystem': 'pypi', 'filepath': 'requiremen...</td>\n",
              "      <td>18.919363</td>\n",
              "      <td>2023-10-11 00:08:50.545000+00:00</td>\n",
              "      <td>2024-07-08 14:03:30.286000+00:00</td>\n",
              "      <td>https://github.com/matplotlib.png</td>\n",
              "      <td>Python</td>\n",
              "      <td>Hydrosphere</td>\n",
              "      <td>Ocean and Hydrology Data Access</td>\n",
              "      <td>34828</td>\n",
              "      <td>cmocean\\n=======\\n\\n[![Build Status](https://i...</td>\n",
              "      <td>[]</td>\n",
              "      <td>[]</td>\n",
              "      <td>{}</td>\n",
              "      <td>{}</td>\n",
              "      <td>0</td>\n",
              "      <td>[reporting, parallel, meshing, measur, project...</td>\n",
              "      <td>https://ost.ecosyste.ms/api/v1/projects/114061</td>\n",
              "      <td>https://ost.ecosyste.ms/projects/114061</td>\n",
              "    </tr>\n",
              "    <tr>\n",
              "      <th>1</th>\n",
              "      <td>76815</td>\n",
              "      <td>TrapTagger</td>\n",
              "      <td>AI-Powered Camera-Trap Imagery Processing.</td>\n",
              "      <td>https://github.com/wildeyeconservation/traptagger</td>\n",
              "      <td>2024-07-07 13:34:32.439000+00:00</td>\n",
              "      <td>{'id': 37577885, 'uuid': '479335428', 'full_na...</td>\n",
              "      <td>{'login': 'WildEyeConservation', 'name': 'Wild...</td>\n",
              "      <td>[]</td>\n",
              "      <td>{'full_name': 'WildEyeConservation/TrapTagger'...</td>\n",
              "      <td>{'full_name': 'WildEyeConservation/TrapTagger'...</td>\n",
              "      <td>{'total': {'IssuesEvent': 4, 'WatchEvent': 21,...</td>\n",
              "      <td>[camera-traps, computer-vision, conservation, ...</td>\n",
              "      <td>[{'ecosystem': 'docker', 'filepath': 'docker-c...</td>\n",
              "      <td>4.744932</td>\n",
              "      <td>2023-09-19 00:02:42.361000+00:00</td>\n",
              "      <td>2024-07-08 14:03:30.096000+00:00</td>\n",
              "      <td>https://github.com/WildEyeConservation.png</td>\n",
              "      <td>JavaScript</td>\n",
              "      <td>Biosphere</td>\n",
              "      <td>Terrestrial Animals</td>\n",
              "      <td>0</td>\n",
              "      <td>![WildEye Conservation Logo](https://wildeyeco...</td>\n",
              "      <td>[]</td>\n",
              "      <td>[]</td>\n",
              "      <td>{}</td>\n",
              "      <td>{}</td>\n",
              "      <td>0</td>\n",
              "      <td>[]</td>\n",
              "      <td>https://ost.ecosyste.ms/api/v1/projects/76815</td>\n",
              "      <td>https://ost.ecosyste.ms/projects/76815</td>\n",
              "    </tr>\n",
              "    <tr>\n",
              "      <th>2</th>\n",
              "      <td>81451</td>\n",
              "      <td>OPEM</td>\n",
              "      <td>A modeling tool for evaluating the performance...</td>\n",
              "      <td>https://github.com/ecsim/opem</td>\n",
              "      <td>2024-07-07 13:34:32.545000+00:00</td>\n",
              "      <td>{'id': 27805219, 'uuid': '114471494', 'full_na...</td>\n",
              "      <td>{'login': 'ECSIM', 'name': 'ECSIM', 'uuid': '3...</td>\n",
              "      <td>[{'id': 2839334, 'name': 'opem', 'ecosystem': ...</td>\n",
              "      <td>{'full_name': 'ECSIM/opem', 'default_branch': ...</td>\n",
              "      <td>{'full_name': 'ECSIM/opem', 'html_url': 'https...</td>\n",
              "      <td>{'total': {'ForkEvent': 63, 'CreateEvent': 139...</td>\n",
              "      <td>[chemistry, dynamic-analysis, electrochemistry...</td>\n",
              "      <td>[{'ecosystem': 'actions', 'filepath': '.github...</td>\n",
              "      <td>12.572402</td>\n",
              "      <td>2023-09-19 11:39:35.203000+00:00</td>\n",
              "      <td>2024-07-08 14:03:30.075000+00:00</td>\n",
              "      <td>https://github.com/ECSIM.png</td>\n",
              "      <td>Python</td>\n",
              "      <td>Energy Storage</td>\n",
              "      <td>Hydrogen</td>\n",
              "      <td>157</td>\n",
              "      <td>&lt;div align=\"center\"&gt;\\n&lt;img src=\"https://github...</td>\n",
              "      <td>[https://www.ecsim.site/opem/donate.html]</td>\n",
              "      <td>[https://doi.org/10.3390/app9061066, https://d...</td>\n",
              "      <td>{'https://doi.org/10.3390/app9061066': {'id': ...</td>\n",
              "      <td>{'https://doi.org/10.3390/app9061066': 19, 'ht...</td>\n",
              "      <td>23</td>\n",
              "      <td>[measurements, pypi, mathematics, transforms, ...</td>\n",
              "      <td>https://ost.ecosyste.ms/api/v1/projects/81451</td>\n",
              "      <td>https://ost.ecosyste.ms/projects/81451</td>\n",
              "    </tr>\n",
              "    <tr>\n",
              "      <th>3</th>\n",
              "      <td>797</td>\n",
              "      <td>climlab</td>\n",
              "      <td>A Python package for process-oriented climate ...</td>\n",
              "      <td>https://github.com/climlab/climlab</td>\n",
              "      <td>2024-07-07 13:35:03.322000+00:00</td>\n",
              "      <td>{'id': 21647342, 'uuid': '24968065', 'full_nam...</td>\n",
              "      <td>{'login': 'climlab', 'name': 'climlab', 'uuid'...</td>\n",
              "      <td>[{'id': 2672164, 'name': 'climlab', 'ecosystem...</td>\n",
              "      <td>{'full_name': 'climlab/climlab', 'default_bran...</td>\n",
              "      <td>{'full_name': 'climlab/climlab', 'html_url': '...</td>\n",
              "      <td>{'total': {'CreateEvent': 3, 'ReleaseEvent': 2...</td>\n",
              "      <td>[climate-model, climate-science, educational-s...</td>\n",
              "      <td>[{'ecosystem': 'pypi', 'filepath': 'setup.py',...</td>\n",
              "      <td>13.308538</td>\n",
              "      <td>2023-09-11 11:54:35.977000+00:00</td>\n",
              "      <td>2024-07-08 14:03:30.025000+00:00</td>\n",
              "      <td>https://github.com/climlab.png</td>\n",
              "      <td>Jupyter Notebook</td>\n",
              "      <td>Climate Change</td>\n",
              "      <td>Earth and Climate Modeling</td>\n",
              "      <td>161</td>\n",
              "      <td>=======\\nclimlab\\n=======\\n\\n|docs| |JOSS| |DO...</td>\n",
              "      <td>[]</td>\n",
              "      <td>[https://doi.org/10.21105/joss.00659]</td>\n",
              "      <td>{'https://doi.org/10.21105/joss.00659': {'id':...</td>\n",
              "      <td>{'https://doi.org/10.21105/joss.00659': 24}</td>\n",
              "      <td>24</td>\n",
              "      <td>[projection, measur, archiving, transforms, an...</td>\n",
              "      <td>https://ost.ecosyste.ms/api/v1/projects/797</td>\n",
              "      <td>https://ost.ecosyste.ms/projects/797</td>\n",
              "    </tr>\n",
              "    <tr>\n",
              "      <th>4</th>\n",
              "      <td>19900</td>\n",
              "      <td>FINE</td>\n",
              "      <td>Provides a framework for modeling, optimizing ...</td>\n",
              "      <td>https://github.com/FZJ-IEK3-VSA/FINE</td>\n",
              "      <td>2024-07-07 13:34:59.778000+00:00</td>\n",
              "      <td>{'id': 41086353, 'uuid': '139456829', 'full_na...</td>\n",
              "      <td>{'login': 'FZJ-IEK3-VSA', 'name': 'FZJ-IEK3', ...</td>\n",
              "      <td>[{'id': 2733858, 'name': 'fine', 'ecosystem': ...</td>\n",
              "      <td>{'full_name': 'FZJ-IEK3-VSA/FINE', 'default_br...</td>\n",
              "      <td>{'full_name': 'FZJ-IEK3-VSA/FINE', 'html_url':...</td>\n",
              "      <td>{'total': {'CreateEvent': 48, 'ReleaseEvent': ...</td>\n",
              "      <td>[]</td>\n",
              "      <td>[{'ecosystem': 'docker', 'filepath': 'Dockerfi...</td>\n",
              "      <td>13.917778</td>\n",
              "      <td>2023-09-11 14:52:07.941000+00:00</td>\n",
              "      <td>2024-07-08 14:03:29.971000+00:00</td>\n",
              "      <td>https://github.com/FZJ-IEK3-VSA.png</td>\n",
              "      <td>Python</td>\n",
              "      <td>Energy Systems</td>\n",
              "      <td>Energy Modeling and Optimization</td>\n",
              "      <td>368</td>\n",
              "      <td>&lt;!-- markdownlint-disable line-length no-inlin...</td>\n",
              "      <td>[]</td>\n",
              "      <td>[]</td>\n",
              "      <td>{}</td>\n",
              "      <td>{}</td>\n",
              "      <td>0</td>\n",
              "      <td>[gdal, gdal-library, general-purpose, geospati...</td>\n",
              "      <td>https://ost.ecosyste.ms/api/v1/projects/19900</td>\n",
              "      <td>https://ost.ecosyste.ms/projects/19900</td>\n",
              "    </tr>\n",
              "  </tbody>\n",
              "</table>\n",
              "</div>\n",
              "    <div class=\"colab-df-buttons\">\n",
              "\n",
              "  <div class=\"colab-df-container\">\n",
              "    <button class=\"colab-df-convert\" onclick=\"convertToInteractive('df-86c6ad92-570a-44d0-bebf-9f5754380ba8')\"\n",
              "            title=\"Convert this dataframe to an interactive table.\"\n",
              "            style=\"display:none;\">\n",
              "\n",
              "  <svg xmlns=\"http://www.w3.org/2000/svg\" height=\"24px\" viewBox=\"0 -960 960 960\">\n",
              "    <path d=\"M120-120v-720h720v720H120Zm60-500h600v-160H180v160Zm220 220h160v-160H400v160Zm0 220h160v-160H400v160ZM180-400h160v-160H180v160Zm440 0h160v-160H620v160ZM180-180h160v-160H180v160Zm440 0h160v-160H620v160Z\"/>\n",
              "  </svg>\n",
              "    </button>\n",
              "\n",
              "  <style>\n",
              "    .colab-df-container {\n",
              "      display:flex;\n",
              "      gap: 12px;\n",
              "    }\n",
              "\n",
              "    .colab-df-convert {\n",
              "      background-color: #E8F0FE;\n",
              "      border: none;\n",
              "      border-radius: 50%;\n",
              "      cursor: pointer;\n",
              "      display: none;\n",
              "      fill: #1967D2;\n",
              "      height: 32px;\n",
              "      padding: 0 0 0 0;\n",
              "      width: 32px;\n",
              "    }\n",
              "\n",
              "    .colab-df-convert:hover {\n",
              "      background-color: #E2EBFA;\n",
              "      box-shadow: 0px 1px 2px rgba(60, 64, 67, 0.3), 0px 1px 3px 1px rgba(60, 64, 67, 0.15);\n",
              "      fill: #174EA6;\n",
              "    }\n",
              "\n",
              "    .colab-df-buttons div {\n",
              "      margin-bottom: 4px;\n",
              "    }\n",
              "\n",
              "    [theme=dark] .colab-df-convert {\n",
              "      background-color: #3B4455;\n",
              "      fill: #D2E3FC;\n",
              "    }\n",
              "\n",
              "    [theme=dark] .colab-df-convert:hover {\n",
              "      background-color: #434B5C;\n",
              "      box-shadow: 0px 1px 3px 1px rgba(0, 0, 0, 0.15);\n",
              "      filter: drop-shadow(0px 1px 2px rgba(0, 0, 0, 0.3));\n",
              "      fill: #FFFFFF;\n",
              "    }\n",
              "  </style>\n",
              "\n",
              "    <script>\n",
              "      const buttonEl =\n",
              "        document.querySelector('#df-86c6ad92-570a-44d0-bebf-9f5754380ba8 button.colab-df-convert');\n",
              "      buttonEl.style.display =\n",
              "        google.colab.kernel.accessAllowed ? 'block' : 'none';\n",
              "\n",
              "      async function convertToInteractive(key) {\n",
              "        const element = document.querySelector('#df-86c6ad92-570a-44d0-bebf-9f5754380ba8');\n",
              "        const dataTable =\n",
              "          await google.colab.kernel.invokeFunction('convertToInteractive',\n",
              "                                                    [key], {});\n",
              "        if (!dataTable) return;\n",
              "\n",
              "        const docLinkHtml = 'Like what you see? Visit the ' +\n",
              "          '<a target=\"_blank\" href=https://colab.research.google.com/notebooks/data_table.ipynb>data table notebook</a>'\n",
              "          + ' to learn more about interactive tables.';\n",
              "        element.innerHTML = '';\n",
              "        dataTable['output_type'] = 'display_data';\n",
              "        await google.colab.output.renderOutput(dataTable, element);\n",
              "        const docLink = document.createElement('div');\n",
              "        docLink.innerHTML = docLinkHtml;\n",
              "        element.appendChild(docLink);\n",
              "      }\n",
              "    </script>\n",
              "  </div>\n",
              "\n",
              "\n",
              "<div id=\"df-9aeb0170-c505-41d0-a7e9-2d255b9303b7\">\n",
              "  <button class=\"colab-df-quickchart\" onclick=\"quickchart('df-9aeb0170-c505-41d0-a7e9-2d255b9303b7')\"\n",
              "            title=\"Suggest charts\"\n",
              "            style=\"display:none;\">\n",
              "\n",
              "<svg xmlns=\"http://www.w3.org/2000/svg\" height=\"24px\"viewBox=\"0 0 24 24\"\n",
              "     width=\"24px\">\n",
              "    <g>\n",
              "        <path d=\"M19 3H5c-1.1 0-2 .9-2 2v14c0 1.1.9 2 2 2h14c1.1 0 2-.9 2-2V5c0-1.1-.9-2-2-2zM9 17H7v-7h2v7zm4 0h-2V7h2v10zm4 0h-2v-4h2v4z\"/>\n",
              "    </g>\n",
              "</svg>\n",
              "  </button>\n",
              "\n",
              "<style>\n",
              "  .colab-df-quickchart {\n",
              "      --bg-color: #E8F0FE;\n",
              "      --fill-color: #1967D2;\n",
              "      --hover-bg-color: #E2EBFA;\n",
              "      --hover-fill-color: #174EA6;\n",
              "      --disabled-fill-color: #AAA;\n",
              "      --disabled-bg-color: #DDD;\n",
              "  }\n",
              "\n",
              "  [theme=dark] .colab-df-quickchart {\n",
              "      --bg-color: #3B4455;\n",
              "      --fill-color: #D2E3FC;\n",
              "      --hover-bg-color: #434B5C;\n",
              "      --hover-fill-color: #FFFFFF;\n",
              "      --disabled-bg-color: #3B4455;\n",
              "      --disabled-fill-color: #666;\n",
              "  }\n",
              "\n",
              "  .colab-df-quickchart {\n",
              "    background-color: var(--bg-color);\n",
              "    border: none;\n",
              "    border-radius: 50%;\n",
              "    cursor: pointer;\n",
              "    display: none;\n",
              "    fill: var(--fill-color);\n",
              "    height: 32px;\n",
              "    padding: 0;\n",
              "    width: 32px;\n",
              "  }\n",
              "\n",
              "  .colab-df-quickchart:hover {\n",
              "    background-color: var(--hover-bg-color);\n",
              "    box-shadow: 0 1px 2px rgba(60, 64, 67, 0.3), 0 1px 3px 1px rgba(60, 64, 67, 0.15);\n",
              "    fill: var(--button-hover-fill-color);\n",
              "  }\n",
              "\n",
              "  .colab-df-quickchart-complete:disabled,\n",
              "  .colab-df-quickchart-complete:disabled:hover {\n",
              "    background-color: var(--disabled-bg-color);\n",
              "    fill: var(--disabled-fill-color);\n",
              "    box-shadow: none;\n",
              "  }\n",
              "\n",
              "  .colab-df-spinner {\n",
              "    border: 2px solid var(--fill-color);\n",
              "    border-color: transparent;\n",
              "    border-bottom-color: var(--fill-color);\n",
              "    animation:\n",
              "      spin 1s steps(1) infinite;\n",
              "  }\n",
              "\n",
              "  @keyframes spin {\n",
              "    0% {\n",
              "      border-color: transparent;\n",
              "      border-bottom-color: var(--fill-color);\n",
              "      border-left-color: var(--fill-color);\n",
              "    }\n",
              "    20% {\n",
              "      border-color: transparent;\n",
              "      border-left-color: var(--fill-color);\n",
              "      border-top-color: var(--fill-color);\n",
              "    }\n",
              "    30% {\n",
              "      border-color: transparent;\n",
              "      border-left-color: var(--fill-color);\n",
              "      border-top-color: var(--fill-color);\n",
              "      border-right-color: var(--fill-color);\n",
              "    }\n",
              "    40% {\n",
              "      border-color: transparent;\n",
              "      border-right-color: var(--fill-color);\n",
              "      border-top-color: var(--fill-color);\n",
              "    }\n",
              "    60% {\n",
              "      border-color: transparent;\n",
              "      border-right-color: var(--fill-color);\n",
              "    }\n",
              "    80% {\n",
              "      border-color: transparent;\n",
              "      border-right-color: var(--fill-color);\n",
              "      border-bottom-color: var(--fill-color);\n",
              "    }\n",
              "    90% {\n",
              "      border-color: transparent;\n",
              "      border-bottom-color: var(--fill-color);\n",
              "    }\n",
              "  }\n",
              "</style>\n",
              "\n",
              "  <script>\n",
              "    async function quickchart(key) {\n",
              "      const quickchartButtonEl =\n",
              "        document.querySelector('#' + key + ' button');\n",
              "      quickchartButtonEl.disabled = true;  // To prevent multiple clicks.\n",
              "      quickchartButtonEl.classList.add('colab-df-spinner');\n",
              "      try {\n",
              "        const charts = await google.colab.kernel.invokeFunction(\n",
              "            'suggestCharts', [key], {});\n",
              "      } catch (error) {\n",
              "        console.error('Error during call to suggestCharts:', error);\n",
              "      }\n",
              "      quickchartButtonEl.classList.remove('colab-df-spinner');\n",
              "      quickchartButtonEl.classList.add('colab-df-quickchart-complete');\n",
              "    }\n",
              "    (() => {\n",
              "      let quickchartButtonEl =\n",
              "        document.querySelector('#df-9aeb0170-c505-41d0-a7e9-2d255b9303b7 button');\n",
              "      quickchartButtonEl.style.display =\n",
              "        google.colab.kernel.accessAllowed ? 'block' : 'none';\n",
              "    })();\n",
              "  </script>\n",
              "</div>\n",
              "\n",
              "    </div>\n",
              "  </div>\n"
            ],
            "application/vnd.google.colaboratory.intrinsic+json": {
              "type": "dataframe",
              "variable_name": "raw"
            }
          },
          "metadata": {},
          "execution_count": 32
        }
      ],
      "source": [
        "raw = pd.read_json(resp.content.decode())\n",
        "print(raw.shape)\n",
        "raw.head()"
      ]
    },
    {
      "cell_type": "code",
      "execution_count": 33,
      "metadata": {
        "id": "gTxhtGjIPT1S",
        "outputId": "fc628696-60bb-4ab9-a56b-cb5de8a822f4",
        "colab": {
          "base_uri": "https://localhost:8080/"
        }
      },
      "outputs": [
        {
          "output_type": "stream",
          "name": "stderr",
          "text": [
            "[nltk_data] Downloading package stopwords to /root/nltk_data...\n",
            "[nltk_data]   Package stopwords is already up-to-date!\n",
            "[nltk_data] Downloading package wordnet to /root/nltk_data...\n",
            "[nltk_data]   Package wordnet is already up-to-date!\n",
            "[nltk_data] Downloading package punkt to /root/nltk_data...\n",
            "[nltk_data]   Package punkt is already up-to-date!\n",
            "[nltk_data] Downloading package averaged_perceptron_tagger to\n",
            "[nltk_data]     /root/nltk_data...\n",
            "[nltk_data]   Package averaged_perceptron_tagger is already up-to-\n",
            "[nltk_data]       date!\n"
          ]
        }
      ],
      "source": [
        "import pandas as pd\n",
        "pd.set_option('display.max_columns',200)\n",
        "pd.set_option('display.max_colwidth', 50)\n",
        "\n",
        "#https://www.nltk.org/\n",
        "import nltk\n",
        "nltk.download('stopwords')\n",
        "nltk.download('wordnet')\n",
        "nltk.download('punkt')\n",
        "nltk.download('averaged_perceptron_tagger')\n",
        "from nltk.tokenize import word_tokenize\n",
        "from nltk.corpus import stopwords\n",
        "stpwords = set(stopwords.words('english'))"
      ]
    },
    {
      "cell_type": "code",
      "source": [
        "len(raw)"
      ],
      "metadata": {
        "id": "j4DpieTbuOAT",
        "outputId": "3aa1e241-5268-430e-9d75-978f714eb2b0",
        "colab": {
          "base_uri": "https://localhost:8080/"
        }
      },
      "execution_count": 34,
      "outputs": [
        {
          "output_type": "execute_result",
          "data": {
            "text/plain": [
              "1993"
            ]
          },
          "metadata": {},
          "execution_count": 34
        }
      ]
    },
    {
      "cell_type": "markdown",
      "metadata": {
        "id": "DnEQdTsP1bqd"
      },
      "source": [
        "# 1. Goal: Reduce the list of topics below into subtopics\n"
      ]
    },
    {
      "cell_type": "code",
      "execution_count": 35,
      "metadata": {
        "colab": {
          "base_uri": "https://localhost:8080/"
        },
        "id": "U4h6vDKbPT1W",
        "outputId": "24114a34-3612-4e9f-c6ce-fc54df21b54a"
      },
      "outputs": [
        {
          "output_type": "execute_result",
          "data": {
            "text/plain": [
              "category\n",
              "Biosphere                  285\n",
              "Consumption                269\n",
              "Climate Change             244\n",
              "Energy Systems             208\n",
              "Natural Resources          178\n",
              "Sustainable Development    173\n",
              "Hydrosphere                150\n",
              "Renewable Energy           127\n",
              "Atmosphere                 126\n",
              "Emissions                   90\n",
              "Industrial Ecology          57\n",
              "Cryosphere                  51\n",
              "Energy Storage              35\n",
              "Name: count, dtype: int64"
            ]
          },
          "metadata": {},
          "execution_count": 35
        }
      ],
      "source": [
        "raw['category'].value_counts()"
      ]
    },
    {
      "cell_type": "code",
      "source": [
        "raw['sub_category'].value_counts()"
      ],
      "metadata": {
        "id": "rwjyvt8Ht_PY",
        "outputId": "9b09802f-575d-4039-e486-34f501b0f197",
        "colab": {
          "base_uri": "https://localhost:8080/"
        }
      },
      "execution_count": 36,
      "outputs": [
        {
          "output_type": "execute_result",
          "data": {
            "text/plain": [
              "sub_category\n",
              "Energy Modeling and Optimization            118\n",
              "Biodiversity and Species Distribution        84\n",
              "Water Supply                                 81\n",
              "Mobility and Transportation                  74\n",
              "Buildings and Heating                        70\n",
              "Soil and Land                                67\n",
              "Agriculture and Nutrition                    65\n",
              "Photovoltaics and Solar Energy               59\n",
              "Freshwater and Hydrology                     59\n",
              "Climate Data Processing and Analysis         57\n",
              "Forest Observation and Management            56\n",
              "Computation and Communication                55\n",
              "Meteorological Observation and Forecast      54\n",
              "Earth and Climate Modeling                   54\n",
              "Marine Life and Fishery                      50\n",
              "Emission Observation and Modeling            47\n",
              "Natural Hazard and Storm                     47\n",
              "Data Catalogs and Interfaces                 45\n",
              "Energy Distribution and Grids                43\n",
              "Climate Data Access and Visualization        43\n",
              "Wind Energy                                  42\n",
              "Conservation and Restoration                 33\n",
              "Ocean and Hydrology Data Access              32\n",
              "Curated Lists                                32\n",
              "Glacier and Ice Sheets                       31\n",
              "Air Quality                                  30\n",
              "Energy System Data Access                    30\n",
              "Knowledge Platforms                          28\n",
              "Atmospheric Composition and Dynamics         27\n",
              "Carbon Intensity and Accounting              27\n",
              "Battery                                      26\n",
              "Life Cycle Assessment                        25\n",
              "Environmental Satellites                     24\n",
              "Circular Economy and Waste                   24\n",
              "Sustainable Investment                       22\n",
              "Atmospheric Chemistry and Aerosol            21\n",
              "Plants and Vegetation                        21\n",
              "Integrated Assessment and Climate Policy     20\n",
              "Wildfire                                     19\n",
              "Ocean Circulation Models                     19\n",
              "Radiative Transfer                           17\n",
              "Coastal and Reefs                            17\n",
              "Energy Monitoring and Management             17\n",
              "Ocean Carbon and Temperature                 17\n",
              "Taxonomy and Ontology                        14\n",
              "Terrestrial Animals                          14\n",
              "Climate Downscaling                          13\n",
              "Hydro Energy                                 12\n",
              "Sea Ice                                      11\n",
              "Geothermal Energy                            11\n",
              "Climate Data Standards                       10\n",
              "Carbon Offsets and Trading                   10\n",
              "Hydrogen                                      9\n",
              "Snow and Permafrost                           9\n",
              "Sustainable Development Goals                 8\n",
              "Biomass                                       8\n",
              "Input Output Model                            8\n",
              "Atmospheric Dispersion and Transport          7\n",
              "Carbon Capture                                6\n",
              "Waves and Currents                            6\n",
              "Production and Industry                       5\n",
              "Bioenergy                                     3\n",
              "Name: count, dtype: int64"
            ]
          },
          "metadata": {},
          "execution_count": 36
        }
      ]
    },
    {
      "cell_type": "code",
      "source": [
        "# looking into Energy Systems\n",
        "raw[raw.category == 'Energy Systems'].sub_category.value_counts()"
      ],
      "metadata": {
        "id": "m76MZbg4TDx9",
        "outputId": "331dc33d-194e-46a7-f9d7-e98fa54153f1",
        "colab": {
          "base_uri": "https://localhost:8080/"
        }
      },
      "execution_count": 37,
      "outputs": [
        {
          "output_type": "execute_result",
          "data": {
            "text/plain": [
              "sub_category\n",
              "Energy Modeling and Optimization    118\n",
              "Energy Distribution and Grids        43\n",
              "Energy System Data Access            30\n",
              "Energy Monitoring and Management     17\n",
              "Name: count, dtype: int64"
            ]
          },
          "metadata": {},
          "execution_count": 37
        }
      ]
    },
    {
      "cell_type": "code",
      "execution_count": 38,
      "metadata": {
        "colab": {
          "base_uri": "https://localhost:8080/",
          "height": 206
        },
        "id": "JAEglWVRPT1W",
        "outputId": "6c92a439-7d39-47f2-a0a6-91924cb244d3"
      },
      "outputs": [
        {
          "output_type": "execute_result",
          "data": {
            "text/plain": [
              "         name                                        description        category                      sub_category                                              owner                                             readme\n",
              "0     cmocean  Colormap setup for standardizing commonly-plot...     Hydrosphere   Ocean and Hydrology Data Access  {'login': 'matplotlib', 'name': 'Matplotlib De...  cmocean\\n=======\\n\\n[![Build Status](https://i...\n",
              "1  TrapTagger         AI-Powered Camera-Trap Imagery Processing.       Biosphere               Terrestrial Animals  {'login': 'WildEyeConservation', 'name': 'Wild...  ![WildEye Conservation Logo](https://wildeyeco...\n",
              "2        OPEM  A modeling tool for evaluating the performance...  Energy Storage                          Hydrogen  {'login': 'ECSIM', 'name': 'ECSIM', 'uuid': '3...  <div align=\"center\">\\n<img src=\"https://github...\n",
              "3     climlab  A Python package for process-oriented climate ...  Climate Change        Earth and Climate Modeling  {'login': 'climlab', 'name': 'climlab', 'uuid'...  =======\\nclimlab\\n=======\\n\\n|docs| |JOSS| |DO...\n",
              "4        FINE  Provides a framework for modeling, optimizing ...  Energy Systems  Energy Modeling and Optimization  {'login': 'FZJ-IEK3-VSA', 'name': 'FZJ-IEK3', ...  <!-- markdownlint-disable line-length no-inlin..."
            ],
            "text/html": [
              "\n",
              "  <div id=\"df-8ffb4faf-4f76-4286-96a9-0c30b4d7b793\" class=\"colab-df-container\">\n",
              "    <div>\n",
              "<style scoped>\n",
              "    .dataframe tbody tr th:only-of-type {\n",
              "        vertical-align: middle;\n",
              "    }\n",
              "\n",
              "    .dataframe tbody tr th {\n",
              "        vertical-align: top;\n",
              "    }\n",
              "\n",
              "    .dataframe thead th {\n",
              "        text-align: right;\n",
              "    }\n",
              "</style>\n",
              "<table border=\"1\" class=\"dataframe\">\n",
              "  <thead>\n",
              "    <tr style=\"text-align: right;\">\n",
              "      <th></th>\n",
              "      <th>name</th>\n",
              "      <th>description</th>\n",
              "      <th>category</th>\n",
              "      <th>sub_category</th>\n",
              "      <th>owner</th>\n",
              "      <th>readme</th>\n",
              "    </tr>\n",
              "  </thead>\n",
              "  <tbody>\n",
              "    <tr>\n",
              "      <th>0</th>\n",
              "      <td>cmocean</td>\n",
              "      <td>Colormap setup for standardizing commonly-plot...</td>\n",
              "      <td>Hydrosphere</td>\n",
              "      <td>Ocean and Hydrology Data Access</td>\n",
              "      <td>{'login': 'matplotlib', 'name': 'Matplotlib De...</td>\n",
              "      <td>cmocean\\n=======\\n\\n[![Build Status](https://i...</td>\n",
              "    </tr>\n",
              "    <tr>\n",
              "      <th>1</th>\n",
              "      <td>TrapTagger</td>\n",
              "      <td>AI-Powered Camera-Trap Imagery Processing.</td>\n",
              "      <td>Biosphere</td>\n",
              "      <td>Terrestrial Animals</td>\n",
              "      <td>{'login': 'WildEyeConservation', 'name': 'Wild...</td>\n",
              "      <td>![WildEye Conservation Logo](https://wildeyeco...</td>\n",
              "    </tr>\n",
              "    <tr>\n",
              "      <th>2</th>\n",
              "      <td>OPEM</td>\n",
              "      <td>A modeling tool for evaluating the performance...</td>\n",
              "      <td>Energy Storage</td>\n",
              "      <td>Hydrogen</td>\n",
              "      <td>{'login': 'ECSIM', 'name': 'ECSIM', 'uuid': '3...</td>\n",
              "      <td>&lt;div align=\"center\"&gt;\\n&lt;img src=\"https://github...</td>\n",
              "    </tr>\n",
              "    <tr>\n",
              "      <th>3</th>\n",
              "      <td>climlab</td>\n",
              "      <td>A Python package for process-oriented climate ...</td>\n",
              "      <td>Climate Change</td>\n",
              "      <td>Earth and Climate Modeling</td>\n",
              "      <td>{'login': 'climlab', 'name': 'climlab', 'uuid'...</td>\n",
              "      <td>=======\\nclimlab\\n=======\\n\\n|docs| |JOSS| |DO...</td>\n",
              "    </tr>\n",
              "    <tr>\n",
              "      <th>4</th>\n",
              "      <td>FINE</td>\n",
              "      <td>Provides a framework for modeling, optimizing ...</td>\n",
              "      <td>Energy Systems</td>\n",
              "      <td>Energy Modeling and Optimization</td>\n",
              "      <td>{'login': 'FZJ-IEK3-VSA', 'name': 'FZJ-IEK3', ...</td>\n",
              "      <td>&lt;!-- markdownlint-disable line-length no-inlin...</td>\n",
              "    </tr>\n",
              "  </tbody>\n",
              "</table>\n",
              "</div>\n",
              "    <div class=\"colab-df-buttons\">\n",
              "\n",
              "  <div class=\"colab-df-container\">\n",
              "    <button class=\"colab-df-convert\" onclick=\"convertToInteractive('df-8ffb4faf-4f76-4286-96a9-0c30b4d7b793')\"\n",
              "            title=\"Convert this dataframe to an interactive table.\"\n",
              "            style=\"display:none;\">\n",
              "\n",
              "  <svg xmlns=\"http://www.w3.org/2000/svg\" height=\"24px\" viewBox=\"0 -960 960 960\">\n",
              "    <path d=\"M120-120v-720h720v720H120Zm60-500h600v-160H180v160Zm220 220h160v-160H400v160Zm0 220h160v-160H400v160ZM180-400h160v-160H180v160Zm440 0h160v-160H620v160ZM180-180h160v-160H180v160Zm440 0h160v-160H620v160Z\"/>\n",
              "  </svg>\n",
              "    </button>\n",
              "\n",
              "  <style>\n",
              "    .colab-df-container {\n",
              "      display:flex;\n",
              "      gap: 12px;\n",
              "    }\n",
              "\n",
              "    .colab-df-convert {\n",
              "      background-color: #E8F0FE;\n",
              "      border: none;\n",
              "      border-radius: 50%;\n",
              "      cursor: pointer;\n",
              "      display: none;\n",
              "      fill: #1967D2;\n",
              "      height: 32px;\n",
              "      padding: 0 0 0 0;\n",
              "      width: 32px;\n",
              "    }\n",
              "\n",
              "    .colab-df-convert:hover {\n",
              "      background-color: #E2EBFA;\n",
              "      box-shadow: 0px 1px 2px rgba(60, 64, 67, 0.3), 0px 1px 3px 1px rgba(60, 64, 67, 0.15);\n",
              "      fill: #174EA6;\n",
              "    }\n",
              "\n",
              "    .colab-df-buttons div {\n",
              "      margin-bottom: 4px;\n",
              "    }\n",
              "\n",
              "    [theme=dark] .colab-df-convert {\n",
              "      background-color: #3B4455;\n",
              "      fill: #D2E3FC;\n",
              "    }\n",
              "\n",
              "    [theme=dark] .colab-df-convert:hover {\n",
              "      background-color: #434B5C;\n",
              "      box-shadow: 0px 1px 3px 1px rgba(0, 0, 0, 0.15);\n",
              "      filter: drop-shadow(0px 1px 2px rgba(0, 0, 0, 0.3));\n",
              "      fill: #FFFFFF;\n",
              "    }\n",
              "  </style>\n",
              "\n",
              "    <script>\n",
              "      const buttonEl =\n",
              "        document.querySelector('#df-8ffb4faf-4f76-4286-96a9-0c30b4d7b793 button.colab-df-convert');\n",
              "      buttonEl.style.display =\n",
              "        google.colab.kernel.accessAllowed ? 'block' : 'none';\n",
              "\n",
              "      async function convertToInteractive(key) {\n",
              "        const element = document.querySelector('#df-8ffb4faf-4f76-4286-96a9-0c30b4d7b793');\n",
              "        const dataTable =\n",
              "          await google.colab.kernel.invokeFunction('convertToInteractive',\n",
              "                                                    [key], {});\n",
              "        if (!dataTable) return;\n",
              "\n",
              "        const docLinkHtml = 'Like what you see? Visit the ' +\n",
              "          '<a target=\"_blank\" href=https://colab.research.google.com/notebooks/data_table.ipynb>data table notebook</a>'\n",
              "          + ' to learn more about interactive tables.';\n",
              "        element.innerHTML = '';\n",
              "        dataTable['output_type'] = 'display_data';\n",
              "        await google.colab.output.renderOutput(dataTable, element);\n",
              "        const docLink = document.createElement('div');\n",
              "        docLink.innerHTML = docLinkHtml;\n",
              "        element.appendChild(docLink);\n",
              "      }\n",
              "    </script>\n",
              "  </div>\n",
              "\n",
              "\n",
              "<div id=\"df-74208b54-05c2-4481-8e46-db10d253675b\">\n",
              "  <button class=\"colab-df-quickchart\" onclick=\"quickchart('df-74208b54-05c2-4481-8e46-db10d253675b')\"\n",
              "            title=\"Suggest charts\"\n",
              "            style=\"display:none;\">\n",
              "\n",
              "<svg xmlns=\"http://www.w3.org/2000/svg\" height=\"24px\"viewBox=\"0 0 24 24\"\n",
              "     width=\"24px\">\n",
              "    <g>\n",
              "        <path d=\"M19 3H5c-1.1 0-2 .9-2 2v14c0 1.1.9 2 2 2h14c1.1 0 2-.9 2-2V5c0-1.1-.9-2-2-2zM9 17H7v-7h2v7zm4 0h-2V7h2v10zm4 0h-2v-4h2v4z\"/>\n",
              "    </g>\n",
              "</svg>\n",
              "  </button>\n",
              "\n",
              "<style>\n",
              "  .colab-df-quickchart {\n",
              "      --bg-color: #E8F0FE;\n",
              "      --fill-color: #1967D2;\n",
              "      --hover-bg-color: #E2EBFA;\n",
              "      --hover-fill-color: #174EA6;\n",
              "      --disabled-fill-color: #AAA;\n",
              "      --disabled-bg-color: #DDD;\n",
              "  }\n",
              "\n",
              "  [theme=dark] .colab-df-quickchart {\n",
              "      --bg-color: #3B4455;\n",
              "      --fill-color: #D2E3FC;\n",
              "      --hover-bg-color: #434B5C;\n",
              "      --hover-fill-color: #FFFFFF;\n",
              "      --disabled-bg-color: #3B4455;\n",
              "      --disabled-fill-color: #666;\n",
              "  }\n",
              "\n",
              "  .colab-df-quickchart {\n",
              "    background-color: var(--bg-color);\n",
              "    border: none;\n",
              "    border-radius: 50%;\n",
              "    cursor: pointer;\n",
              "    display: none;\n",
              "    fill: var(--fill-color);\n",
              "    height: 32px;\n",
              "    padding: 0;\n",
              "    width: 32px;\n",
              "  }\n",
              "\n",
              "  .colab-df-quickchart:hover {\n",
              "    background-color: var(--hover-bg-color);\n",
              "    box-shadow: 0 1px 2px rgba(60, 64, 67, 0.3), 0 1px 3px 1px rgba(60, 64, 67, 0.15);\n",
              "    fill: var(--button-hover-fill-color);\n",
              "  }\n",
              "\n",
              "  .colab-df-quickchart-complete:disabled,\n",
              "  .colab-df-quickchart-complete:disabled:hover {\n",
              "    background-color: var(--disabled-bg-color);\n",
              "    fill: var(--disabled-fill-color);\n",
              "    box-shadow: none;\n",
              "  }\n",
              "\n",
              "  .colab-df-spinner {\n",
              "    border: 2px solid var(--fill-color);\n",
              "    border-color: transparent;\n",
              "    border-bottom-color: var(--fill-color);\n",
              "    animation:\n",
              "      spin 1s steps(1) infinite;\n",
              "  }\n",
              "\n",
              "  @keyframes spin {\n",
              "    0% {\n",
              "      border-color: transparent;\n",
              "      border-bottom-color: var(--fill-color);\n",
              "      border-left-color: var(--fill-color);\n",
              "    }\n",
              "    20% {\n",
              "      border-color: transparent;\n",
              "      border-left-color: var(--fill-color);\n",
              "      border-top-color: var(--fill-color);\n",
              "    }\n",
              "    30% {\n",
              "      border-color: transparent;\n",
              "      border-left-color: var(--fill-color);\n",
              "      border-top-color: var(--fill-color);\n",
              "      border-right-color: var(--fill-color);\n",
              "    }\n",
              "    40% {\n",
              "      border-color: transparent;\n",
              "      border-right-color: var(--fill-color);\n",
              "      border-top-color: var(--fill-color);\n",
              "    }\n",
              "    60% {\n",
              "      border-color: transparent;\n",
              "      border-right-color: var(--fill-color);\n",
              "    }\n",
              "    80% {\n",
              "      border-color: transparent;\n",
              "      border-right-color: var(--fill-color);\n",
              "      border-bottom-color: var(--fill-color);\n",
              "    }\n",
              "    90% {\n",
              "      border-color: transparent;\n",
              "      border-bottom-color: var(--fill-color);\n",
              "    }\n",
              "  }\n",
              "</style>\n",
              "\n",
              "  <script>\n",
              "    async function quickchart(key) {\n",
              "      const quickchartButtonEl =\n",
              "        document.querySelector('#' + key + ' button');\n",
              "      quickchartButtonEl.disabled = true;  // To prevent multiple clicks.\n",
              "      quickchartButtonEl.classList.add('colab-df-spinner');\n",
              "      try {\n",
              "        const charts = await google.colab.kernel.invokeFunction(\n",
              "            'suggestCharts', [key], {});\n",
              "      } catch (error) {\n",
              "        console.error('Error during call to suggestCharts:', error);\n",
              "      }\n",
              "      quickchartButtonEl.classList.remove('colab-df-spinner');\n",
              "      quickchartButtonEl.classList.add('colab-df-quickchart-complete');\n",
              "    }\n",
              "    (() => {\n",
              "      let quickchartButtonEl =\n",
              "        document.querySelector('#df-74208b54-05c2-4481-8e46-db10d253675b button');\n",
              "      quickchartButtonEl.style.display =\n",
              "        google.colab.kernel.accessAllowed ? 'block' : 'none';\n",
              "    })();\n",
              "  </script>\n",
              "</div>\n",
              "\n",
              "    </div>\n",
              "  </div>\n"
            ],
            "application/vnd.google.colaboratory.intrinsic+json": {
              "type": "dataframe",
              "variable_name": "df",
              "summary": "{\n  \"name\": \"df\",\n  \"rows\": 1993,\n  \"fields\": [\n    {\n      \"column\": \"name\",\n      \"properties\": {\n        \"dtype\": \"string\",\n        \"num_unique_values\": 1985,\n        \"samples\": [\n          \"A-Profiles\",\n          \"mHM\",\n          \"Surfrider Plastic Origins\"\n        ],\n        \"semantic_type\": \"\",\n        \"description\": \"\"\n      }\n    },\n    {\n      \"column\": \"description\",\n      \"properties\": {\n        \"dtype\": \"string\",\n        \"num_unique_values\": 1990,\n        \"samples\": [\n          \"Aims to provide simple functions for creating data for conducting a spatial conservation prioritization for large scale areas of the ocean, specifically offshore areas.\",\n          \"Routines used by the USGS Coastal/Marine Hazards & Resources Program to process oceanographic time-series data.\",\n          \"Extracting and quantifying graphical representations of river and delta channel networks from binary masks.\"\n        ],\n        \"semantic_type\": \"\",\n        \"description\": \"\"\n      }\n    },\n    {\n      \"column\": \"category\",\n      \"properties\": {\n        \"dtype\": \"category\",\n        \"num_unique_values\": 13,\n        \"samples\": [\n          \"Consumption\",\n          \"Industrial Ecology\",\n          \"Hydrosphere\"\n        ],\n        \"semantic_type\": \"\",\n        \"description\": \"\"\n      }\n    },\n    {\n      \"column\": \"sub_category\",\n      \"properties\": {\n        \"dtype\": \"category\",\n        \"num_unique_values\": 62,\n        \"samples\": [\n          \"Atmospheric Composition and Dynamics\",\n          \"Battery\",\n          \"Ocean and Hydrology Data Access\"\n        ],\n        \"semantic_type\": \"\",\n        \"description\": \"\"\n      }\n    },\n    {\n      \"column\": \"owner\",\n      \"properties\": {\n        \"dtype\": \"object\",\n        \"semantic_type\": \"\",\n        \"description\": \"\"\n      }\n    },\n    {\n      \"column\": \"readme\",\n      \"properties\": {\n        \"dtype\": \"string\",\n        \"num_unique_values\": 1890,\n        \"samples\": [\n          \".. image:: https://eodag.readthedocs.io/en/latest/_static/eodag_bycs.png\\n    :target: https://github.com/CS-SI/eodag\\n\\n|\\n\\n.. |pypi-badge| image:: https://badge.fury.io/py/eodag.svg\\n    :target: https://badge.fury.io/py/eodag\\n\\n.. |conda-badge| image:: https://img.shields.io/conda/vn/conda-forge/eodag\\n    :target: https://anaconda.org/conda-forge/eodag\\n\\n.. |rtd-badge| image:: https://readthedocs.org/projects/eodag/badge/?version=latest&style=flat\\n    :target: https://eodag.readthedocs.io/en/latest/\\n\\n.. |gha-badge| image:: https://github.com/CS-SI/eodag/actions/workflows/test.yml/badge.svg\\n    :target: https://github.com/CS-SI/eodag/actions\\n\\n.. |ghi-badge| image:: https://img.shields.io/github/issues/CS-SI/eodag.svg\\n    :target: https://github.com/CS-SI/eodag/issues\\n\\n.. |binder-badge| image:: https://mybinder.org/badge_logo.svg\\n    :target: https://mybinder.org/v2/git/https%3A%2F%2Fgithub.com%2FCS-SI%2Feodag.git/master?filepath=docs%2Fnotebooks%2Fintro_notebooks.ipynb\\n\\n|pypi-badge| |conda-badge| |rtd-badge| |gha-badge| |ghi-badge| |binder-badge|\\n\\n|\\n\\n.. |license-badge| image:: https://img.shields.io/pypi/l/eodag.svg\\n    :target: https://pypi.org/project/eodag/\\n\\n.. |versions-badge| image:: https://img.shields.io/pypi/pyversions/eodag.svg\\n    :target: https://pypi.org/project/eodag/\\n\\n|license-badge| |versions-badge|\\n\\n|\\n\\n..\\n\\n    Checkout **EODAG Jupyterlab extension**: `eodag-labextension <https://github.com/CS-SI/eodag-labextension>`_!\\n    This will bring a friendly UI to your notebook and help you search and browse for EO products using ``eodag``.\\n\\nEODAG (Earth Observation Data Access Gateway) is a command line tool and a plugin-oriented Python framework for searching,\\naggregating results and downloading remote sensed images while offering a unified API for data access regardless of the\\ndata provider. The EODAG SDK is structured around three functions:\\n\\n* List product types: list of supported products and their description\\n\\n* Search products (by product type or uid) : searches products according to the search criteria provided\\n\\n* Download products : download product \\u201cas is\\\"\\n\\nEODAG is developed in Python. It is structured according to a modular plugin architecture, easily extensible and able to\\nintegrate new data providers. Three types of plugins compose the tool:\\n\\n* Catalog search plugins, responsible for searching data (OpenSearch, CSW, ...), building paths, retrieving quicklook,\\n  combining results\\n\\n* Download plugins, allowing to download and retrieve data locally (via FTP, HTTP, ..), always with the same directory\\n  organization\\n\\n* Authentication plugins, which are used to authenticate the user on the external services used (JSON Token, Basic Auth, OAUTH, ...).\\n\\nSince v2.0 EODAG can be run as `STAC client or server <https://eodag.readthedocs.io/en/latest/stac.html>`_.\\n\\nRead `the documentation <https://eodag.readthedocs.io/en/latest/>`_ for more insights.\\n\\n.. image:: https://raw.githubusercontent.com/CS-SI/eodag/develop/docs/_static/eodag_overview.png\\n   :alt: EODAG overview\\n   :class: no-scaled-link\\n\\nInstallation\\n============\\n\\nEODAG is available on `PyPI <https://pypi.org/project/eodag/>`_:\\n\\n.. code-block:: bash\\n\\n   python -m pip install eodag\\n\\nAnd with ``conda`` from the `conda-forge channel <https://anaconda.org/conda-forge/eodag>`_:\\n\\n.. code-block:: bash\\n\\n   conda install -c conda-forge eodag\\n\\n**[New in v3.0.0]** Please note that EODAG comes with a minimal set of dependencies. If you want more features, please install using one of\\nthe `available extras <https://eodag.readthedocs.io/en/latest/getting_started_guide/install.html#optional-dependencies>`_.\\n\\nUsage\\n=====\\n\\nFor downloading you will need to fill your credentials for the desired providers in your\\n`eodag user configuration file <https://eodag.readthedocs.io/en/latest/getting_started_guide/configure.html>`_.\\nThe file will automatically be created with empty values on the first run.\\n\\nPython API\\n----------\\n\\nExample usage for interacting with the api in your Python code:\\n\\n.. code-block:: python\\n\\n    from eodag import EODataAccessGateway\\n\\n    dag = EODataAccessGateway()\\n\\n    search_results = dag.search(\\n        productType='S2_MSI_L1C',\\n        geom={'lonmin': 1, 'latmin': 43.5, 'lonmax': 2, 'latmax': 44}, # accepts WKT polygons, shapely.geometry, ...\\n        start='2021-01-01',\\n        end='2021-01-15'\\n    )\\n\\n    product_paths = dag.download_all(search_results)\\n\\n\\nThis will search for Sentinel 2 level-1C products on the default provider and return the found products first page and\\nan estimated total number of products matching the search criteria. And then it will download these products. Please\\ncheck the `Python API User Guide <https://eodag.readthedocs.io/en/latest/api_user_guide.html>`_ for more details.\\n\\n**[New in v3.0.0]** `search() <https://eodag.readthedocs.io/en/latest/notebooks/api_user_guide/4_search.html#search()>`_\\nmethod now returns only a single ``SearchResult`` instead of a 2 values tuple.\\n\\nSTAC REST API\\n-------------\\n\\nAn eodag instance can be exposed through a STAC compliant REST api from the command line (``eodag[server]`` needed):\\n\\n.. code-block:: bash\\n\\n    $ eodag serve-rest --help\\n    Usage: eodag serve-rest [OPTIONS]\\n\\n      Start eodag HTTP server\\n\\n      Set EODAG_CORS_ALLOWED_ORIGINS environment variable to configure Cross-\\n      Origin Resource Sharing allowed origins as comma-separated URLs (e.g.\\n      'http://somewhere,htttp://somewhere.else').\\n\\n    Options:\\n      -f, --config PATH   File path to the user configuration file with its\\n                          credentials, default is ~/.config/eodag/eodag.yml\\n      -l, --locs PATH     File path to the location shapefiles configuration file\\n      -d, --daemon        run in daemon mode\\n      -w, --world         run uvicorn using IPv4 0.0.0.0 (all network interfaces),\\n                          otherwise bind to 127.0.0.1 (localhost).\\n      -p, --port INTEGER  The port on which to listen  [default: 5000]\\n      --debug             Run in debug mode (for development purpose)\\n      --help              Show this message and exit.\\n\\n    # run server\\n    $ eodag serve-rest\\n\\n    # list available product types for ``peps`` provider:\\n    $ curl \\\"http://127.0.0.1:5000/collections?provider=peps\\\" | jq \\\".collections[].id\\\"\\n    \\\"S1_SAR_GRD\\\"\\n    \\\"S1_SAR_OCN\\\"\\n    \\\"S1_SAR_SLC\\\"\\n    \\\"S2_MSI_L1C\\\"\\n    \\\"S2_MSI_L2A\\\"\\n\\n    # search for items\\n    $ curl \\\"http://127.0.0.1:5000/search?collections=S2_MSI_L1C&bbox=0,43,1,44&datetime=2018-01-20/2018-01-25\\\" \\\\\\n    | jq \\\".numberMatched\\\"\\n    6\\n\\n    # browse for items\\n    $ curl \\\"http://127.0.0.1:5000/catalogs/S2_MSI_L1C/country/FRA/year/2021/month/01/day/25/cloud_cover/10/items\\\" \\\\\\n    | jq \\\".numberMatched\\\"\\n    9\\n\\n    # get download link\\n    $ curl \\\"http://127.0.0.1:5000/catalogs/S2_MSI_L1C/country/FRA/year/2021/month/01/day/25/cloud_cover/10/items\\\" \\\\\\n    | jq \\\".features[0].assets.downloadLink.href\\\"\\n    \\\"http://127.0.0.1:5000/catalogs/S2_MSI_L1C/country/FRA/year/2021/month/01/day/25/cloud_cover/10/items/S2A_MSIL1C_20210125T105331_N0209_R051_T31UCR_20210125T130733/download\\\"\\n\\n    # download\\n    $ wget \\\"http://127.0.0.1:5000/catalogs/S2_MSI_L1C/country/FRA/year/2021/month/01/day/25/cloud_cover/10/items/S2A_MSIL1C_20210125T105331_N0209_R051_T31UCR_20210125T130733/download\\\"\\n\\n\\n``eodag-server`` is available on `https://hub.docker.com/r/csspace/eodag-server <https://hub.docker.com/r/csspace/eodag-server>`_:\\n\\n.. code-block:: bash\\n\\n    docker run -p 5000:5000 --rm csspace/eodag-server:3.0.0b2\\n\\nYou can also browse over your STAC API server using `STAC Browser <https://github.com/radiantearth/stac-browser>`_.\\nSimply run:\\n\\n.. code-block:: bash\\n\\n    git clone https://github.com/CS-SI/eodag.git\\n    cd eodag\\n    docker-compose up\\n    # or for a more verbose logging:\\n    EODAG_LOGGING=3 docker-compose up\\n\\nAnd browse http://127.0.0.1:5001:\\n\\n.. image:: https://raw.githubusercontent.com/CS-SI/eodag/develop/docs/_static/stac_browser_example_600.png\\n   :target: https://raw.githubusercontent.com/CS-SI/eodag/develop/docs/_static/stac_browser_example.png\\n   :alt: STAC browser example\\n   :width: 600px\\n\\n\\nFor more information, see `STAC REST API usage <https://eodag.readthedocs.io/en/latest/stac_rest.html>`_.\\n\\nCommand line interface\\n----------------------\\n\\nStart playing with the CLI:\\n\\n- To search for some products::\\n\\n     eodag search --productType S2_MSI_L1C --box 1 43 2 44 --start 2021-03-01 --end 2021-03-31\\n\\n  The request above searches for ``S2_MSI_L1C`` product types in a given bounding box, in March 2021. It saves the results in a GeoJSON file (``search_results.geojson`` by default).\\n\\n  Results are paginated, you may want to get all pages at once with ``--all``, or search products having 20% of maximum coud cover with ``--cloudCover 20``. For more information on available options::\\n\\n     eodag search --help\\n\\n- To download the result of the previous call to search::\\n\\n     eodag download --search-results search_results.geojson\\n\\n- To download only the result quicklooks of the previous call to search::\\n\\n     eodag download --quicklooks --search-results search_results.geojson\\n\\n- To list all available product types and supported providers::\\n\\n     eodag list\\n\\n- To list available product types on a specified supported provider::\\n\\n     eodag list -p creodias\\n\\n- To see all the available options and commands::\\n\\n     eodag --help\\n\\n- To print log messages, add ``-v`` to eodag master command. e.g. ``eodag -v list``. The more ``v`` given (up to 3), the more verbose the tool is. For a full verbose output, do for example: ``eodag -vvv list``\\n\\nContribute\\n==========\\n\\nHave you spotted a typo in our documentation? Have you observed a bug while running EODAG?\\nDo you have a suggestion for a new feature?\\n\\nDon't hesitate and open an issue or submit a pull request, contributions are most welcome!\\n\\nFor guidance on setting up a development environment and how to make a\\ncontribution to eodag, see the `contributing guidelines`_.\\n\\n.. _contributing guidelines: https://github.com/CS-SI/eodag/blob/develop/CONTRIBUTING.rst\\n\\n\\nLicense\\n=======\\n\\nEODAG is licensed under Apache License v2.0.\\nSee LICENSE file for details.\\n\\n\\nAuthors\\n=======\\n\\nEODAG has been created by `CS GROUP - France <https://www.csgroup.eu/>`_.\\n\\n\\nCredits\\n=======\\n\\nEODAG is built on top of amazingly useful open source projects. See NOTICE file for details about those projects and\\ntheir licenses.\\nThank you to all the authors of these projects!\\n\",\n          \"![Screenshot](https://github.com/chriswmackey/Dragonfly/blob/master/dragonfly.png)\\n\\nDragonfly for Grasshopper\\n========================================\\nDragonfly allows users to model large-scale climate phenomena such as [urban heat island](https://github.com/chriswmackey/Dragonfly/wiki/Urban-Heat-Island).  Dragonfly intends\\nto make many large-scale climate variables accessible to CAD interfaces and the other insects of [Ladybug Tools](https://github.com/ladybug-tools).\\n\\nDragonfly uses the [Urban Weather Generator (uwg)](https://github.com/ladybug-tools/urbanWeatherGen), [Ladybug (legacy version)](https://github.com/mostaphaRoudsari/Ladybug) and ENVI_MET 5.<br/>\\n\\nCode of Envimet components: [df_envimet](https://github.com/AntonelloDN/df_envimet).\\n\\n\\nInstallation\\n========================================\\n[See requirements and installation instructions on our Wiki pages](https://github.com/chriswmackey/Dragonfly/wiki)\\n\\n\\nContributors (in alphabetical order):\\n========================================\\n\\n[Anna Song](https://github.com/annasong20)\\n\\n[Antonello Di Nunzio](https://github.com/antonellodn)\\n\\n[Chris Mackey](https://github.com/chriswmackey)\\n\\n[Joseph Yang](https://github.com/hansukyang)\\n\\n[Mostapha Roudsari](https://github.com/mostapharoudsari)\\n\\n[Saeran Vasanthakumar](https://github.com/saeranv)\\n\\n\\nMany thanks are due to the [Urban Microclimate Group at MIT](http://urbanmicroclimate.scripts.mit.edu/index.php) and Bruno Bueno et al.,\\nwho initially [developed the Urban Weather Generator for his PhD thesis](https://dspace.mit.edu/handle/1721.1/59107).\\n\",\n          \"![builds](https://github.com/danforthcenter/plantcv/workflows/builds/badge.svg)\\n[![DeepSource](https://app.deepsource.com/gh/danforthcenter/plantcv.svg/?label=code+coverage&show_trend=true&token=og8rSyKxywOCGkIk8UNiF7B_)](https://app.deepsource.com/gh/danforthcenter/plantcv/)\\n[![DeepSource](https://app.deepsource.com/gh/danforthcenter/plantcv.svg/?label=active+issues&show_trend=true&token=og8rSyKxywOCGkIk8UNiF7B_)](https://app.deepsource.com/gh/danforthcenter/plantcv/)\\n[![Documentation Status](https://readthedocs.org/projects/plantcv/badge/?version=stable)](https://plantcv.readthedocs.io/en/stable/?badge=stable)\\n[![Binder](https://mybinder.org/badge_logo.svg)](https://mybinder.org/v2/gh/danforthcenter/plantcv-binder.git/master?filepath=index.ipynb)\\n[![Docker Pulls](https://img.shields.io/docker/pulls/danforthcenter/plantcv.svg)](https://hub.docker.com/r/danforthcenter/plantcv/)\\n[![GitHub release](https://img.shields.io/github/release/danforthcenter/plantcv.svg)](https://github.com/danforthcenter/plantcv/releases)\\n[![PyPI version](https://badge.fury.io/py/plantcv.svg)](https://badge.fury.io/py/plantcv)\\n![Conda](https://img.shields.io/conda/v/conda-forge/plantcv)\\n[![license](https://img.shields.io/github/license/danforthcenter/plantcv.svg)](https://github.com/danforthcenter/plantcv/blob/main/LICENSE)\\n[![Contributor Covenant](https://img.shields.io/badge/Contributor%20Covenant-2.1-4baaaa.svg)](docs/CODE_OF_CONDUCT.md)\\n<!-- ALL-CONTRIBUTORS-BADGE:START - Do not remove or modify this section -->\\n[![All Contributors](https://img.shields.io/badge/all_contributors-54-orange.svg?style=flat-square)](#contributors-)\\n<!-- ALL-CONTRIBUTORS-BADGE:END -->\\n\\n# PlantCV: Plant phenotyping using computer vision\\n\\nPlease use, cite, and [contribute to](http://plantcv.readthedocs.io/en/latest/CONTRIBUTING/) PlantCV!\\nIf you have questions, please submit them via the\\n[GitHub issues page](https://github.com/danforthcenter/plantcv/issues).\\nFollow us on twitter [@plantcv](https://twitter.com/plantcv).\\n\\n***\\n\\n## Introduction to PlantCV\\n\\nPlantCV is an open-source image analysis software package targeted for plant phenotyping. PlantCV provides a common\\nprogramming and documentation interface to a collection of image analysis techniques that are integrated from a variety\\nof source packages and algorithms. PlantCV utilizes a modular architecture that enables flexibility in the design of\\nanalysis workflows and rapid assimilation and integration of new methods. For more information about the project,\\nlinks to recorded presentations, and publications using PlantCV, please visit our homepage: \\n<https://plantcv.danforthcenter.org/>.\\n\\n### Quick Links\\n\\n* [Documentation](http://plantcv.readthedocs.io/)\\n* [Interactive Documentation](https://mybinder.org/v2/gh/danforthcenter/plantcv-binder.git/master?filepath=index.ipynb)\\n* [Installation Instructions](https://plantcv.readthedocs.io/en/stable/installation/)\\n* [Updating/Changelog](https://plantcv.readthedocs.io/en/stable/updating/)\\n* [Public Image Datasets](http://plantcv.danforthcenter.org/pages/data.html)\\n* [Contribution Guide](https://plantcv.readthedocs.io/en/stable/CONTRIBUTING/)\\n* [Code of Conduct](https://plantcv.readthedocs.io/en/stable/CODE_OF_CONDUCT/)\\n* Downloads\\n  * [GitHub](https://github.com/danforthcenter/plantcv)\\n  * [PyPI](https://pypi.org/project/plantcv/)\\n  * [Conda-forge](https://anaconda.org/conda-forge/plantcv)\\n  * [Docker](https://hub.docker.com/r/danforthcenter/plantcv)\\n  * [Zenodo](https://doi.org/10.5281/zenodo.595522)\\n\\n### Citing PlantCV\\n\\nIf you use PlantCV, please cite the [PlantCV publications](https://plantcv.danforthcenter.org/#plantcv-publications)\\nrelevant to your work. To see how others have used PlantCV in their research, check out our list of \\n[publications using PlantCV](https://plantcv.danforthcenter.org/#publications-using-plantcv).\\n\\n***\\n\\n## Issues with PlantCV\\n\\nPlease file any PlantCV suggestions/issues/bugs via our \\n[GitHub issues page](https://github.com/danforthcenter/plantcv/issues). Please check to see if any related \\nissues have already been filed.\\n\\n***\\n\\n## Contributors\\n\\n<!-- ALL-CONTRIBUTORS-LIST:START - Do not remove or modify this section -->\\n<!-- prettier-ignore-start -->\\n<!-- markdownlint-disable -->\\n<table>\\n  <tbody>\\n    <tr>\\n      <td align=\\\"center\\\" valign=\\\"top\\\" width=\\\"14.28%\\\"><a href=\\\"https://github.com/AFis-245\\\"><img src=\\\"https://avatars.githubusercontent.com/u/145135602?v=4?s=100\\\" width=\\\"100px;\\\" alt=\\\"AFis-245\\\"/><br /><sub><b>AFis-245</b></sub></a><br /><a href=\\\"https://github.com/danforthcenter/plantcv/commits?author=AFis-245\\\" title=\\\"Code\\\">\\ud83d\\udcbb</a></td>\\n      <td align=\\\"center\\\" valign=\\\"top\\\" width=\\\"14.28%\\\"><a href=\\\"https://www.adonline.id.au/\\\"><img src=\\\"https://avatars.githubusercontent.com/u/5926320?v=4?s=100\\\" width=\\\"100px;\\\" alt=\\\"Adam Dimech\\\"/><br /><sub><b>Adam Dimech</b></sub></a><br /><a href=\\\"https://github.com/danforthcenter/plantcv/commits?author=AdamDimech\\\" title=\\\"Code\\\">\\ud83d\\udcbb</a> <a href=\\\"https://github.com/danforthcenter/plantcv/commits?author=AdamDimech\\\" title=\\\"Documentation\\\">\\ud83d\\udcd6</a> <a href=\\\"https://github.com/danforthcenter/plantcv/commits?author=AdamDimech\\\" title=\\\"Tests\\\">\\u26a0\\ufe0f</a> <a href=\\\"#ideas-AdamDimech\\\" title=\\\"Ideas, Planning, & Feedback\\\">\\ud83e\\udd14</a></td>\\n      <td align=\\\"center\\\" valign=\\\"top\\\" width=\\\"14.28%\\\"><a href=\\\"https://alexanderkutschera.com/\\\"><img src=\\\"https://avatars.githubusercontent.com/u/20026476?v=4?s=100\\\" width=\\\"100px;\\\" alt=\\\"Alexander Kutschera\\\"/><br /><sub><b>Alexander Kutschera</b></sub></a><br /><a href=\\\"https://github.com/danforthcenter/plantcv/commits?author=vektorious\\\" title=\\\"Code\\\">\\ud83d\\udcbb</a> <a href=\\\"https://github.com/danforthcenter/plantcv/commits?author=vektorious\\\" title=\\\"Documentation\\\">\\ud83d\\udcd6</a> <a href=\\\"https://github.com/danforthcenter/plantcv/commits?author=vektorious\\\" title=\\\"Tests\\\">\\u26a0\\ufe0f</a></td>\\n      <td align=\\\"center\\\" valign=\\\"top\\\" width=\\\"14.28%\\\"><a href=\\\"https://github.com/aapokor\\\"><img src=\\\"https://avatars.githubusercontent.com/u/39534960?v=4?s=100\\\" width=\\\"100px;\\\" alt=\\\"Alexandria Pokorny\\\"/><br /><sub><b>Alexandria Pokorny</b></sub></a><br /><a href=\\\"https://github.com/danforthcenter/plantcv/commits?author=aapokor\\\" title=\\\"Code\\\">\\ud83d\\udcbb</a> <a href=\\\"https://github.com/danforthcenter/plantcv/commits?author=aapokor\\\" title=\\\"Documentation\\\">\\ud83d\\udcd6</a> <a href=\\\"https://github.com/danforthcenter/plantcv/commits?author=aapokor\\\" title=\\\"Tests\\\">\\u26a0\\ufe0f</a></td>\\n      <td align=\\\"center\\\" valign=\\\"top\\\" width=\\\"14.28%\\\"><a href=\\\"https://github.com/AzlinII\\\"><img src=\\\"https://avatars.githubusercontent.com/u/15007726?v=4?s=100\\\" width=\\\"100px;\\\" alt=\\\"Andy Lin\\\"/><br /><sub><b>Andy Lin</b></sub></a><br /><a href=\\\"https://github.com/danforthcenter/plantcv/commits?author=AzlinII\\\" title=\\\"Code\\\">\\ud83d\\udcbb</a></td>\\n      <td align=\\\"center\\\" valign=\\\"top\\\" width=\\\"14.28%\\\"><a href=\\\"http://calizarr.github.io/resume\\\"><img src=\\\"https://avatars.githubusercontent.com/u/3262069?v=4?s=100\\\" width=\\\"100px;\\\" alt=\\\"Cesar Lizarraga\\\"/><br /><sub><b>Cesar Lizarraga</b></sub></a><br /><a href=\\\"https://github.com/danforthcenter/plantcv/commits?author=calizarr\\\" title=\\\"Code\\\">\\ud83d\\udcbb</a> <a href=\\\"https://github.com/danforthcenter/plantcv/commits?author=calizarr\\\" title=\\\"Documentation\\\">\\ud83d\\udcd6</a> <a href=\\\"https://github.com/danforthcenter/plantcv/commits?author=calizarr\\\" title=\\\"Tests\\\">\\u26a0\\ufe0f</a></td>\\n      <td align=\\\"center\\\" valign=\\\"top\\\" width=\\\"14.28%\\\"><a href=\\\"https://github.com/cluebbert\\\"><img src=\\\"https://avatars.githubusercontent.com/u/47461392?v=4?s=100\\\" width=\\\"100px;\\\" alt=\\\"Collin Luebbert\\\"/><br /><sub><b>Collin Luebbert</b></sub></a><br /><a href=\\\"https://github.com/danforthcenter/plantcv/commits?author=cluebbert\\\" title=\\\"Code\\\">\\ud83d\\udcbb</a></td>\\n    </tr>\\n    <tr>\\n      <td align=\\\"center\\\" valign=\\\"top\\\" width=\\\"14.28%\\\"><a href=\\\"https://www.linkedin.com/in/david-peery-344882126/\\\"><img src=\\\"https://avatars.githubusercontent.com/u/63679152?v=4?s=100\\\" width=\\\"100px;\\\" alt=\\\"David Peery\\\"/><br /><sub><b>David Peery</b></sub></a><br /><a href=\\\"https://github.com/danforthcenter/plantcv/commits?author=jdavidpeery\\\" title=\\\"Code\\\">\\ud83d\\udcbb</a> <a href=\\\"https://github.com/danforthcenter/plantcv/commits?author=jdavidpeery\\\" title=\\\"Documentation\\\">\\ud83d\\udcd6</a> <a href=\\\"https://github.com/danforthcenter/plantcv/commits?author=jdavidpeery\\\" title=\\\"Tests\\\">\\u26a0\\ufe0f</a> <a href=\\\"#ideas-jdavidpeery\\\" title=\\\"Ideas, Planning, & Feedback\\\">\\ud83e\\udd14</a></td>\\n      <td align=\\\"center\\\" valign=\\\"top\\\" width=\\\"14.28%\\\"><a href=\\\"https://github.com/dhiraj-ms\\\"><img src=\\\"https://avatars.githubusercontent.com/u/39856917?v=4?s=100\\\" width=\\\"100px;\\\" alt=\\\"Dhiraj Srivastava\\\"/><br /><sub><b>Dhiraj Srivastava</b></sub></a><br /><a href=\\\"https://github.com/danforthcenter/plantcv/commits?author=dhiraj-ms\\\" title=\\\"Code\\\">\\ud83d\\udcbb</a> <a href=\\\"https://github.com/danforthcenter/plantcv/commits?author=dhiraj-ms\\\" title=\\\"Documentation\\\">\\ud83d\\udcd6</a> <a href=\\\"https://github.com/danforthcenter/plantcv/commits?author=dhiraj-ms\\\" title=\\\"Tests\\\">\\u26a0\\ufe0f</a></td>\\n      <td align=\\\"center\\\" valign=\\\"top\\\" width=\\\"14.28%\\\"><a href=\\\"https://data-folks.masto.host/@dschneiderch\\\"><img src=\\\"https://avatars.githubusercontent.com/u/7461221?v=4?s=100\\\" width=\\\"100px;\\\" alt=\\\"Dominik Schneider\\\"/><br /><sub><b>Dominik Schneider</b></sub></a><br /><a href=\\\"https://github.com/danforthcenter/plantcv/commits?author=dschneiderch\\\" title=\\\"Code\\\">\\ud83d\\udcbb</a> <a href=\\\"https://github.com/danforthcenter/plantcv/commits?author=dschneiderch\\\" title=\\\"Documentation\\\">\\ud83d\\udcd6</a> <a href=\\\"https://github.com/danforthcenter/plantcv/commits?author=dschneiderch\\\" title=\\\"Tests\\\">\\u26a0\\ufe0f</a> <a href=\\\"#ideas-dschneiderch\\\" title=\\\"Ideas, Planning, & Feedback\\\">\\ud83e\\udd14</a></td>\\n      <td align=\\\"center\\\" valign=\\\"top\\\" width=\\\"14.28%\\\"><a href=\\\"https://rayngrowingsystems.com/\\\"><img src=\\\"https://avatars.githubusercontent.com/u/129968640?v=4?s=100\\\" width=\\\"100px;\\\" alt=\\\"Dr. Alexander Kutschera\\\"/><br /><sub><b>Dr. Alexander Kutschera</b></sub></a><br /><a href=\\\"https://github.com/danforthcenter/plantcv/commits?author=rayn-alex\\\" title=\\\"Code\\\">\\ud83d\\udcbb</a> <a href=\\\"https://github.com/danforthcenter/plantcv/issues?q=author%3Arayn-alex\\\" title=\\\"Bug reports\\\">\\ud83d\\udc1b</a> <a href=\\\"#question-rayn-alex\\\" title=\\\"Answering Questions\\\">\\ud83d\\udcac</a></td>\\n      <td align=\\\"center\\\" valign=\\\"top\\\" width=\\\"14.28%\\\"><a href=\\\"https://github.com/ic\\\"><img src=\\\"https://avatars.githubusercontent.com/u/64160?v=4?s=100\\\" width=\\\"100px;\\\" alt=\\\"Eric Platon\\\"/><br /><sub><b>Eric Platon</b></sub></a><br /><a href=\\\"https://github.com/danforthcenter/plantcv/commits?author=ic\\\" title=\\\"Code\\\">\\ud83d\\udcbb</a> <a href=\\\"https://github.com/danforthcenter/plantcv/commits?author=ic\\\" title=\\\"Documentation\\\">\\ud83d\\udcd6</a> <a href=\\\"https://github.com/danforthcenter/plantcv/commits?author=ic\\\" title=\\\"Tests\\\">\\u26a0\\ufe0f</a></td>\\n      <td align=\\\"center\\\" valign=\\\"top\\\" width=\\\"14.28%\\\"><a href=\\\"https://www.datamaplab.com\\\"><img src=\\\"https://avatars.githubusercontent.com/u/2442821?v=4?s=100\\\" width=\\\"100px;\\\" alt=\\\"Fabian Dubois\\\"/><br /><sub><b>Fabian Dubois</b></sub></a><br /><a href=\\\"https://github.com/danforthcenter/plantcv/commits?author=fabid\\\" title=\\\"Code\\\">\\ud83d\\udcbb</a></td>\\n      <td align=\\\"center\\\" valign=\\\"top\\\" width=\\\"14.28%\\\"><a href=\\\"https://fabiobarbero.eu\\\"><img src=\\\"https://avatars.githubusercontent.com/u/20724986?v=4?s=100\\\" width=\\\"100px;\\\" alt=\\\"Fabio Barbero\\\"/><br /><sub><b>Fabio Barbero</b></sub></a><br /><a href=\\\"https://github.com/danforthcenter/plantcv/commits?author=fbarbe00\\\" title=\\\"Code\\\">\\ud83d\\udcbb</a></td>\\n    </tr>\\n    <tr>\\n      <td align=\\\"center\\\" valign=\\\"top\\\" width=\\\"14.28%\\\"><a href=\\\"https://github.com/ygarrot\\\"><img src=\\\"https://avatars.githubusercontent.com/u/33935239?v=4?s=100\\\" width=\\\"100px;\\\" alt=\\\"Garrot Yoan\\\"/><br /><sub><b>Garrot Yoan</b></sub></a><br /><a href=\\\"https://github.com/danforthcenter/plantcv/commits?author=ygarrot\\\" title=\\\"Documentation\\\">\\ud83d\\udcd6</a></td>\\n      <td align=\\\"center\\\" valign=\\\"top\\\" width=\\\"14.28%\\\"><a href=\\\"https://github.com/GrantKonkel\\\"><img src=\\\"https://avatars.githubusercontent.com/u/78433847?v=4?s=100\\\" width=\\\"100px;\\\" alt=\\\"GrantKonkel\\\"/><br /><sub><b>GrantKonkel</b></sub></a><br /><a href=\\\"https://github.com/danforthcenter/plantcv/commits?author=GrantKonkel\\\" title=\\\"Code\\\">\\ud83d\\udcbb</a> <a href=\\\"https://github.com/danforthcenter/plantcv/commits?author=GrantKonkel\\\" title=\\\"Documentation\\\">\\ud83d\\udcd6</a></td>\\n      <td align=\\\"center\\\" valign=\\\"top\\\" width=\\\"14.28%\\\"><a href=\\\"https://github.com/HaleySchuhl\\\"><img src=\\\"https://avatars.githubusercontent.com/u/44006936?v=4?s=100\\\" width=\\\"100px;\\\" alt=\\\"Haley Schuhl\\\"/><br /><sub><b>Haley Schuhl</b></sub></a><br /><a href=\\\"https://github.com/danforthcenter/plantcv/commits?author=HaleySchuhl\\\" title=\\\"Code\\\">\\ud83d\\udcbb</a> <a href=\\\"https://github.com/danforthcenter/plantcv/commits?author=HaleySchuhl\\\" title=\\\"Documentation\\\">\\ud83d\\udcd6</a> <a href=\\\"#maintenance-HaleySchuhl\\\" title=\\\"Maintenance\\\">\\ud83d\\udea7</a> <a href=\\\"#tutorial-HaleySchuhl\\\" title=\\\"Tutorials\\\">\\u2705</a> <a href=\\\"https://github.com/danforthcenter/plantcv/commits?author=HaleySchuhl\\\" title=\\\"Tests\\\">\\u26a0\\ufe0f</a> <a href=\\\"#talk-HaleySchuhl\\\" title=\\\"Talks\\\">\\ud83d\\udce2</a> <a href=\\\"#ideas-HaleySchuhl\\\" title=\\\"Ideas, Planning, & Feedback\\\">\\ud83e\\udd14</a> <a href=\\\"#question-HaleySchuhl\\\" title=\\\"Answering Questions\\\">\\ud83d\\udcac</a></td>\\n      <td align=\\\"center\\\" valign=\\\"top\\\" width=\\\"14.28%\\\"><a href=\\\"https://github.com/DannieSheng\\\"><img src=\\\"https://avatars.githubusercontent.com/u/28633120?v=4?s=100\\\" width=\\\"100px;\\\" alt=\\\"Hudanyun Sheng\\\"/><br /><sub><b>Hudanyun Sheng</b></sub></a><br /><a href=\\\"https://github.com/danforthcenter/plantcv/commits?author=DannieSheng\\\" title=\\\"Code\\\">\\ud83d\\udcbb</a> <a href=\\\"https://github.com/danforthcenter/plantcv/commits?author=DannieSheng\\\" title=\\\"Documentation\\\">\\ud83d\\udcd6</a> <a href=\\\"https://github.com/danforthcenter/plantcv/commits?author=DannieSheng\\\" title=\\\"Tests\\\">\\u26a0\\ufe0f</a> <a href=\\\"#ideas-DannieSheng\\\" title=\\\"Ideas, Planning, & Feedback\\\">\\ud83e\\udd14</a></td>\\n      <td align=\\\"center\\\" valign=\\\"top\\\" width=\\\"14.28%\\\"><a href=\\\"https://jakejasper.xyz\\\"><img src=\\\"https://avatars.githubusercontent.com/u/35571955?v=4?s=100\\\" width=\\\"100px;\\\" alt=\\\"Jake\\\"/><br /><sub><b>Jake</b></sub></a><br /><a href=\\\"https://github.com/danforthcenter/plantcv/commits?author=Jake-Jasper\\\" title=\\\"Code\\\">\\ud83d\\udcbb</a> <a href=\\\"https://github.com/danforthcenter/plantcv/commits?author=Jake-Jasper\\\" title=\\\"Documentation\\\">\\ud83d\\udcd6</a></td>\\n      <td align=\\\"center\\\" valign=\\\"top\\\" width=\\\"14.28%\\\"><a href=\\\"https://github.com/jberry47\\\"><img src=\\\"https://avatars.githubusercontent.com/u/20114985?v=4?s=100\\\" width=\\\"100px;\\\" alt=\\\"Jeffrey Berry\\\"/><br /><sub><b>Jeffrey Berry</b></sub></a><br /><a href=\\\"https://github.com/danforthcenter/plantcv/commits?author=jberry47\\\" title=\\\"Code\\\">\\ud83d\\udcbb</a> <a href=\\\"https://github.com/danforthcenter/plantcv/commits?author=jberry47\\\" title=\\\"Documentation\\\">\\ud83d\\udcd6</a> <a href=\\\"https://github.com/danforthcenter/plantcv/commits?author=jberry47\\\" title=\\\"Tests\\\">\\u26a0\\ufe0f</a> <a href=\\\"#ideas-jberry47\\\" title=\\\"Ideas, Planning, & Feedback\\\">\\ud83e\\udd14</a></td>\\n      <td align=\\\"center\\\" valign=\\\"top\\\" width=\\\"14.28%\\\"><a href=\\\"https://github.com/JoeDuenwald\\\"><img src=\\\"https://avatars.githubusercontent.com/u/101900627?v=4?s=100\\\" width=\\\"100px;\\\" alt=\\\"JoeDuenwald\\\"/><br /><sub><b>JoeDuenwald</b></sub></a><br /><a href=\\\"https://github.com/danforthcenter/plantcv/commits?author=JoeDuenwald\\\" title=\\\"Documentation\\\">\\ud83d\\udcd6</a></td>\\n    </tr>\\n    <tr>\\n      <td align=\\\"center\\\" valign=\\\"top\\\" width=\\\"14.28%\\\"><a href=\\\"https://sites.google.com/view/jorge-gutierrezor/home\\\"><img src=\\\"https://avatars.githubusercontent.com/u/26798565?v=4?s=100\\\" width=\\\"100px;\\\" alt=\\\"Jorge Gutierrez\\\"/><br /><sub><b>Jorge Gutierrez</b></sub></a><br /><a href=\\\"https://github.com/danforthcenter/plantcv/commits?author=JorgeGtz\\\" title=\\\"Code\\\">\\ud83d\\udcbb</a> <a href=\\\"https://github.com/danforthcenter/plantcv/commits?author=JorgeGtz\\\" title=\\\"Documentation\\\">\\ud83d\\udcd6</a> <a href=\\\"https://github.com/danforthcenter/plantcv/commits?author=JorgeGtz\\\" title=\\\"Tests\\\">\\u26a0\\ufe0f</a> <a href=\\\"#talk-JorgeGtz\\\" title=\\\"Talks\\\">\\ud83d\\udce2</a> <a href=\\\"#ideas-JorgeGtz\\\" title=\\\"Ideas, Planning, & Feedback\\\">\\ud83e\\udd14</a> <a href=\\\"#question-JorgeGtz\\\" title=\\\"Answering Questions\\\">\\ud83d\\udcac</a></td>\\n      <td align=\\\"center\\\" valign=\\\"top\\\" width=\\\"14.28%\\\"><a href=\\\"https://github.com/joshqsumner\\\"><img src=\\\"https://avatars.githubusercontent.com/u/51797700?v=4?s=100\\\" width=\\\"100px;\\\" alt=\\\"Josh Sumner\\\"/><br /><sub><b>Josh Sumner</b></sub></a><br /><a href=\\\"https://github.com/danforthcenter/plantcv/commits?author=joshqsumner\\\" title=\\\"Code\\\">\\ud83d\\udcbb</a> <a href=\\\"https://github.com/danforthcenter/plantcv/commits?author=joshqsumner\\\" title=\\\"Documentation\\\">\\ud83d\\udcd6</a> <a href=\\\"https://github.com/danforthcenter/plantcv/commits?author=joshqsumner\\\" title=\\\"Tests\\\">\\u26a0\\ufe0f</a> <a href=\\\"#tutorial-joshqsumner\\\" title=\\\"Tutorials\\\">\\u2705</a> <a href=\\\"#ideas-joshqsumner\\\" title=\\\"Ideas, Planning, & Feedback\\\">\\ud83e\\udd14</a></td>\\n      <td align=\\\"center\\\" valign=\\\"top\\\" width=\\\"14.28%\\\"><a href=\\\"https://www.danforthcenter.org/our-work/core-facilities/phenotyping/\\\"><img src=\\\"https://avatars.githubusercontent.com/u/58490237?v=4?s=100\\\" width=\\\"100px;\\\" alt=\\\"Katie Murphy\\\"/><br /><sub><b>Katie Murphy</b></sub></a><br /><a href=\\\"https://github.com/danforthcenter/plantcv/commits?author=kmurphy61\\\" title=\\\"Documentation\\\">\\ud83d\\udcd6</a> <a href=\\\"#tutorial-kmurphy61\\\" title=\\\"Tutorials\\\">\\u2705</a> <a href=\\\"#talk-kmurphy61\\\" title=\\\"Talks\\\">\\ud83d\\udce2</a> <a href=\\\"#ideas-kmurphy61\\\" title=\\\"Ideas, Planning, & Feedback\\\">\\ud83e\\udd14</a> <a href=\\\"#promotion-kmurphy61\\\" title=\\\"Promotion\\\">\\ud83d\\udce3</a></td>\\n      <td align=\\\"center\\\" valign=\\\"top\\\" width=\\\"14.28%\\\"><a href=\\\"https://github.com/k034b363\\\"><img src=\\\"https://avatars.githubusercontent.com/u/156026125?v=4?s=100\\\" width=\\\"100px;\\\" alt=\\\"KeelyBrown\\\"/><br /><sub><b>KeelyBrown</b></sub></a><br /><a href=\\\"https://github.com/danforthcenter/plantcv/commits?author=k034b363\\\" title=\\\"Code\\\">\\ud83d\\udcbb</a></td>\\n      <td align=\\\"center\\\" valign=\\\"top\\\" width=\\\"14.28%\\\"><a href=\\\"http://gehan-lab.org\\\"><img src=\\\"https://avatars.githubusercontent.com/u/6978303?v=4?s=100\\\" width=\\\"100px;\\\" alt=\\\"Malia Gehan\\\"/><br /><sub><b>Malia Gehan</b></sub></a><br /><a href=\\\"#projectManagement-maliagehan\\\" title=\\\"Project Management\\\">\\ud83d\\udcc6</a> <a href=\\\"https://github.com/danforthcenter/plantcv/commits?author=maliagehan\\\" title=\\\"Code\\\">\\ud83d\\udcbb</a> <a href=\\\"https://github.com/danforthcenter/plantcv/commits?author=maliagehan\\\" title=\\\"Documentation\\\">\\ud83d\\udcd6</a> <a href=\\\"#fundingFinding-maliagehan\\\" title=\\\"Funding Finding\\\">\\ud83d\\udd0d</a> <a href=\\\"#mentoring-maliagehan\\\" title=\\\"Mentoring\\\">\\ud83e\\uddd1\\u200d\\ud83c\\udfeb</a> <a href=\\\"#talk-maliagehan\\\" title=\\\"Talks\\\">\\ud83d\\udce2</a> <a href=\\\"#tutorial-maliagehan\\\" title=\\\"Tutorials\\\">\\u2705</a> <a href=\\\"#ideas-maliagehan\\\" title=\\\"Ideas, Planning, & Feedback\\\">\\ud83e\\udd14</a> <a href=\\\"#question-maliagehan\\\" title=\\\"Answering Questions\\\">\\ud83d\\udcac</a> <a href=\\\"https://github.com/danforthcenter/plantcv/commits?author=maliagehan\\\" title=\\\"Tests\\\">\\u26a0\\ufe0f</a></td>\\n      <td align=\\\"center\\\" valign=\\\"top\\\" width=\\\"14.28%\\\"><a href=\\\"https://github.com/maldil\\\"><img src=\\\"https://avatars.githubusercontent.com/u/20140049?v=4?s=100\\\" width=\\\"100px;\\\" alt=\\\"Malinda\\\"/><br /><sub><b>Malinda</b></sub></a><br /><a href=\\\"https://github.com/danforthcenter/plantcv/commits?author=maldil\\\" title=\\\"Code\\\">\\ud83d\\udcbb</a></td>\\n      <td align=\\\"center\\\" valign=\\\"top\\\" width=\\\"14.28%\\\"><a href=\\\"https://github.com/afinit\\\"><img src=\\\"https://avatars.githubusercontent.com/u/6353304?v=4?s=100\\\" width=\\\"100px;\\\" alt=\\\"Mark Wilson\\\"/><br /><sub><b>Mark Wilson</b></sub></a><br /><a href=\\\"https://github.com/danforthcenter/plantcv/commits?author=afinit\\\" title=\\\"Code\\\">\\ud83d\\udcbb</a> <a href=\\\"https://github.com/danforthcenter/plantcv/commits?author=afinit\\\" title=\\\"Documentation\\\">\\ud83d\\udcd6</a> <a href=\\\"https://github.com/danforthcenter/plantcv/commits?author=afinit\\\" title=\\\"Tests\\\">\\u26a0\\ufe0f</a></td>\\n    </tr>\\n    <tr>\\n      <td align=\\\"center\\\" valign=\\\"top\\\" width=\\\"14.28%\\\"><a href=\\\"https://github.com/maxjfeldman\\\"><img src=\\\"https://avatars.githubusercontent.com/u/6977566?v=4?s=100\\\" width=\\\"100px;\\\" alt=\\\"Max\\\"/><br /><sub><b>Max</b></sub></a><br /><a href=\\\"https://github.com/danforthcenter/plantcv/commits?author=maxjfeldman\\\" title=\\\"Code\\\">\\ud83d\\udcbb</a> <a href=\\\"https://github.com/danforthcenter/plantcv/commits?author=maxjfeldman\\\" title=\\\"Documentation\\\">\\ud83d\\udcd6</a> <a href=\\\"#ideas-maxjfeldman\\\" title=\\\"Ideas, Planning, & Feedback\\\">\\ud83e\\udd14</a></td>\\n      <td align=\\\"center\\\" valign=\\\"top\\\" width=\\\"14.28%\\\"><a href=\\\"http://danforthcenter.org\\\"><img src=\\\"https://avatars.githubusercontent.com/u/6233508?v=4?s=100\\\" width=\\\"100px;\\\" alt=\\\"Noah Fahlgren\\\"/><br /><sub><b>Noah Fahlgren</b></sub></a><br /><a href=\\\"#projectManagement-nfahlgren\\\" title=\\\"Project Management\\\">\\ud83d\\udcc6</a> <a href=\\\"https://github.com/danforthcenter/plantcv/commits?author=nfahlgren\\\" title=\\\"Code\\\">\\ud83d\\udcbb</a> <a href=\\\"https://github.com/danforthcenter/plantcv/commits?author=nfahlgren\\\" title=\\\"Documentation\\\">\\ud83d\\udcd6</a> <a href=\\\"https://github.com/danforthcenter/plantcv/commits?author=nfahlgren\\\" title=\\\"Tests\\\">\\u26a0\\ufe0f</a> <a href=\\\"#fundingFinding-nfahlgren\\\" title=\\\"Funding Finding\\\">\\ud83d\\udd0d</a> <a href=\\\"#mentoring-nfahlgren\\\" title=\\\"Mentoring\\\">\\ud83e\\uddd1\\u200d\\ud83c\\udfeb</a> <a href=\\\"#talk-nfahlgren\\\" title=\\\"Talks\\\">\\ud83d\\udce2</a> <a href=\\\"#tutorial-nfahlgren\\\" title=\\\"Tutorials\\\">\\u2705</a> <a href=\\\"#ideas-nfahlgren\\\" title=\\\"Ideas, Planning, & Feedback\\\">\\ud83e\\udd14</a> <a href=\\\"#question-nfahlgren\\\" title=\\\"Answering Questions\\\">\\ud83d\\udcac</a></td>\\n      <td align=\\\"center\\\" valign=\\\"top\\\" width=\\\"14.28%\\\"><a href=\\\"https://github.com/Sanazjd\\\"><img src=\\\"https://avatars.githubusercontent.com/u/40071989?v=4?s=100\\\" width=\\\"100px;\\\" alt=\\\"Sanazjd\\\"/><br /><sub><b>Sanazjd</b></sub></a><br /><a href=\\\"https://github.com/danforthcenter/plantcv/commits?author=Sanazjd\\\" title=\\\"Code\\\">\\ud83d\\udcbb</a> <a href=\\\"https://github.com/danforthcenter/plantcv/commits?author=Sanazjd\\\" title=\\\"Documentation\\\">\\ud83d\\udcd6</a> <a href=\\\"https://github.com/danforthcenter/plantcv/commits?author=Sanazjd\\\" title=\\\"Tests\\\">\\u26a0\\ufe0f</a> <a href=\\\"#ideas-Sanazjd\\\" title=\\\"Ideas, Planning, & Feedback\\\">\\ud83e\\udd14</a></td>\\n      <td align=\\\"center\\\" valign=\\\"top\\\" width=\\\"14.28%\\\"><a href=\\\"https://github.com/SethPolydore\\\"><img src=\\\"https://avatars.githubusercontent.com/u/65034463?v=4?s=100\\\" width=\\\"100px;\\\" alt=\\\"SethPolydore\\\"/><br /><sub><b>SethPolydore</b></sub></a><br /><a href=\\\"https://github.com/danforthcenter/plantcv/commits?author=SethPolydore\\\" title=\\\"Code\\\">\\ud83d\\udcbb</a> <a href=\\\"https://github.com/danforthcenter/plantcv/commits?author=SethPolydore\\\" title=\\\"Documentation\\\">\\ud83d\\udcd6</a> <a href=\\\"https://github.com/danforthcenter/plantcv/commits?author=SethPolydore\\\" title=\\\"Tests\\\">\\u26a0\\ufe0f</a></td>\\n      <td align=\\\"center\\\" valign=\\\"top\\\" width=\\\"14.28%\\\"><a href=\\\"https://orcid.org/0000-0002-1338-8900\\\"><img src=\\\"https://avatars.githubusercontent.com/u/2046665?v=4?s=100\\\" width=\\\"100px;\\\" alt=\\\"Steen Hoyer\\\"/><br /><sub><b>Steen Hoyer</b></sub></a><br /><a href=\\\"https://github.com/danforthcenter/plantcv/commits?author=jshoyer\\\" title=\\\"Code\\\">\\ud83d\\udcbb</a> <a href=\\\"https://github.com/danforthcenter/plantcv/commits?author=jshoyer\\\" title=\\\"Documentation\\\">\\ud83d\\udcd6</a> <a href=\\\"#ideas-jshoyer\\\" title=\\\"Ideas, Planning, & Feedback\\\">\\ud83e\\udd14</a></td>\\n      <td align=\\\"center\\\" valign=\\\"top\\\" width=\\\"14.28%\\\"><a href=\\\"https://github.com/stiphyMT\\\"><img src=\\\"https://avatars.githubusercontent.com/u/15986230?v=4?s=100\\\" width=\\\"100px;\\\" alt=\\\"Stephan Summerer\\\"/><br /><sub><b>Stephan Summerer</b></sub></a><br /><a href=\\\"https://github.com/danforthcenter/plantcv/commits?author=stiphyMT\\\" title=\\\"Code\\\">\\ud83d\\udcbb</a></td>\\n      <td align=\\\"center\\\" valign=\\\"top\\\" width=\\\"14.28%\\\"><a href=\\\"https://github.com/stevenhwu\\\"><img src=\\\"https://avatars.githubusercontent.com/u/1005078?v=4?s=100\\\" width=\\\"100px;\\\" alt=\\\"Steven Wu\\\"/><br /><sub><b>Steven Wu</b></sub></a><br /><a href=\\\"https://github.com/danforthcenter/plantcv/commits?author=stevenhwu\\\" title=\\\"Code\\\">\\ud83d\\udcbb</a></td>\\n    </tr>\\n    <tr>\\n      <td align=\\\"center\\\" valign=\\\"top\\\" width=\\\"14.28%\\\"><a href=\\\"https://github.com/Stylopidae1793\\\"><img src=\\\"https://avatars.githubusercontent.com/u/128506162?v=4?s=100\\\" width=\\\"100px;\\\" alt=\\\"Stylopidae1793\\\"/><br /><sub><b>Stylopidae1793</b></sub></a><br /><a href=\\\"https://github.com/danforthcenter/plantcv/commits?author=Stylopidae1793\\\" title=\\\"Documentation\\\">\\ud83d\\udcd6</a></td>\\n      <td align=\\\"center\\\" valign=\\\"top\\\" width=\\\"14.28%\\\"><a href=\\\"https://tj-schultz.github.io/\\\"><img src=\\\"https://avatars.githubusercontent.com/u/73593696?v=4?s=100\\\" width=\\\"100px;\\\" alt=\\\"TJ Schultz\\\"/><br /><sub><b>TJ Schultz</b></sub></a><br /><a href=\\\"https://github.com/danforthcenter/plantcv/commits?author=tj-schultz\\\" title=\\\"Code\\\">\\ud83d\\udcbb</a> <a href=\\\"https://github.com/danforthcenter/plantcv/issues?q=author%3Atj-schultz\\\" title=\\\"Bug reports\\\">\\ud83d\\udc1b</a></td>\\n      <td align=\\\"center\\\" valign=\\\"top\\\" width=\\\"14.28%\\\"><a href=\\\"https://github.com/adrianethompson\\\"><img src=\\\"https://avatars.githubusercontent.com/u/85243018?v=4?s=100\\\" width=\\\"100px;\\\" alt=\\\"adrianethompson\\\"/><br /><sub><b>adrianethompson</b></sub></a><br /><a href=\\\"https://github.com/danforthcenter/plantcv/commits?author=adrianethompson\\\" title=\\\"Code\\\">\\ud83d\\udcbb</a> <a href=\\\"https://github.com/danforthcenter/plantcv/commits?author=adrianethompson\\\" title=\\\"Documentation\\\">\\ud83d\\udcd6</a> <a href=\\\"#tutorial-adrianethompson\\\" title=\\\"Tutorials\\\">\\u2705</a></td>\\n      <td align=\\\"center\\\" valign=\\\"top\\\" width=\\\"14.28%\\\"><a href=\\\"https://github.com/annacasto\\\"><img src=\\\"https://avatars.githubusercontent.com/u/61164490?v=4?s=100\\\" width=\\\"100px;\\\" alt=\\\"annacasto\\\"/><br /><sub><b>annacasto</b></sub></a><br /><a href=\\\"https://github.com/danforthcenter/plantcv/commits?author=annacasto\\\" title=\\\"Code\\\">\\ud83d\\udcbb</a> <a href=\\\"https://github.com/danforthcenter/plantcv/commits?author=annacasto\\\" title=\\\"Documentation\\\">\\ud83d\\udcd6</a> <a href=\\\"https://github.com/danforthcenter/plantcv/commits?author=annacasto\\\" title=\\\"Tests\\\">\\u26a0\\ufe0f</a> <a href=\\\"#tutorial-annacasto\\\" title=\\\"Tutorials\\\">\\u2705</a> <a href=\\\"#talk-annacasto\\\" title=\\\"Talks\\\">\\ud83d\\udce2</a> <a href=\\\"#ideas-annacasto\\\" title=\\\"Ideas, Planning, & Feedback\\\">\\ud83e\\udd14</a></td>\\n      <td align=\\\"center\\\" valign=\\\"top\\\" width=\\\"14.28%\\\"><a href=\\\"https://github.com/bganglia\\\"><img src=\\\"https://avatars.githubusercontent.com/u/48276939?v=4?s=100\\\" width=\\\"100px;\\\" alt=\\\"bganglia\\\"/><br /><sub><b>bganglia</b></sub></a><br /><a href=\\\"https://github.com/danforthcenter/plantcv/commits?author=bganglia\\\" title=\\\"Code\\\">\\ud83d\\udcbb</a> <a href=\\\"https://github.com/danforthcenter/plantcv/commits?author=bganglia\\\" title=\\\"Documentation\\\">\\ud83d\\udcd6</a> <a href=\\\"https://github.com/danforthcenter/plantcv/commits?author=bganglia\\\" title=\\\"Tests\\\">\\u26a0\\ufe0f</a></td>\\n      <td align=\\\"center\\\" valign=\\\"top\\\" width=\\\"14.28%\\\"><a href=\\\"https://github.com/jgerardhodge\\\"><img src=\\\"https://avatars.githubusercontent.com/u/11335765?v=4?s=100\\\" width=\\\"100px;\\\" alt=\\\"jgerardhodge\\\"/><br /><sub><b>jgerardhodge</b></sub></a><br /><a href=\\\"https://github.com/danforthcenter/plantcv/commits?author=jgerardhodge\\\" title=\\\"Code\\\">\\ud83d\\udcbb</a> <a href=\\\"https://github.com/danforthcenter/plantcv/commits?author=jgerardhodge\\\" title=\\\"Documentation\\\">\\ud83d\\udcd6</a> <a href=\\\"https://github.com/danforthcenter/plantcv/commits?author=jgerardhodge\\\" title=\\\"Tests\\\">\\u26a0\\ufe0f</a></td>\\n      <td align=\\\"center\\\" valign=\\\"top\\\" width=\\\"14.28%\\\"><a href=\\\"https://github.com/jmgordon1223\\\"><img src=\\\"https://avatars.githubusercontent.com/u/128613726?v=4?s=100\\\" width=\\\"100px;\\\" alt=\\\"jmgordon1223\\\"/><br /><sub><b>jmgordon1223</b></sub></a><br /><a href=\\\"https://github.com/danforthcenter/plantcv/commits?author=jmgordon1223\\\" title=\\\"Documentation\\\">\\ud83d\\udcd6</a></td>\\n    </tr>\\n    <tr>\\n      <td align=\\\"center\\\" valign=\\\"top\\\" width=\\\"14.28%\\\"><a href=\\\"https://github.com/jwheeler5\\\"><img src=\\\"https://avatars.githubusercontent.com/u/86489506?v=4?s=100\\\" width=\\\"100px;\\\" alt=\\\"jwheeler5\\\"/><br /><sub><b>jwheeler5</b></sub></a><br /><a href=\\\"https://github.com/danforthcenter/plantcv/commits?author=jwheeler5\\\" title=\\\"Code\\\">\\ud83d\\udcbb</a> <a href=\\\"https://github.com/danforthcenter/plantcv/commits?author=jwheeler5\\\" title=\\\"Documentation\\\">\\ud83d\\udcd6</a> <a href=\\\"https://github.com/danforthcenter/plantcv/commits?author=jwheeler5\\\" title=\\\"Tests\\\">\\u26a0\\ufe0f</a></td>\\n      <td align=\\\"center\\\" valign=\\\"top\\\" width=\\\"14.28%\\\"><a href=\\\"https://github.com/kbgilbert\\\"><img src=\\\"https://avatars.githubusercontent.com/u/13541110?v=4?s=100\\\" width=\\\"100px;\\\" alt=\\\"kbgilbert\\\"/><br /><sub><b>kbgilbert</b></sub></a><br /><a href=\\\"#design-kbgilbert\\\" title=\\\"Design\\\">\\ud83c\\udfa8</a></td>\\n      <td align=\\\"center\\\" valign=\\\"top\\\" width=\\\"14.28%\\\"><a href=\\\"https://github.com/lacostag\\\"><img src=\\\"https://avatars.githubusercontent.com/u/72940710?v=4?s=100\\\" width=\\\"100px;\\\" alt=\\\"lacostag\\\"/><br /><sub><b>lacostag</b></sub></a><br /><a href=\\\"https://github.com/danforthcenter/plantcv/commits?author=lacostag\\\" title=\\\"Documentation\\\">\\ud83d\\udcd6</a></td>\\n      <td align=\\\"center\\\" valign=\\\"top\\\" width=\\\"14.28%\\\"><a href=\\\"https://github.com/lchavez037\\\"><img src=\\\"https://avatars.githubusercontent.com/u/18586794?v=4?s=100\\\" width=\\\"100px;\\\" alt=\\\"lchavez037\\\"/><br /><sub><b>lchavez037</b></sub></a><br /><a href=\\\"https://github.com/danforthcenter/plantcv/commits?author=lchavez037\\\" title=\\\"Documentation\\\">\\ud83d\\udcd6</a></td>\\n      <td align=\\\"center\\\" valign=\\\"top\\\" width=\\\"14.28%\\\"><a href=\\\"https://github.com/leowlima\\\"><img src=\\\"https://avatars.githubusercontent.com/u/123584304?v=4?s=100\\\" width=\\\"100px;\\\" alt=\\\"leowlima\\\"/><br /><sub><b>leowlima</b></sub></a><br /><a href=\\\"https://github.com/danforthcenter/plantcv/commits?author=leowlima\\\" title=\\\"Documentation\\\">\\ud83d\\udcd6</a></td>\\n      <td align=\\\"center\\\" valign=\\\"top\\\" width=\\\"14.28%\\\"><a href=\\\"https://github.com/mtwatso2-eng\\\"><img src=\\\"https://avatars.githubusercontent.com/u/55025422?v=4?s=100\\\" width=\\\"100px;\\\" alt=\\\"mtwatso2-eng\\\"/><br /><sub><b>mtwatso2-eng</b></sub></a><br /><a href=\\\"https://github.com/danforthcenter/plantcv/commits?author=mtwatso2-eng\\\" title=\\\"Code\\\">\\ud83d\\udcbb</a></td>\\n      <td align=\\\"center\\\" valign=\\\"top\\\" width=\\\"14.28%\\\"><a href=\\\"https://github.com/natejly\\\"><img src=\\\"https://avatars.githubusercontent.com/u/141955513?v=4?s=100\\\" width=\\\"100px;\\\" alt=\\\"natejly\\\"/><br /><sub><b>natejly</b></sub></a><br /><a href=\\\"https://github.com/danforthcenter/plantcv/commits?author=natejly\\\" title=\\\"Code\\\">\\ud83d\\udcbb</a></td>\\n    </tr>\\n    <tr>\\n      <td align=\\\"center\\\" valign=\\\"top\\\" width=\\\"14.28%\\\"><a href=\\\"https://github.com/scallen81\\\"><img src=\\\"https://avatars.githubusercontent.com/u/21960021?v=4?s=100\\\" width=\\\"100px;\\\" alt=\\\"scallen81\\\"/><br /><sub><b>scallen81</b></sub></a><br /><a href=\\\"https://github.com/danforthcenter/plantcv/commits?author=scallen81\\\" title=\\\"Code\\\">\\ud83d\\udcbb</a></td>\\n      <td align=\\\"center\\\" valign=\\\"top\\\" width=\\\"14.28%\\\"><a href=\\\"https://github.com/sdkenney42\\\"><img src=\\\"https://avatars.githubusercontent.com/u/128510721?v=4?s=100\\\" width=\\\"100px;\\\" alt=\\\"sdkenney42\\\"/><br /><sub><b>sdkenney42</b></sub></a><br /><a href=\\\"https://github.com/danforthcenter/plantcv/commits?author=sdkenney42\\\" title=\\\"Documentation\\\">\\ud83d\\udcd6</a></td>\\n      <td align=\\\"center\\\" valign=\\\"top\\\" width=\\\"14.28%\\\"><a href=\\\"https://github.com/typelogic\\\"><img src=\\\"https://avatars.githubusercontent.com/u/45341970?v=4?s=100\\\" width=\\\"100px;\\\" alt=\\\"typelogic\\\"/><br /><sub><b>typelogic</b></sub></a><br /><a href=\\\"https://github.com/danforthcenter/plantcv/commits?author=typelogic\\\" title=\\\"Code\\\">\\ud83d\\udcbb</a></td>\\n      <td align=\\\"center\\\" valign=\\\"top\\\" width=\\\"14.28%\\\"><a href=\\\"https://github.com/wurDevTim\\\"><img src=\\\"https://avatars.githubusercontent.com/u/81219429?v=4?s=100\\\" width=\\\"100px;\\\" alt=\\\"wurDevTim\\\"/><br /><sub><b>wurDevTim</b></sub></a><br /><a href=\\\"https://github.com/danforthcenter/plantcv/commits?author=wurDevTim\\\" title=\\\"Code\\\">\\ud83d\\udcbb</a> <a href=\\\"https://github.com/danforthcenter/plantcv/commits?author=wurDevTim\\\" title=\\\"Documentation\\\">\\ud83d\\udcd6</a> <a href=\\\"https://github.com/danforthcenter/plantcv/commits?author=wurDevTim\\\" title=\\\"Tests\\\">\\u26a0\\ufe0f</a></td>\\n      <td align=\\\"center\\\" valign=\\\"top\\\" width=\\\"14.28%\\\"><a href=\\\"https://github.com/zeeuqsze\\\"><img src=\\\"https://avatars.githubusercontent.com/u/107494588?v=4?s=100\\\" width=\\\"100px;\\\" alt=\\\"zeeuqsze\\\"/><br /><sub><b>zeeuqsze</b></sub></a><br /><a href=\\\"https://github.com/danforthcenter/plantcv/commits?author=zeeuqsze\\\" title=\\\"Documentation\\\">\\ud83d\\udcd6</a> <a href=\\\"#tutorial-zeeuqsze\\\" title=\\\"Tutorials\\\">\\u2705</a> <a href=\\\"#talk-zeeuqsze\\\" title=\\\"Talks\\\">\\ud83d\\udce2</a> <a href=\\\"#mentoring-zeeuqsze\\\" title=\\\"Mentoring\\\">\\ud83e\\uddd1\\u200d\\ud83c\\udfeb</a></td>\\n    </tr>\\n  </tbody>\\n</table>\\n\\n<!-- markdownlint-restore -->\\n<!-- prettier-ignore-end -->\\n\\n<!-- ALL-CONTRIBUTORS-LIST:END -->\\n<!-- prettier-ignore-start -->\\n<!-- markdownlint-disable -->\\n\\n<!-- markdownlint-restore -->\\n<!-- prettier-ignore-end -->\\n\\n<!-- ALL-CONTRIBUTORS-LIST:END -->\\n\"\n        ],\n        \"semantic_type\": \"\",\n        \"description\": \"\"\n      }\n    }\n  ]\n}"
            }
          },
          "metadata": {},
          "execution_count": 38
        }
      ],
      "source": [
        "df = raw[['name','description','category','sub_category','owner','readme']]\n",
        "df.head()"
      ]
    },
    {
      "cell_type": "markdown",
      "metadata": {
        "id": "y-roDNj0oF1S"
      },
      "source": [
        "# 2. Sample Row"
      ]
    },
    {
      "cell_type": "code",
      "source": [
        "import re\n",
        "import yake"
      ],
      "metadata": {
        "id": "cSh3uz-7vnjG"
      },
      "execution_count": 39,
      "outputs": []
    },
    {
      "cell_type": "code",
      "execution_count": 40,
      "metadata": {
        "id": "6M2gYC_3PT1Z"
      },
      "outputs": [],
      "source": [
        "# Removing words\n",
        "words_black_list = ['python','pvlib','projects','affiliated','http','readthedocs','benchmarks','license','matlab','user','guide','html','https','open','source','journal',\n",
        "                    'latest','release','build','publications','conda','installed','google','documentation','please']"
      ]
    },
    {
      "cell_type": "markdown",
      "metadata": {
        "id": "2XcqGPN4SDBR"
      },
      "source": [
        "## Yake for keyword Extraction\n",
        "* Using our sample text, we will apply Yake's keyword extraction algorithm"
      ]
    },
    {
      "cell_type": "markdown",
      "metadata": {
        "id": "kNwC_b_vLROg"
      },
      "source": [
        "## Rake for keyword Extracion"
      ]
    },
    {
      "cell_type": "code",
      "execution_count": 41,
      "metadata": {
        "id": "8TwHI1iPKy_4"
      },
      "outputs": [],
      "source": [
        "from multi_rake import Rake"
      ]
    },
    {
      "cell_type": "markdown",
      "metadata": {
        "id": "4ScjShKgSGLx"
      },
      "source": [
        "## KeyBERT for keyword extraction\n",
        "* Using our sample text, we will apply Yake's keyword extraction algorithm"
      ]
    },
    {
      "cell_type": "code",
      "execution_count": 42,
      "metadata": {
        "id": "tFqx3E5APT1a"
      },
      "outputs": [],
      "source": [
        "#from keybert import KeyBERT"
      ]
    },
    {
      "cell_type": "code",
      "execution_count": 43,
      "metadata": {
        "id": "cMyTSgCwPT1b"
      },
      "outputs": [],
      "source": [
        "#kw_model = KeyBERT('distilbert-base-nli-mean-tokens')"
      ]
    },
    {
      "cell_type": "markdown",
      "metadata": {
        "id": "mCzw40KyZcwp"
      },
      "source": [
        "# 3. Cleaning Full Dataset"
      ]
    },
    {
      "cell_type": "code",
      "execution_count": 44,
      "metadata": {
        "id": "BLs93IGxYCs_"
      },
      "outputs": [],
      "source": [
        "# Fill null values with 'None'. This will allow us to concatenate the relevant text columns\n",
        "df = df.fillna('None')"
      ]
    },
    {
      "cell_type": "code",
      "execution_count": 45,
      "metadata": {
        "id": "69dPuRrQaHuC",
        "outputId": "4bf11494-ba6d-4b4e-e5a1-78d0a8f03e1f",
        "colab": {
          "base_uri": "https://localhost:8080/",
          "height": 206
        }
      },
      "outputs": [
        {
          "output_type": "execute_result",
          "data": {
            "text/plain": [
              "         name                                        description        category                      sub_category                                              owner                                             readme                                           combined\n",
              "0     cmocean  Colormap setup for standardizing commonly-plot...     Hydrosphere   Ocean and Hydrology Data Access  {'login': 'matplotlib', 'name': 'Matplotlib De...  cmocean\\n=======\\n\\n[![Build Status](https://i...  cmocean Colormap setup for standardizing commo...\n",
              "1  TrapTagger         AI-Powered Camera-Trap Imagery Processing.       Biosphere               Terrestrial Animals  {'login': 'WildEyeConservation', 'name': 'Wild...  ![WildEye Conservation Logo](https://wildeyeco...  TrapTagger AI-Powered Camera-Trap Imagery Proc...\n",
              "2        OPEM  A modeling tool for evaluating the performance...  Energy Storage                          Hydrogen  {'login': 'ECSIM', 'name': 'ECSIM', 'uuid': '3...  <div align=\"center\">\\n<img src=\"https://github...  OPEM A modeling tool for evaluating the perfor...\n",
              "3     climlab  A Python package for process-oriented climate ...  Climate Change        Earth and Climate Modeling  {'login': 'climlab', 'name': 'climlab', 'uuid'...  =======\\nclimlab\\n=======\\n\\n|docs| |JOSS| |DO...  climlab A Python package for process-oriented ...\n",
              "4        FINE  Provides a framework for modeling, optimizing ...  Energy Systems  Energy Modeling and Optimization  {'login': 'FZJ-IEK3-VSA', 'name': 'FZJ-IEK3', ...  <!-- markdownlint-disable line-length no-inlin...  FINE Provides a framework for modeling, optimi..."
            ],
            "text/html": [
              "\n",
              "  <div id=\"df-f66cf218-dab6-4f5e-88db-1756fbd06f2d\" class=\"colab-df-container\">\n",
              "    <div>\n",
              "<style scoped>\n",
              "    .dataframe tbody tr th:only-of-type {\n",
              "        vertical-align: middle;\n",
              "    }\n",
              "\n",
              "    .dataframe tbody tr th {\n",
              "        vertical-align: top;\n",
              "    }\n",
              "\n",
              "    .dataframe thead th {\n",
              "        text-align: right;\n",
              "    }\n",
              "</style>\n",
              "<table border=\"1\" class=\"dataframe\">\n",
              "  <thead>\n",
              "    <tr style=\"text-align: right;\">\n",
              "      <th></th>\n",
              "      <th>name</th>\n",
              "      <th>description</th>\n",
              "      <th>category</th>\n",
              "      <th>sub_category</th>\n",
              "      <th>owner</th>\n",
              "      <th>readme</th>\n",
              "      <th>combined</th>\n",
              "    </tr>\n",
              "  </thead>\n",
              "  <tbody>\n",
              "    <tr>\n",
              "      <th>0</th>\n",
              "      <td>cmocean</td>\n",
              "      <td>Colormap setup for standardizing commonly-plot...</td>\n",
              "      <td>Hydrosphere</td>\n",
              "      <td>Ocean and Hydrology Data Access</td>\n",
              "      <td>{'login': 'matplotlib', 'name': 'Matplotlib De...</td>\n",
              "      <td>cmocean\\n=======\\n\\n[![Build Status](https://i...</td>\n",
              "      <td>cmocean Colormap setup for standardizing commo...</td>\n",
              "    </tr>\n",
              "    <tr>\n",
              "      <th>1</th>\n",
              "      <td>TrapTagger</td>\n",
              "      <td>AI-Powered Camera-Trap Imagery Processing.</td>\n",
              "      <td>Biosphere</td>\n",
              "      <td>Terrestrial Animals</td>\n",
              "      <td>{'login': 'WildEyeConservation', 'name': 'Wild...</td>\n",
              "      <td>![WildEye Conservation Logo](https://wildeyeco...</td>\n",
              "      <td>TrapTagger AI-Powered Camera-Trap Imagery Proc...</td>\n",
              "    </tr>\n",
              "    <tr>\n",
              "      <th>2</th>\n",
              "      <td>OPEM</td>\n",
              "      <td>A modeling tool for evaluating the performance...</td>\n",
              "      <td>Energy Storage</td>\n",
              "      <td>Hydrogen</td>\n",
              "      <td>{'login': 'ECSIM', 'name': 'ECSIM', 'uuid': '3...</td>\n",
              "      <td>&lt;div align=\"center\"&gt;\\n&lt;img src=\"https://github...</td>\n",
              "      <td>OPEM A modeling tool for evaluating the perfor...</td>\n",
              "    </tr>\n",
              "    <tr>\n",
              "      <th>3</th>\n",
              "      <td>climlab</td>\n",
              "      <td>A Python package for process-oriented climate ...</td>\n",
              "      <td>Climate Change</td>\n",
              "      <td>Earth and Climate Modeling</td>\n",
              "      <td>{'login': 'climlab', 'name': 'climlab', 'uuid'...</td>\n",
              "      <td>=======\\nclimlab\\n=======\\n\\n|docs| |JOSS| |DO...</td>\n",
              "      <td>climlab A Python package for process-oriented ...</td>\n",
              "    </tr>\n",
              "    <tr>\n",
              "      <th>4</th>\n",
              "      <td>FINE</td>\n",
              "      <td>Provides a framework for modeling, optimizing ...</td>\n",
              "      <td>Energy Systems</td>\n",
              "      <td>Energy Modeling and Optimization</td>\n",
              "      <td>{'login': 'FZJ-IEK3-VSA', 'name': 'FZJ-IEK3', ...</td>\n",
              "      <td>&lt;!-- markdownlint-disable line-length no-inlin...</td>\n",
              "      <td>FINE Provides a framework for modeling, optimi...</td>\n",
              "    </tr>\n",
              "  </tbody>\n",
              "</table>\n",
              "</div>\n",
              "    <div class=\"colab-df-buttons\">\n",
              "\n",
              "  <div class=\"colab-df-container\">\n",
              "    <button class=\"colab-df-convert\" onclick=\"convertToInteractive('df-f66cf218-dab6-4f5e-88db-1756fbd06f2d')\"\n",
              "            title=\"Convert this dataframe to an interactive table.\"\n",
              "            style=\"display:none;\">\n",
              "\n",
              "  <svg xmlns=\"http://www.w3.org/2000/svg\" height=\"24px\" viewBox=\"0 -960 960 960\">\n",
              "    <path d=\"M120-120v-720h720v720H120Zm60-500h600v-160H180v160Zm220 220h160v-160H400v160Zm0 220h160v-160H400v160ZM180-400h160v-160H180v160Zm440 0h160v-160H620v160ZM180-180h160v-160H180v160Zm440 0h160v-160H620v160Z\"/>\n",
              "  </svg>\n",
              "    </button>\n",
              "\n",
              "  <style>\n",
              "    .colab-df-container {\n",
              "      display:flex;\n",
              "      gap: 12px;\n",
              "    }\n",
              "\n",
              "    .colab-df-convert {\n",
              "      background-color: #E8F0FE;\n",
              "      border: none;\n",
              "      border-radius: 50%;\n",
              "      cursor: pointer;\n",
              "      display: none;\n",
              "      fill: #1967D2;\n",
              "      height: 32px;\n",
              "      padding: 0 0 0 0;\n",
              "      width: 32px;\n",
              "    }\n",
              "\n",
              "    .colab-df-convert:hover {\n",
              "      background-color: #E2EBFA;\n",
              "      box-shadow: 0px 1px 2px rgba(60, 64, 67, 0.3), 0px 1px 3px 1px rgba(60, 64, 67, 0.15);\n",
              "      fill: #174EA6;\n",
              "    }\n",
              "\n",
              "    .colab-df-buttons div {\n",
              "      margin-bottom: 4px;\n",
              "    }\n",
              "\n",
              "    [theme=dark] .colab-df-convert {\n",
              "      background-color: #3B4455;\n",
              "      fill: #D2E3FC;\n",
              "    }\n",
              "\n",
              "    [theme=dark] .colab-df-convert:hover {\n",
              "      background-color: #434B5C;\n",
              "      box-shadow: 0px 1px 3px 1px rgba(0, 0, 0, 0.15);\n",
              "      filter: drop-shadow(0px 1px 2px rgba(0, 0, 0, 0.3));\n",
              "      fill: #FFFFFF;\n",
              "    }\n",
              "  </style>\n",
              "\n",
              "    <script>\n",
              "      const buttonEl =\n",
              "        document.querySelector('#df-f66cf218-dab6-4f5e-88db-1756fbd06f2d button.colab-df-convert');\n",
              "      buttonEl.style.display =\n",
              "        google.colab.kernel.accessAllowed ? 'block' : 'none';\n",
              "\n",
              "      async function convertToInteractive(key) {\n",
              "        const element = document.querySelector('#df-f66cf218-dab6-4f5e-88db-1756fbd06f2d');\n",
              "        const dataTable =\n",
              "          await google.colab.kernel.invokeFunction('convertToInteractive',\n",
              "                                                    [key], {});\n",
              "        if (!dataTable) return;\n",
              "\n",
              "        const docLinkHtml = 'Like what you see? Visit the ' +\n",
              "          '<a target=\"_blank\" href=https://colab.research.google.com/notebooks/data_table.ipynb>data table notebook</a>'\n",
              "          + ' to learn more about interactive tables.';\n",
              "        element.innerHTML = '';\n",
              "        dataTable['output_type'] = 'display_data';\n",
              "        await google.colab.output.renderOutput(dataTable, element);\n",
              "        const docLink = document.createElement('div');\n",
              "        docLink.innerHTML = docLinkHtml;\n",
              "        element.appendChild(docLink);\n",
              "      }\n",
              "    </script>\n",
              "  </div>\n",
              "\n",
              "\n",
              "<div id=\"df-954c2697-b192-4772-b9fd-a865433cbae3\">\n",
              "  <button class=\"colab-df-quickchart\" onclick=\"quickchart('df-954c2697-b192-4772-b9fd-a865433cbae3')\"\n",
              "            title=\"Suggest charts\"\n",
              "            style=\"display:none;\">\n",
              "\n",
              "<svg xmlns=\"http://www.w3.org/2000/svg\" height=\"24px\"viewBox=\"0 0 24 24\"\n",
              "     width=\"24px\">\n",
              "    <g>\n",
              "        <path d=\"M19 3H5c-1.1 0-2 .9-2 2v14c0 1.1.9 2 2 2h14c1.1 0 2-.9 2-2V5c0-1.1-.9-2-2-2zM9 17H7v-7h2v7zm4 0h-2V7h2v10zm4 0h-2v-4h2v4z\"/>\n",
              "    </g>\n",
              "</svg>\n",
              "  </button>\n",
              "\n",
              "<style>\n",
              "  .colab-df-quickchart {\n",
              "      --bg-color: #E8F0FE;\n",
              "      --fill-color: #1967D2;\n",
              "      --hover-bg-color: #E2EBFA;\n",
              "      --hover-fill-color: #174EA6;\n",
              "      --disabled-fill-color: #AAA;\n",
              "      --disabled-bg-color: #DDD;\n",
              "  }\n",
              "\n",
              "  [theme=dark] .colab-df-quickchart {\n",
              "      --bg-color: #3B4455;\n",
              "      --fill-color: #D2E3FC;\n",
              "      --hover-bg-color: #434B5C;\n",
              "      --hover-fill-color: #FFFFFF;\n",
              "      --disabled-bg-color: #3B4455;\n",
              "      --disabled-fill-color: #666;\n",
              "  }\n",
              "\n",
              "  .colab-df-quickchart {\n",
              "    background-color: var(--bg-color);\n",
              "    border: none;\n",
              "    border-radius: 50%;\n",
              "    cursor: pointer;\n",
              "    display: none;\n",
              "    fill: var(--fill-color);\n",
              "    height: 32px;\n",
              "    padding: 0;\n",
              "    width: 32px;\n",
              "  }\n",
              "\n",
              "  .colab-df-quickchart:hover {\n",
              "    background-color: var(--hover-bg-color);\n",
              "    box-shadow: 0 1px 2px rgba(60, 64, 67, 0.3), 0 1px 3px 1px rgba(60, 64, 67, 0.15);\n",
              "    fill: var(--button-hover-fill-color);\n",
              "  }\n",
              "\n",
              "  .colab-df-quickchart-complete:disabled,\n",
              "  .colab-df-quickchart-complete:disabled:hover {\n",
              "    background-color: var(--disabled-bg-color);\n",
              "    fill: var(--disabled-fill-color);\n",
              "    box-shadow: none;\n",
              "  }\n",
              "\n",
              "  .colab-df-spinner {\n",
              "    border: 2px solid var(--fill-color);\n",
              "    border-color: transparent;\n",
              "    border-bottom-color: var(--fill-color);\n",
              "    animation:\n",
              "      spin 1s steps(1) infinite;\n",
              "  }\n",
              "\n",
              "  @keyframes spin {\n",
              "    0% {\n",
              "      border-color: transparent;\n",
              "      border-bottom-color: var(--fill-color);\n",
              "      border-left-color: var(--fill-color);\n",
              "    }\n",
              "    20% {\n",
              "      border-color: transparent;\n",
              "      border-left-color: var(--fill-color);\n",
              "      border-top-color: var(--fill-color);\n",
              "    }\n",
              "    30% {\n",
              "      border-color: transparent;\n",
              "      border-left-color: var(--fill-color);\n",
              "      border-top-color: var(--fill-color);\n",
              "      border-right-color: var(--fill-color);\n",
              "    }\n",
              "    40% {\n",
              "      border-color: transparent;\n",
              "      border-right-color: var(--fill-color);\n",
              "      border-top-color: var(--fill-color);\n",
              "    }\n",
              "    60% {\n",
              "      border-color: transparent;\n",
              "      border-right-color: var(--fill-color);\n",
              "    }\n",
              "    80% {\n",
              "      border-color: transparent;\n",
              "      border-right-color: var(--fill-color);\n",
              "      border-bottom-color: var(--fill-color);\n",
              "    }\n",
              "    90% {\n",
              "      border-color: transparent;\n",
              "      border-bottom-color: var(--fill-color);\n",
              "    }\n",
              "  }\n",
              "</style>\n",
              "\n",
              "  <script>\n",
              "    async function quickchart(key) {\n",
              "      const quickchartButtonEl =\n",
              "        document.querySelector('#' + key + ' button');\n",
              "      quickchartButtonEl.disabled = true;  // To prevent multiple clicks.\n",
              "      quickchartButtonEl.classList.add('colab-df-spinner');\n",
              "      try {\n",
              "        const charts = await google.colab.kernel.invokeFunction(\n",
              "            'suggestCharts', [key], {});\n",
              "      } catch (error) {\n",
              "        console.error('Error during call to suggestCharts:', error);\n",
              "      }\n",
              "      quickchartButtonEl.classList.remove('colab-df-spinner');\n",
              "      quickchartButtonEl.classList.add('colab-df-quickchart-complete');\n",
              "    }\n",
              "    (() => {\n",
              "      let quickchartButtonEl =\n",
              "        document.querySelector('#df-954c2697-b192-4772-b9fd-a865433cbae3 button');\n",
              "      quickchartButtonEl.style.display =\n",
              "        google.colab.kernel.accessAllowed ? 'block' : 'none';\n",
              "    })();\n",
              "  </script>\n",
              "</div>\n",
              "\n",
              "    </div>\n",
              "  </div>\n"
            ],
            "application/vnd.google.colaboratory.intrinsic+json": {
              "type": "dataframe",
              "variable_name": "df",
              "summary": "{\n  \"name\": \"df\",\n  \"rows\": 1993,\n  \"fields\": [\n    {\n      \"column\": \"name\",\n      \"properties\": {\n        \"dtype\": \"string\",\n        \"num_unique_values\": 1985,\n        \"samples\": [\n          \"A-Profiles\",\n          \"mHM\",\n          \"Surfrider Plastic Origins\"\n        ],\n        \"semantic_type\": \"\",\n        \"description\": \"\"\n      }\n    },\n    {\n      \"column\": \"description\",\n      \"properties\": {\n        \"dtype\": \"string\",\n        \"num_unique_values\": 1990,\n        \"samples\": [\n          \"Aims to provide simple functions for creating data for conducting a spatial conservation prioritization for large scale areas of the ocean, specifically offshore areas.\",\n          \"Routines used by the USGS Coastal/Marine Hazards & Resources Program to process oceanographic time-series data.\",\n          \"Extracting and quantifying graphical representations of river and delta channel networks from binary masks.\"\n        ],\n        \"semantic_type\": \"\",\n        \"description\": \"\"\n      }\n    },\n    {\n      \"column\": \"category\",\n      \"properties\": {\n        \"dtype\": \"category\",\n        \"num_unique_values\": 13,\n        \"samples\": [\n          \"Consumption\",\n          \"Industrial Ecology\",\n          \"Hydrosphere\"\n        ],\n        \"semantic_type\": \"\",\n        \"description\": \"\"\n      }\n    },\n    {\n      \"column\": \"sub_category\",\n      \"properties\": {\n        \"dtype\": \"category\",\n        \"num_unique_values\": 62,\n        \"samples\": [\n          \"Atmospheric Composition and Dynamics\",\n          \"Battery\",\n          \"Ocean and Hydrology Data Access\"\n        ],\n        \"semantic_type\": \"\",\n        \"description\": \"\"\n      }\n    },\n    {\n      \"column\": \"owner\",\n      \"properties\": {\n        \"dtype\": \"object\",\n        \"semantic_type\": \"\",\n        \"description\": \"\"\n      }\n    },\n    {\n      \"column\": \"readme\",\n      \"properties\": {\n        \"dtype\": \"string\",\n        \"num_unique_values\": 1891,\n        \"samples\": [\n          \"OpenFAST\\n========\\n\\n|actions| |nbsp| |rtfd|\\n\\n.. |actions| image:: https://github.com/openfast/openfast/actions/workflows/automated-dev-tests.yml/badge.svg?branch=dev\\n   :target: https://github.com/OpenFAST/openfast/actions/workflows/automated-dev-tests.yml?query=workflow%3A%22Development+Pipeline%22\\n   :alt: Build Status\\n.. |rtfd| image:: https://readthedocs.org/projects/openfast/badge/?version=dev\\n   :target: https://openfast.readthedocs.io/en/dev\\n   :alt: Documentation Status\\n.. |nbsp| unicode:: 0xA0\\n   :trim:\\n\\nOpenFAST is a wind turbine simulation tool which builds on FAST v8. FAST.Farm\\nextends the capability of OpenFAST to simulate multi-turbine wind farms. They were\\ncreated with the goal of being community models developed and used by research\\nlaboratories, academia, and industry. They are managed by a dedicated team at the\\nNational Renewable Energy Lab. Our objective is to ensure that OpenFAST and FAST.Farm\\nare sustainable software that are well tested and well documented. If you'd like\\nto contribute, see the `Developer Documentation <https://openfast.readthedocs.io/en/dev/source/dev/index.html>`_\\nand any open GitHub issues with the\\n`Help Wanted <https://github.com/OpenFAST/openfast/issues?q=is%3Aopen+is%3Aissue+label%3A\\\"Help+wanted\\\">`_\\ntag.\\n\\n**OpenFAST is under active development**.\\n\\nFAST v8 - OpenFAST\\n------------------\\nThe transition from FAST v8 to OpenFAST represents the effort to better\\nsupport an open-source developer community around FAST-based aero-hydro-servo-\\nelastic engineering models of wind-turbines and wind-plants. OpenFAST is the\\nnext generation of FAST analysis tools. More information is available in the\\n`transition notes <http://openfast.readthedocs.io/en/latest/source/user/fast_to_openfast.html>`_.\\n\\nFAST v8, now OpenFAST, is a physics-based engineering tool for simulating the coupled dynamic\\nresponse of wind turbines. OpenFAST joins aerodynamics models, hydrodynamics models\\nfor offshore structures, control and electrical system (servo) dynamics models,\\nand structural (elastic) dynamics models to enable coupled nonlinear aero-\\nhydro-servo-elastic simulation in the time domain. The OpenFAST tool enables the\\nanalysis of a range of wind turbine configurations, including two- or\\nthree-blade horizontal-axis rotor, pitch or stall regulation, rigid or\\nteetering hub, upwind or downwind rotor, and lattice or tubular tower. The wind\\nturbine can be modeled on land or offshore on fixed-bottom or floating\\nsubstructures. OpenFAST is based on advanced engineering models derived from\\nfundamental laws, but with appropriate simplifications and assumptions, and\\nsupplemented where applicable with computational solutions and test data.\\n\\nWith OpenFAST, you can run large numbers of nonlinear time-domain simulations\\nin approximately real time to enable standards-based loads analysis for predicting\\nwind system ultimate and fatigue loads. You can also linearize the underlying\\nnonlinear model about an operating point to understand the system response\\nand enable the calculation of natural frequencies, damping, and mode shapes;\\nthe design of controllers, and analysis of aero-elastic instabilities.\\n\\nThe aerodynamic models use wind-inflow data and solve for the rotor-wake\\neffects and blade-element aerodynamic loads, including dynamic stall. The\\nhydrodynamics models simulate the regular or irregular incident waves and\\ncurrents and solve for the hydrostatic, radiation, diffraction, and viscous\\nloads on the offshore substructure. The control and electrical system models\\nsimulate the controller logic, sensors, and actuators of the blade-pitch,\\ngenerator-torque, nacelle-yaw, and other control devices, as well as the\\ngenerator and power-converter components of the electrical drive. The\\nstructural-dynamics models apply the control and electrical system\\nreactions, apply the aerodynamic and hydrodynamic loads, adds gravitational\\nloads, and simulate the elasticity of the rotor, drivetrain, and support\\nstructure. Coupling between all models is achieved through a modular\\ninterface and coupler (glue code).\\n\\nFAST.Farm extends the capabilities of OpenFAST to provide physics-based\\nengineering simulation of multi-turbine land-based, fixed-bottom offshore,\\nand floating offshore wind farms. With FAST.Farm, you can simulate each wind\\nturbine in the farm with an OpenFAST model and capture the relevant\\nphysics for prediction of wind farm power performance and structural loads,\\nincluding wind farm-wide ambient wind, super controller, and wake advection,\\nmeandering, and merging. FAST.Farm maintains computational efficiency\\nthrough parallelization to enable loads analysis for predicting the ultimate\\nand fatigue loads of each wind turbine in the farm.\\n\\n\\nDocumentation\\n-------------\\nThe full documentation is available at http://openfast.readthedocs.io/.\\n\\nThis documentation is stored and maintained alongside the source code.\\nIt is compiled into HTML with Sphinx and is tied to a particular version\\nof OpenFAST. `Readthedocs <http://openfast.readthedocs.io>`_ hosts the following\\nversions of the documentation:\\n\\n* ``latest`` - The latest commit on the ``main`` branch\\n* ``stable`` - Corresponds to the last tagged release\\n* ``dev`` - The latest commit on the ``dev`` branch\\n\\nThese can be toggled with the ``v: latest`` button in the lower left corner of\\nthe docs site.\\n\\nObtaining OpenFAST and FAST.Farm\\n--------------------------------\\nOpenFAST and FAST.Farm are hosted entirely on GitHub so you are in the\\n`right place <https://github.com/OpenFAST/OpenFAST>`_!\\nThe repository is structured with two branches following the\\n\\\"git-flow\\\" convention:\\n\\n* ``main``\\n* ``dev``\\n\\nThe ``main`` branch is stable, well tested, and represents the most up to\\ndate released versions of OpenFAST and FAST.Farm. The latest commit on ``main``\\ncontains a tag with version info and brief release notes. The tag history can be\\nobtained with the ``git tag`` command and viewed in more detail on\\n`GitHub Releases <https://github.com/OpenFAST/openfast/releases>`_. For general\\nuse, the ``main`` branch is highly recommended.\\n\\nThe ``dev`` branch is generally stable and tested, but not static. It contains\\nnew features, bug fixes, and documentation updates that have not been compiled\\ninto a production release. Before proceeding with new development, it is\\nrecommended to explore the ``dev`` branch. This branch is updated regularly\\nthrough pull requests, so be sure to ``git fetch`` often and check\\n`outstanding pull requests <https://github.com/OpenFAST/openfast/pulls>`_.\\n\\nFor those not familiar with git and GitHub, there are many resources:\\n\\n* https://guides.github.com\\n* https://try.github.io\\n* https://help.github.com/categories/bootcamp/\\n* https://desktop.github.com/\\n* http://nvie.com/posts/a-successful-git-branching-model/\\n\\nCompilation, Usage, and Development\\n-----------------------------------\\nDetails for compiling\\n`compiling <http://openfast.readthedocs.io/en/latest/source/install/index.html>`_,\\n`using <http://openfast.readthedocs.io/en/latest/source/user/index.html>`_, and\\n`developing <http://openfast.readthedocs.io/en/latest/source/dev/index.html>`_\\nOpenFAST and FAST.Farm on Unix-based and Windows machines are available at\\n`readthedocs <http://openfast.readthedocs.io>`_.\\n\\nHelp\\n----\\nPlease use `GitHub Issues <https://github.com/OpenFAST/OpenFAST/issues>`_ to:\\n\\n* ask usage questions\\n* report bugs\\n* request code enhancements\\n\\nUsers and developers may also be interested in the NREL National Wind\\nTechnology Center (NWTC) `phpBB Forum <https://wind.nrel.gov/forum/wind/>`_,\\nwhich is still maintained and has a long history of FAST-related questions\\nand answers.\\n\\nAcknowledgments\\n---------------\\n\\nOpenFAST and FAST.Farm are maintained and developed by researchers and software\\nengineers at the `National Renewable Energy Laboratory <http://www.nrel.gov/>`_\\n(NREL), with support from the US Department of Energy's Wind Energy Technology\\nOffice. NREL gratefully acknowledges development contributions from the following\\norganizations:\\n\\n* Envision Energy USA, Ltd\\n* Brigham Young University\\n* The University of Massachusetts\\n* `Intel\\u00ae Parallel Computing Center (IPCC) <https://software.intel.com/en-us/ipcc>`_\\n\",\n          \"![Screenshot](https://github.com/chriswmackey/Dragonfly/blob/master/dragonfly.png)\\n\\nDragonfly for Grasshopper\\n========================================\\nDragonfly allows users to model large-scale climate phenomena such as [urban heat island](https://github.com/chriswmackey/Dragonfly/wiki/Urban-Heat-Island).  Dragonfly intends\\nto make many large-scale climate variables accessible to CAD interfaces and the other insects of [Ladybug Tools](https://github.com/ladybug-tools).\\n\\nDragonfly uses the [Urban Weather Generator (uwg)](https://github.com/ladybug-tools/urbanWeatherGen), [Ladybug (legacy version)](https://github.com/mostaphaRoudsari/Ladybug) and ENVI_MET 5.<br/>\\n\\nCode of Envimet components: [df_envimet](https://github.com/AntonelloDN/df_envimet).\\n\\n\\nInstallation\\n========================================\\n[See requirements and installation instructions on our Wiki pages](https://github.com/chriswmackey/Dragonfly/wiki)\\n\\n\\nContributors (in alphabetical order):\\n========================================\\n\\n[Anna Song](https://github.com/annasong20)\\n\\n[Antonello Di Nunzio](https://github.com/antonellodn)\\n\\n[Chris Mackey](https://github.com/chriswmackey)\\n\\n[Joseph Yang](https://github.com/hansukyang)\\n\\n[Mostapha Roudsari](https://github.com/mostapharoudsari)\\n\\n[Saeran Vasanthakumar](https://github.com/saeranv)\\n\\n\\nMany thanks are due to the [Urban Microclimate Group at MIT](http://urbanmicroclimate.scripts.mit.edu/index.php) and Bruno Bueno et al.,\\nwho initially [developed the Urban Weather Generator for his PhD thesis](https://dspace.mit.edu/handle/1721.1/59107).\\n\",\n          \"\\n* Table of contents                               :toc_5:noexport:\\n- [[#greenland-liquid-water-discharge-from-1950-through-2021][Greenland liquid water discharge from 1950 through 2021]]\\n  - [[#updates-since-last-publication][Updates since last publication]]\\n    - [[#v-2023][v 2023]]\\n    - [[#v-2022-10][v 2022-10]]\\n    - [[#v-2022-08][v 2022-08]]\\n- [[#warning][WARNING]]\\n- [[#related-work][Related Work]]\\n- [[#citation][Citation]]\\n- [[#funding][Funding]]\\n- [[#accessing-this-data][Accessing this data]]\\n  - [[#introduction][Introduction]]\\n    - [[#database-format][Database Format]]\\n    - [[#notes][Notes]]\\n    - [[#requirements][Requirements]]\\n  - [[#examples][Examples]]\\n    - [[#command-line-interface][Command line interface]]\\n      - [[#usage-instructions][Usage Instructions]]\\n      - [[#outlets-and-basins][Outlets and basins]]\\n        - [[#one-point][One point]]\\n        - [[#polygon-covering-multiple-land-and-ice-outlets][Polygon covering multiple land and ice outlets]]\\n      - [[#discharge][Discharge]]\\n        - [[#one-point-1][One point]]\\n        - [[#polygon-covering-multiple-land-and-ice-outlets-1][Polygon covering multiple land and ice outlets]]\\n    - [[#python-api][Python API]]\\n      - [[#outlets-and-basins-1][Outlets and basins]]\\n        - [[#one-point-2][One point]]\\n        - [[#polygon-covering-multiple-land-and-ice-outlets-2][Polygon covering multiple land and ice outlets]]\\n      - [[#discharge-1][Discharge]]\\n        - [[#one-point-3][One point]]\\n        - [[#polygon-covering-multiple-land-and-ice-outlets-3][Polygon covering multiple land and ice outlets]]\\n\\n* Greenland liquid water discharge from 1950 through 2021\\n\\nThis is the source for \\\"Greenland liquid water discharge from 1958 through 2019\\\" and subsequent versions. \\n\\n+ The paper is located at https://doi.org/10.5194/essd-12-2811-2020.\\n+ The data sets are located at [[https://doi.org/10.22008/promice/freshwater][doi:10.22008/promice/freshwater]]\\n+ Companion paper: \\\"Greenland Ice Sheet solid ice discharge from 1986 through 2019\\\"\\n  + Publication: [[https://doi.org/10.5194/essd-12-1367-2020][doi:10.5194/essd-12-1367-2020]]\\n  + Source: https://github.com/GEUS-PROMICE/ice_discharge/\\n  + Data: [[https://doi.org/10.22008/promice/data/ice_discharge][doi:10.22008/promice/data/ice_discharge]]\\n    + Contains basins for [[https://doi.org/10.22008/FK2/KIDYD1][k=0.8]] (ice only), [[https://doi.org/10.22008/FK2/TARK8O][0.9]] (ice only), and [[https://doi.org/10.22008/FK2/XKQVL7][1.0]] (ice and land) scenarios\\n    + Discharge data is included in the [[https://doi.org/10.22008/FK2/XKQVL7][Streams, Outlets, and Basins (k=1.0)]]\\n\\n\\nThe source for this work is hosted on GitHub at https://github.com/GEUS-PROMICE/freshwater. GitHub [[https://github.com/mankoff/freshwater/issues?utf8=%E2%9C%93&q=is%3Aissue][issues]] are used to collect suggested improvements to the paper or problems that made it through review. The work may be under be under active development, including updating data (and therefore tables) within the source document.\\n+ This [[https://github.com/mankoff/freshwater/compare/10.5194/essd-12-2811-2020...main][diff]] shows changes between the published version of the paper and the current (active) development version.\\n  + Issues tagged [[https://github.com/GEUS-Glaciology-and-Climate/freshwater/issues?q=label%3Amajor_change][major change]] are worth noting and may be significant enough to update to the paper.\\n+ The source for the active development version can be viewed at https://github.com/GEUS-PROMICE/freshwater/tree/main\\n+ The source for the published paper can be viewed at https://github.com/GEUS-PROMICE/freshwater/tree/10.5194/essd-12-2811-2020\\n\\n** Updates since last publication\\n\\n*** v 2023\\n\\n[[https://github.com/GEUS-Glaciology-and-Climate/freshwater/tree/release_2023][release_2023]] has the following changes from [[https://github.com/GEUS-Glaciology-and-Climate/freshwater/tree/release_2022][v2022-08]]. See [[https://github.com/GEUS-Glaciology-and-Climate/freshwater/milestone/1][2023 Milestone]],  https://github.com/GEUS-Glaciology-and-Climate/freshwater/compare/release_2022...release_2023, and git log for more details\\n\\n+ Added 2022 RACMO data\\n+ Added 2022 MAR data\\n+ Updated MAR data from 3.12 to 3.13\\n+ Updated BedMachine from v4 to v5\\n+ Updated ArcticDEM from v3.0 to v4.1\\n\\n*** v 2022-10\\n\\nv 2022-10 has the following changes:\\n+ No change to the data values\\n+ Data product has been reformatted to 4 NetCDF files: One per RCM (2) and domain (2), each containing all years of data\\n  + E.g., MAR_ice, MAR_land, RACMO_ice, RACMO_Land\\n+ Data files are now part of the dataset that contains the Geopackages of streams, outlets, and basins, rather than their own dataset on the dataverse\\n  + DOI: 10.22008/FK2/AA6MTB has been Deaccesioned\\n  + DOI: [[https://doi.org/10.22008/FK2/XKQVL7][10.22008/FK2/XKQVL7]] now contains the discharge data\\n+ The README has been updated to show some additional examples using the metadata added in v3\\n\\n*** v 2022-08\\n\\nv 2022-08 has the following changes (see GitHub diff above for more details):\\n+ Update from BedMachine v3 to v4\\n+ Data now spans 1950 through 2021, instead of 1958 through 2019\\n+ Internal NetCDF variable renamed from 'runoff' to 'discharge'\\n+ Significant improvement in metadata supporting better query by basin, region, or sector\\n+ Recognition that land runoff with depth << 0 is valid\\n\\n* WARNING\\n\\n#+BEGIN_QUOTE\\n[!WARNING] \\n+ Bugs may exist in this data or the [[./discharge.py]] access script. All known bugs will be documented at [[https://github.com/GEUS-PROMICE/freshwater/issues]]. Before using this software or finalizing results, you should check if any [[https://github.com/mankoff/freshwater/issues][open issues]] impact your results, or if any issue have been [[https://github.com/mankoff/freshwater/issues?q=is%3Aissue+is%3Aclosed][closed]] since you downloaded the data or script.\\n#+END_QUOTE\\n\\n* Related Work  \\n\\n+ Companion paper: \\\"Greenland ice sheet mass balance from 1840 through next week\\\"\\n  + Publication: [[https://doi.org/10.5194/essd-13-5001-2021][doi:10.5194/essd-13-5001-2021]]\\n  + Source: https://github.com/GEUS-Glaciology-and-Climate/mass_balance\\n  + Data: https://doi.org/10.22008/FK2/OHI23Z\\n\\n+ Companion paper: \\\"Greenland Ice Sheet solid ice discharge from 1986 through March 2020\\\"\\n  + Publication: [[https://doi.org/10.5194/essd-12-1367-2020][doi:10.5194/essd-12-1367-2020]]\\n  + Source: https://github.com/GEUS-PROMICE/ice_discharge/\\n  + Data: [[https://doi.org/10.22008/promice/data/ice_discharge][doi:10.22008/promice/data/ice_discharge]]\\n\\n* Citation\\n\\n#+BEGIN_EXAMPLE\\n@article{mankoff_2020_liquid,\\n  author    = {Mankoff, Kenneth D. and No\\u00ebl, Brice and Fettweis, Xavier and Ahlstr\\u00f8m, Andreas P. and\\n                  Colgan, William and Kondo, Ken and Langley, Kirsty and Sugiyama, Shin and van As,\\n                  Dirk and Fausto, Robert S.},\\n  title     = {{G}reenland liquid water discharge from 1958 through 2019},\\n  journal   = {Earth System Science Data},\\n  year \\t    = 2020,\\n  volume    = 12,\\n  number    = 4,\\n  pages     = {2811\\u20132841},\\n  month     = 11,\\n  DOI \\t    = {10.5194/essd-12-2811-2020},\\n  publisher = {Copernicus GmbH}\\n}\\n#+END_EXAMPLE\\n\\n* Funding\\n\\n| Dates        | Organization | Program                                   | Effort                                 |\\n|--------------+--------------+-------------------------------------------+----------------------------------------|\\n| 2023 --      | NASA GISS    | Modeling Analysis and Prediction program. | Maintenance                            |\\n| 2022 --      | GEUS         | PROMICE                                   | Distribution (data hosting)            |\\n| 2018 -- 2022 | GEUS         | PROMICE                                   | Development; publication; distribution |\\n\\n\\n#+BEGIN_HTML\\n<br><br>\\n<table><tr>\\n<td>\\n<img src=\\\"https://github.com/GEUS-Glaciology-and-Climate/.github/blob/main/PROMICE.png\\\" width=\\\"300px\\\">\\n</td>\\n<td>\\n<img src=\\\"https://raw.githubusercontent.com/NASA-GISS/.github/main/profile/nasa-logo-web-rgb.png\\\" width=\\\"300 px\\\">\\n</td>\\n</tr></table>\\n<br><br>\\n#+END_HTML\\n\\n\\n* Accessing this data\\n** Introduction\\n\\nNOTE: Data can be accessed directly from the NetCDF files. Querying the NetCDF files directly allows more advanced queries on the metadata, for example, `all outlets with Jakobshavn Isbr\\u00e6 as the nearest discharge gate, excluding outlets more than 5 km away`. The `5 km` filter removes  stream discharge from Disko Island which has Jakobshavn Isbr\\u00e6 as the nearest discharge gate, but should not be counted as discharge from that basin.\\n\\nAs an example, it is easiest to begin working with the outlets, save subsetted data, visually check in QGIS, and then when your algorithm appears to work, apply the same query to the discharge NetCDF files. Example:\\n\\n#+BEGIN_SRC jupyter-python :exports code\\nimport pandas as pd\\nimport geopandas as gp\\n\\ndf = pd.read_csv('./freshwater/ice/outlets.csv', index_col=0)\\ngdf = gp.GeoDataFrame(df, geometry=gp.points_from_xy(df['lon'],df['lat']))\\n\\n# select subglacial discharge within 2.5 km of basins\\ngdf = gdf[(gdf['elev'] < -10) &\\n          (gdf['M2019_ID_dist'] < 2500)]\\n\\ngdf.to_file(\\\"foo.gpkg\\\", driver=\\\"GPKG\\\")\\n#+END_SRC\\n\\nSimilar queries might include:\\n+ Pandas =groupby= to combine outlets per gate, basin, sector, or region\\n+ Examining the ice outlet location, and the downstream coastal outlet location. If the two are the same, then the outlet is marine terminating. This may give better results than querying based on the BedMachine provided =elev= metadata.\\n\\nIf you prefer to not access the NetCDF files directly, after the data have been downloaded the =discharge.py= script allows access to outlets, basins, and their discharge within a region of interest (ROI). The ROI can be a point, a list describing a polygon, or a file. Optionally, upstream outlets, basins, and discharge from any land outlet(s) can be included. The script can be called from the command line (CLI) or within Python.\\n\\nThe ROI coordinate units can be either EPSG:4326 (lon,lat) or EPSG:3413. The units for the coordinates are guessed using the range of values. If the ROI is a point, basins that contain that point are selected. Either 1 (if the point is on land) or two (ice and the downstream land, if the point is on the ice) basins are selected, and optionally, all ice basins upstream from the one land basin. If the ROI is a polygon, all outlets within the polygon are selected. The polygon does not have to be closed - a convex hull is wrapped around it. If the argument is a file (e.g. KML file) then the first polygon is selected and used.\\n\\nWhen the script is run from the command line, CSV data is written to =stdout= and can be redirected to a file. When the API is accessed from within Python, if the script is used to access outlets, a =GeoPandas= =GeoDataFrame= is returned and can be used for further analysis within Python, or written to any file format supported by =GeoPandas= or =Pandas=, for example =CSV=, or =GeoPackage= for =QGIS=. If the script is used to access discharge, an =xarray= =Dataset= is returned, and can be used for further analysis within Python, or written to any file format supported by =xarray=, for example =CSV= or =NetCDF=.\\n\\n*** Database Format\\n\\n+ The =cat= column in the CSVs file links to the =station= vector in the NetCDF.\\n\\nThis script queries two database:\\n \\n+ land :: The land coast outlets and land basins.\\n+ ice :: ice margin outlets and ice basins.\\n\\nThe folder structure required is a =root= folder (named =freshwater= in the examples below, but can be anything) and then a =land= and =ice= sub-folder. The geospatial files for =land= and =ice= must be in these folders (i.e. the k=1.0 Streams, Outlets, and Basins dataset from https://dataverse.geus.dk/dataverse/freshwater), along with a =MAR.nc= and =RACMO.nc= in each of the =land= and =ice= folders.\\n\\nExample:\\n\\n#+BEGIN_SRC bash :results verbatim :exports results\\nfind ./freshwater/land/ ./freshwater/ice/ -maxdepth 1 | sort\\n#+END_SRC\\n\\n#+RESULTS:\\n#+begin_example\\n./freshwater/ice/\\n./freshwater/ice/basins.csv\\n./freshwater/ice/basins_filled.gpkg\\n./freshwater/ice/basins.gpkg\\n./freshwater/ice/MAR.nc\\n./freshwater/ice/outlets.csv\\n./freshwater/ice/outlets.gpkg\\n./freshwater/ice/RACMO.nc\\n./freshwater/ice/streams.csv\\n./freshwater/ice/streams.gpkg\\n./freshwater/land/\\n./freshwater/land/basins.csv\\n./freshwater/land/basins_filled.gpkg\\n./freshwater/land/basins.gpkg\\n./freshwater/land/MAR.nc\\n./freshwater/land/outlets.csv\\n./freshwater/land/outlets.gpkg\\n./freshwater/land/RACMO.nc\\n./freshwater/land/streams.csv\\n./freshwater/land/streams.gpkg\\n#+end_example\\n\\n*** Notes\\n\\n+ The script takes a few seconds to query the outlets and basins. The script takes ~10s of seconds to query each of the discharge time series datasets. Because there may be up to 6 discharge queries (2 RCMs for each of 1 land domain + ice domain + upstream ice), it can several minutes on a fast laptop to extract the data. To track progress, do not set the =quiet= flag to =True=.\\n\\n+ If a polygon includes ice outlets, and the ~upstream~ flag is set, some ice outlets, basins, and discharge may be included twice, once as a \\\"direct\\\" selection within the polygon and once as an upstream outlet and basin from the land polygon. Further processing by the user can remove duplicates (see examples below).\\n\\n+ The =id= column may not be unique for multiple reasons:\\n  + As above, the same outlet may be included twice.\\n  + =id='s are unique within a dataset (i.e. =land=, and =ice=), but not between datasets.\\n\\n+ Due to bash command-line parsing behavior, the syntax =--roi -60,60= does not work. Use ~--roi=-60,06~.\\n\\n+ Longitude is expected in degrees East, and should therefore probably be negative.\\n\\n+ The =cat= column in the CSVs file links to the =station= vector in the NetCDF.\\n\\n+ If possible, avoid using index-based lookups, and query based on location or =station=.\\n\\n*** Requirements\\n:PROPERTIES:\\n:header-args:jupyter-python: :kernel freshwater_user :session using :eval no-export\\n:END:\\n\\nSee =environment.yml= file in Git repository, or\\n\\n#+BEGIN_SRC bash\\nmamba create -n freshwater_user python=3.7 xarray=0.20.2 fiona=1.8.21 shapely=1.8.2 geopandas=0.7.0 netcdf4=1.6.0 dask=2.15.0\\nmamba activate freshwater_user\\n#+END_SRC\\n\\n** Examples\\n:PROPERTIES:\\n:header-args:jupyter-python: :kernel freshwater :session using :eval no-export :exports both\\n:header-args:bash: :eval no-export :session \\\"*freshwater-shell*\\\" :results verbatim :exports both :prologue conda activate freshwater_user\\n:END:\\n\\n*** Command line interface\\n**** Usage Instructions\\n\\n# (setq org-babel-min-lines-for-block-output 100)\\n\\n#+BEGIN_SRC bash :exports both\\npython ./discharge.py -h\\n#+END_SRC\\n\\n#+RESULTS:\\n#+begin_example\\nusage: discharge.py [-h] --base BASE --roi ROI [-u] (-o | -d) [-q]\\n\\nDischarge data access\\n\\noptional arguments:\\n  -h, --help       show this help message and exit\\n  --base BASE      Folder containing freshwater data\\n  --roi ROI        x,y OR lon,lat OR x0,y0 x1,y1 ... xn,yn OR lon0,lat0 lon1,lat1 ... lon_n,lat_n. [lon: degrees E]\\n  -u, --upstream   Include upstream ice outlets draining into land basins\\n  -o, --outlets    Return outlet IDs (same as basin IDs)\\n  -d, --discharge  Return RCM discharge for each domain (outlets merged)\\n  -q, --quiet      Be quiet\\n#+end_example\\n\\n**** Outlets and basins\\n***** One point\\n\\nThe simplest example is a point, in this case near the Watson River outlet. Because we select one point over land and do not request upstream outlets and basins, only one row should be returned.\\n\\n#+BEGIN_SRC bash :exports both :results table\\npython ./discharge.py --base ./freshwater --roi=-50.5,67.2 -o -q\\n#+END_SRC\\n\\n#+RESULTS:\\n| index |     id |     lon |    lat |       x |        y | elev | Z2012_sector | Z2012_sector_dist | M2019_ID | M2019_ID_dist | M2019_basin        | M2019_region | M2020_gate | M2020_gate_dist | B2015_name        | B2015_dist | domain | upstream | coast_id | coast_lon | coast_lat | coast_x | coast_y |\\n|     0 | 121108 | -51.219 | 67.153 | -271550 | -2492150 |    4 |           62 |             38320 |       71 |         38035 | ISUNNGUATA-RUSSELL | SW           |        195 |          193828 | Isunnguata Sermia |      45930 | land   | False    |       -1 |           |           |      -1 |      -1 |\\n\\nIf we move 10\\u00b0 east to somewhere over the ice, there should be four rows: one for the land outlet and basin, and three more for the three ice scenario:\\n\\n#+BEGIN_SRC bash :exports both :results table\\npython ./discharge.py --base ./freshwater --roi=-40.5,67.2 -o -q\\n#+END_SRC\\n\\n#+RESULTS:\\n| index |     id |     lon |    lat |      x |        y | elev | Z2012_sector | Z2012_sector_dist | M2019_ID | M2019_ID_dist | M2019_basin      | M2019_region | M2020_gate | M2020_gate_dist | B2015_name       | B2015_dist | domain | upstream | coast_id | coast_lon | coast_lat | coast_x |  coast_y |\\n|     0 | 126875 | -38.071 | 66.330 | 313650 | -2580750 | -187 |           41 |              5796 |       63 |             0 | HELHEIMGLETSCHER | SE           |        231 |            9650 | Helheim Gletsjer |      11776 | land   | False    |       -1 |           |           |      -1 |       -1 |\\n|     1 |  67985 | -38.110 | 66.333 | 311850 | -2580650 | -244 |           41 |              4177 |       63 |             0 | HELHEIMGLETSCHER | SE           |        231 |            7850 | Helheim Gletsjer |      10042 | ice    | False    |   126875 |   -38.071 |    66.330 |  313650 | -2580750 |\\n\\n***** Polygon covering multiple land and ice outlets\\n\\nHere a polygon covers several land outlets near the end of a fjord, and several ice outlets of the nearby ice margin. In addition, we request all ice outlets upstream of all selected land basins.\\n\\nWe use the following simple KML file for our ROI (this can be copied-and-pasted into the Google Earth side-bar to see it). Rather than use this file with ~--roi=/path/to/file.kml~, we use the coordinates directly, and demonstrate dropping the last coordinate because the code will wrap any polygon in a convex hull.\\n\\n#+BEGIN_SRC xml\\n<?xml version=\\\"1.0\\\" encoding=\\\"UTF-8\\\"?>\\n<kml xmlns=\\\"http://www.opengis.net/kml/2.2\\\" xmlns:gx=\\\"http://www.google.com/kml/ext/2.2\\\" xmlns:kml=\\\"http://www.opengis.net/kml/2.2\\\" xmlns:atom=\\\"http://www.w3.org/2005/Atom\\\">\\n<Document>\\n  <name>Ice and Land Sample</name>\\n  <Placemark>\\n    <name>ice and land</name>\\n    <LineString>\\n      <tessellate>1</tessellate>\\n      <coordinates>-51.50,66.93 -51.21,66.74 -49.44,66.91 -49.84,67.18 -51.50,66.93</coordinates>\\n    </LineString>\\n  </Placemark>\\n</Document>\\n</kml>\\n#+END_SRC\\n\\nIn this example, we query for upstream outlets, and for brevity show just the first three and last three lines.\\n\\n#+BEGIN_SRC bash :results table :exports both\\npython ./discharge.py --base ./freshwater --roi=\\\"-51.50,66.93 -51.21,66.74 -49.44,66.91 -49.84,67.18\\\" -q -u -o | (head -n3 ;tail -n4)\\n#+END_SRC\\n\\n#+RESULTS:\\n| index |     id |     lon |    lat |       x |        y | elev | Z2012_sector | Z2012_sector_dist | M2019_ID | M2019_ID_dist | M2019_basin                                   | M2019_region | M2020_gate | M2020_gate_dist | B2015_name        | B2015_dist | domain | upstream | coast_id | coast_lon | coast_lat | coast_x |  coast_y |\\n|     0 | 122055 | -50.713 | 67.002 | -251250 | -2511450 |   20 |           62 |             22184 |       71 |         22906 | ISUNNGUATA-RUSSELL                            | SW           |        195 |          207779 | Isunnguata Sermia |      31644 | land   | False    |       -1 |           |           |      -1 |       -1 |\\n|     1 | 122222 | -50.735 | 66.988 | -252350 | -2512850 |    7 |           62 |             23683 |       71 |         24427 | ISUNNGUATA-RUSSELL                            | SW           |        195 |          209355 | Isunnguata Sermia |      33360 | land   | False    |       -1 |           |           |      -1 |       -1 |\\n|   203 |  67946 | -49.521 | 66.438 | -203950 | -2579550 |  767 |           62 |                 0 |       40 |             0 | SAQQAP-MAJORQAQ-SOUTHTERRUSSEL_SOUTHQUARUSSEL | SW           |        262 |          199999 | Quantum Gletsjer  |      80065 | ice    | True     |   123466 |   -50.652 |    66.868 | -250050 | -2526750 |\\n|   204 |  68014 | -49.544 | 66.419 | -205150 | -2581550 |  825 |           62 |                 0 |       40 |           184 | SAQQAP-MAJORQAQ-SOUTHTERRUSSEL_SOUTHQUARUSSEL | SW           |        262 |          197830 | Quantum Gletsjer  |      78386 | ice    | True     |   123466 |   -50.652 |    66.868 | -250050 | -2526750 |\\n|   205 |  68056 | -49.535 | 66.407 | -204850 | -2582950 |  859 |           62 |                 0 |       40 |             0 | SAQQAP-MAJORQAQ-SOUTHTERRUSSEL_SOUTHQUARUSSEL | SW           |        262 |          196497 | Quantum Gletsjer  |      78340 | ice    | True     |   123466 |   -50.652 |    66.868 | -250050 | -2526750 |\\n\\n**** Discharge\\n\\nThe discharge examples here use the same code as the \\\"outlets and basins\\\" examples above, except we use =--discharge= rather than =--outlet=.\\n\\n***** One point\\n\\nThe simplest example is a point, in this case near the Watson River outlet. Because we select one point over land and do not request upstream outlets and basins, two time series should be returned: =MAR_land= and =RACMO_land=. Rather than showing results for every day from 1958 through 2019, we limit to the header and the first 10 days of June, 2012.\\n\\n#+BEGIN_SRC bash :exports both :results table\\npython ./discharge.py --base ./freshwater --roi=-50.5,67.2 -q -d | (head -n1; grep -A9 \\\"^2012-06-01\\\")\\n#+END_SRC\\n\\n#+RESULTS:\\n|       time |  MAR_land | RACMO_land |\\n| 2012-06-01 | 11.893755 |   0.029936 |\\n| 2012-06-02 | 10.126999 |   0.001237 |\\n| 2012-06-03 |  8.114753 |   0.001323 |\\n| 2012-06-04 |  3.970580 |   0.000000 |\\n| 2012-06-05 |  0.313908 |  -0.001191 |\\n| 2012-06-06 |  0.478592 |   0.303289 |\\n| 2012-06-07 |  0.330184 |   0.007452 |\\n| 2012-06-08 |  2.857732 |   0.193424 |\\n| 2012-06-09 |  0.308489 |   0.087070 |\\n| 2012-06-10 |  0.308755 |   0.024483 |\\n\\n+ If we move 10\\u00b0 east to somewhere over the ice we add two columns: One for each of the two RCMs over the ice domain.\\n+ If the =--upstream= flag is set, we add two columns: One for each of the RCMs over the *upstream* ice domains. Results are summed across outlets per domain.\\n+ Results are therefore one of the following\\n  + Two columns: 2 RCM * 1 land domain\\n  + Four columns: 2 RCM * (1 land + 1 ice domain)\\n  + Four columns: 2 RCM * (1 land + 1 upstream ice domain)\\n  + Six columns: 2 RCM * (1 land + 1 ice + 1 upstream ice domain)\\n\\n***** Polygon covering multiple land and ice outlets\\n\\nWhen querying using an ROI that covers multiple outlets, discharge is summed by domain. Therefore, even if 100s of outlets are within the ROI, either two columns, eight, eight, or fourteen columns are returned depending on the options.\\n\\n*** Python API\\n\\nThe python API is similar to the command line interface, but rather than printing results to =stdout=, returns a =GeoPandas= =GeoDataFrame= of outlets, an =xarray= =Dataset= of discharge. The discharge is not summed by domain, but instead contains discharge for each outlet.\\n\\n**** Outlets and basins\\n\\n***** One point\\n\\nThe simplest example is a point, in this case near the Watson River outlet. Because we select one point over land and do not request upstream outlets and basins, only one row should be returned.\\n\\n#+BEGIN_SRC jupyter-python :session using\\nfrom discharge import discharge \\ndf = discharge(base=\\\"./freshwater\\\", roi=\\\"-50.5,67.2\\\", quiet=True).outlets()\\n#+END_SRC\\n\\n#+RESULTS:\\n\\nThe =df= variable is a =Pandas= =GeoDataFrame=. \\n\\nIt includes two geometry columns\\n+ =outlet= :: A point for the location of the outlet (also available as the =x= and =y= columns)\\n+ =basin= :: A polygon describing this basin\\n\\nBecause the geometry columns do not display well in tabular form, we drop them. \\n\\n#+BEGIN_SRC jupyter-python :session using\\ndf.drop(columns=[\\\"outlet\\\",\\\"basin\\\"])\\n#+END_SRC\\n\\n#+RESULTS:\\n| index |     id |      lon |     lat |       x |        y | elev | Z2012_sector | Z2012_sector_dist | M2019_ID | M2019_ID_dist | M2019_basin        | M2019_region | M2020_gate | M2020_gate_dist | B2015_name        | B2015_dist | domain | upstream | coast_id | coast_lon | coast_lat | coast_x | coast_y |\\n|-------+--------+----------+---------+---------+----------+------+--------------+-------------------+----------+---------------+--------------------+--------------+------------+-----------------+-------------------+------------+--------+----------+----------+-----------+-----------+---------+---------|\\n|     0 | 121108 | -51.2185 | 67.1535 | -271550 | -2492150 |    4 |           62 |             38320 |       71 |         38035 | ISUNNGUATA-RUSSELL | SW           |        195 |          193828 | Isunnguata Sermia |      45930 | land   | False    |       -1 |       nan |       nan |      -1 |      -1 |\\n\\n***** Polygon covering multiple land and ice outlets\\n\\nHere a polygon covers several land outlets near the end of a fjord, and several ice outlets of the nearby ice margin. In addition, we request all ice outlets upstream of all selected land basins. Results are shown in tabular form and written to geospatial file formats.\\n\\n#+BEGIN_SRC jupyter-python :session using\\nfrom discharge import discharge\\ndf = discharge(base=\\\"./freshwater\\\", roi=\\\"-51.50,66.93 -51.21,66.74 -49.44,66.91 -49.84,67.18\\\", quiet=True, upstream=True).outlets()\\n#+END_SRC\\n\\n#+RESULTS:\\n\\nView the first few rows, excluding the geometry columns\\n\\n#+BEGIN_SRC jupyter-python :session using\\ndf.drop(columns=[\\\"outlet\\\",\\\"basin\\\"]).head()\\n#+END_SRC\\n\\n#+RESULTS:\\n| index |     id |      lon |     lat |       x |        y | elev | Z2012_sector | Z2012_sector_dist | M2019_ID | M2019_ID_dist | M2019_basin        | M2019_region | M2020_gate | M2020_gate_dist | B2015_name        | B2015_dist | domain | upstream | coast_id | coast_lon | coast_lat | coast_x | coast_y |\\n|-------+--------+----------+---------+---------+----------+------+--------------+-------------------+----------+---------------+--------------------+--------------+------------+-----------------+-------------------+------------+--------+----------+----------+-----------+-----------+---------+---------|\\n|     0 | 122055 |  -50.713 | 67.0017 | -251250 | -2511450 |   20 |           62 |             22184 |       71 |         22906 | ISUNNGUATA-RUSSELL | SW           |        195 |          207779 | Isunnguata Sermia |      31644 | land   | False    |       -1 |       nan |       nan |      -1 |      -1 |\\n|     1 | 122222 | -50.7346 | 66.9884 | -252350 | -2512850 |    7 |           62 |             23683 |       71 |         24427 | ISUNNGUATA-RUSSELL | SW           |        195 |          209355 | Isunnguata Sermia |      33360 | land   | False    |       -1 |       nan |       nan |      -1 |      -1 |\\n|     2 | 122251 | -50.7748 |  66.985 | -254150 | -2513050 |   -1 |           62 |             25444 |       71 |         26179 | ISUNNGUATA-RUSSELL | SW           |        195 |          209887 | Isunnguata Sermia |      34934 | land   | False    |       -1 |       nan |       nan |      -1 |      -1 |\\n|     3 | 122275 | -50.8707 | 66.9767 | -258450 | -2513550 |    4 |           62 |             29682 |       71 |         30397 | ISUNNGUATA-RUSSELL | SW           |        195 |          211236 | Isunnguata Sermia |      38789 | land   | False    |       -1 |       nan |       nan |      -1 |      -1 |\\n|     4 | 122285 | -50.8569 | 66.9764 | -257850 | -2513650 |   15 |           62 |             29141 |       71 |         29862 | ISUNNGUATA-RUSSELL | SW           |        195 |          211209 | Isunnguata Sermia |      38336 | land   | False    |       -1 |       nan |       nan |      -1 |      -1 |\\n\\nView the last few rows:\\n\\nNote that the =domain= and =upstream= columns can be used to subset the table.\\n\\n#+BEGIN_SRC jupyter-python :session using\\ndf.drop(columns=[\\\"outlet\\\",\\\"basin\\\"]).tail()\\n#+END_SRC\\n\\n#+RESULTS:\\n| index |    id |      lon |     lat |       x |        y | elev | Z2012_sector | Z2012_sector_dist | M2019_ID | M2019_ID_dist | M2019_basin                                   | M2019_region | M2020_gate | M2020_gate_dist | B2015_name       | B2015_dist | domain | upstream | coast_id | coast_lon | coast_lat | coast_x |  coast_y |\\n|-------+-------+----------+---------+---------+----------+------+--------------+-------------------+----------+---------------+-----------------------------------------------+--------------+------------+-----------------+------------------+------------+--------+----------+----------+-----------+-----------+---------+----------|\\n|   201 | 67919 | -49.4996 | 66.4435 | -202950 | -2578950 |  791 |           62 |                 0 |       40 |             6 | SAQQAP-MAJORQAQ-SOUTHTERRUSSEL_SOUTHQUARUSSEL | SW           |        262 |          200758 | Quantum Gletsjer |      81191 | ice    | True     |   123466 |  -50.6517 |   66.8677 | -250050 | -2526750 |\\n|   202 | 67935 | -49.5385 | 66.4378 | -204750 | -2579450 |  764 |           62 |                 0 |       40 |             0 | SAQQAP-MAJORQAQ-SOUTHTERRUSSEL_SOUTHQUARUSSEL | SW           |        262 |          199967 | Quantum Gletsjer |      79323 | ice    | True     |   123466 |  -50.6517 |   66.8677 | -250050 | -2526750 |\\n|   203 | 67946 | -49.5206 | 66.4375 | -203950 | -2579550 |  767 |           62 |                 0 |       40 |             0 | SAQQAP-MAJORQAQ-SOUTHTERRUSSEL_SOUTHQUARUSSEL | SW           |        262 |          199999 | Quantum Gletsjer |      80065 | ice    | True     |   123466 |  -50.6517 |   66.8677 | -250050 | -2526750 |\\n|   204 | 68014 | -49.5436 |  66.419 | -205150 | -2581550 |  825 |           62 |                 0 |       40 |           184 | SAQQAP-MAJORQAQ-SOUTHTERRUSSEL_SOUTHQUARUSSEL | SW           |        262 |          197830 | Quantum Gletsjer |      78386 | ice    | True     |   123466 |  -50.6517 |   66.8677 | -250050 | -2526750 |\\n|   205 | 68056 | -49.5346 | 66.4068 | -204850 | -2582950 |  859 |           62 |                 0 |       40 |             0 | SAQQAP-MAJORQAQ-SOUTHTERRUSSEL_SOUTHQUARUSSEL | SW           |        262 |          196497 | Quantum Gletsjer |      78340 | ice    | True     |   123466 |  -50.6517 |   66.8677 | -250050 | -2526750 |\\n\\nFinally, write data to various file formats. GeoPandas DataFrames can only have one geometry, so we must select one and drop the other before writing the file.\\n\\n#+BEGIN_SRC jupyter-python :session using\\ndf.drop(columns=[\\\"outlet\\\",\\\"basin\\\"]).to_csv(\\\"outlets.csv\\\")\\ndf.set_geometry(\\\"outlet\\\").drop(columns=\\\"basin\\\").to_file(\\\"outlets.gpkg\\\", driver=\\\"GPKG\\\")\\ndf.set_geometry(\\\"basin\\\").drop(columns=\\\"outlet\\\").to_file(\\\"basins.gpkg\\\", driver=\\\"GPKG\\\")\\n#+END_SRC\\n\\n**** Discharge\\n\\nThe code here is the same as above from the \\\"Outlets and basins\\\" section, but we call =discharge()= rather than =outlets()=.\\n\\n***** One point\\n\\nThe simplest example is a point, in this case near the Watson River outlet. Because we select one point over land and do not request upstream outlets and basins, only one row should be returned.\\n\\n#+BEGIN_SRC jupyter-python :session using\\nfrom discharge import discharge\\nds = discharge(base=\\\"./freshwater\\\", roi=\\\"-50.5,67.2\\\").discharge()\\n#+END_SRC\\n\\nPrint the =xarray= =Dataset=:\\n\\n#+BEGIN_SRC jupyter-python :session using :exports both\\nprint(ds)\\n#+END_SRC\\n\\n#+RESULTS:\\n: <xarray.Dataset>\\n: Dimensions:     (land: 1, time: 26663)\\n: Coordinates:\\n:   * time        (time) datetime64[ns] 1950-01-01 1950-01-02 ... 2022-12-31\\n:   * land        (land) uint64 121108\\n: Data variables:\\n:     MAR_land    (time, land) float64 0.0007218 0.0007235 ... 0.6995 0.7007\\n:     RACMO_land  (time, land) float64 nan nan nan nan ... 0.1555 0.1591 0.1549\\n\\nDisplay the time series. Unlike the command line interface, here the outlets are not merged.\\n\\n#+BEGIN_SRC jupyter-python :session using\\nds.sel(time=slice('2012-06-01','2012-06-10')).to_dataframe()\\n#+END_SRC\\n\\n#+RESULTS:\\n|                                                      | MAR_land | RACMO_land |\\n|------------------------------------------------------+----------+------------|\\n| (121108, Timestamp('2012-06-01 00:00:00', freq='D')) |  11.8938 |   0.029936 |\\n| (121108, Timestamp('2012-06-02 00:00:00', freq='D')) |   10.127 | 0.00123702 |\\n| (121108, Timestamp('2012-06-03 00:00:00', freq='D')) |  8.11475 | 0.00132286 |\\n| (121108, Timestamp('2012-06-04 00:00:00', freq='D')) |  3.97058 |          0 |\\n| (121108, Timestamp('2012-06-05 00:00:00', freq='D')) | 0.313908 | -0.0011907 |\\n| (121108, Timestamp('2012-06-06 00:00:00', freq='D')) | 0.478592 |   0.303289 |\\n| (121108, Timestamp('2012-06-07 00:00:00', freq='D')) | 0.330184 | 0.00745243 |\\n| (121108, Timestamp('2012-06-08 00:00:00', freq='D')) |  2.85773 |   0.193424 |\\n| (121108, Timestamp('2012-06-09 00:00:00', freq='D')) | 0.308489 |  0.0870701 |\\n| (121108, Timestamp('2012-06-10 00:00:00', freq='D')) | 0.308755 |  0.0244829 |\\n\\n\\nIn order to merge the outlets, select all coordinates that are *not time* and merge them. Also, apply a rolling mean:\\n\\n#+BEGIN_SRC jupyter-python :session using\\ndims = [_ for _ in ds.dims.keys() if _ != 'time']  # get all dimensions except the time dimension\\nds.sum(dim=dims)\\\\\\n  .rolling(time=7)\\\\\\n  .mean()\\\\\\n  .sel(time=slice('2012-06-01','2012-06-10'))\\\\\\n  .to_dataframe()\\n#+END_SRC\\n\\n#+RESULTS:\\n| time                | MAR_land | RACMO_land |\\n|---------------------+----------+------------|\\n| 2012-06-01 00:00:00 |   30.644 |    1.39377 |\\n| 2012-06-02 00:00:00 |  31.1031 |     1.2407 |\\n| 2012-06-03 00:00:00 |  27.5909 |   0.458691 |\\n| 2012-06-04 00:00:00 |  21.0425 |   0.157925 |\\n| 2012-06-05 00:00:00 |  14.3486 |  0.0893565 |\\n| 2012-06-06 00:00:00 |  8.40202 |  0.0880673 |\\n| 2012-06-07 00:00:00 |  5.03268 |  0.0488637 |\\n| 2012-06-08 00:00:00 |  3.74182 |  0.0722192 |\\n| 2012-06-09 00:00:00 |  2.33918 |   0.084481 |\\n| 2012-06-10 00:00:00 |  1.22403 |  0.0877896 |\\n\\n***** Polygon covering multiple land and ice outlets\\n\\nHere a polygon covers several land outlets near the end of a fjord, and several ice outlets of the nearby ice margin. In addition, we request all ice outlets upstream of all selected land basins.\\n\\n#+BEGIN_SRC jupyter-python :session using\\nfrom discharge import discharge\\nds = discharge(base=\\\"./freshwater\\\", roi=\\\"-51.50,66.93 -51.21,66.74 -49.44,66.91 -49.84,67.18\\\", quiet=True, upstream=True).discharge()\\n#+END_SRC\\n\\nWhat are the dimensions (i.e. how many outlets in each domain?)\\n\\n#+BEGIN_SRC jupyter-python :session using :exports both\\nprint(ds)\\n#+END_SRC\\n\\n#+RESULTS:\\n#+begin_example\\n<xarray.Dataset>\\nDimensions:             (ice: 33, ice_upstream: 85, land: 88, time: 26663)\\nCoordinates:\\n  ,* ice_upstream        (ice_upstream) uint64 66407 66414 66416 ... 68014 68056\\n  ,* time                (time) datetime64[ns] 1950-01-01 ... 2022-12-31\\n  ,* land                (land) uint64 122055 122222 122251 ... 123897 123926\\n  ,* ice                 (ice) uint64 66425 66427 66444 ... 66595 66596 66639\\nData variables:\\n    MAR_land            (time, land) float64 0.0002109 1.244e-06 ... 0.005236\\n    MAR_ice             (time, ice) float64 2.94e-16 2.026e-17 ... 2.785e-18\\n    RACMO_land          (time, land) float64 nan nan nan ... 0.001346 0.1365\\n    RACMO_ice           (time, ice) float64 nan nan nan ... 0.0001123 0.004071\\n    MAR_ice_upstream    (time, ice_upstream) float64 1.261e-17 ... 1.855e-17\\n    RACMO_ice_upstream  (time, ice_upstream) float64 nan nan ... 5.79e-05\\n#+end_example\\n\\nWith these results:\\n+ Sum all outlets within each domain\\n+ Drop the land discharge and the upstream domains (keep only ice discharge explicitly within our ROI)\\n+ Apply a 5-day rolling mean\\n+ Plot 2012 discharge season\\n\\n#+BEGIN_SRC jupyter-python :session using\\nd = [_ for _ in ds.dims.keys() if _ != 'time'] # dims for summing (don't sum time dimension)\\nv = [_ for _ in ds.data_vars if ('land' in _) | ('_u' in _)] # vars containing '_u'\\n\\nr = ds.sum(dim=d)\\\\\\n      .drop_vars(v)\\\\\\n      .rolling(time=5).mean()\\n\\nimport matplotlib.pyplot as plt\\nplt.style.use('seaborn')\\n\\nfor d in r.data_vars: r[d].sel(time=slice('2012-04-01','2012-11-15')).plot(drawstyle='steps', label=d)\\n_ = plt.legend()\\nplt.savefig(\\\"./fig/api_example.png\\\", bbox_inches='tight')\\n#+END_SRC\\n\\n#+RESULTS:\\n\\n[[./fig/api_example.png]]\\n\"\n        ],\n        \"semantic_type\": \"\",\n        \"description\": \"\"\n      }\n    },\n    {\n      \"column\": \"combined\",\n      \"properties\": {\n        \"dtype\": \"string\",\n        \"num_unique_values\": 1993,\n        \"samples\": [\n          \"oceandatr Aims to provide simple functions for creating data for conducting a spatial conservation prioritization for large scale areas of the ocean, specifically offshore areas. Biosphere Conservation and Restoration ---\\noutput: github_document\\n---\\n\\n<!-- README.md is generated from README.Rmd. Please edit that file -->\\n\\n```{r, include = FALSE}\\nknitr::opts_chunk$set(\\n  collapse = TRUE,\\n  comment = \\\"#>\\\",\\n  fig.path = \\\"man/figures/README-\\\",\\n  out.width = \\\"1%\\\"\\n)\\ndevtools::load_all()\\n\\n#figure output settings\\nh = 6\\nw = 6\\now = \\\"600\\\"\\n```\\n\\n# oceandatr <a href=\\\"https://emlab-ucsb.github.io/oceandatr/\\\"><img src=\\\"man/figures/logo.png\\\" align=\\\"right\\\" height=\\\"139\\\" alt=\\\"oceandatr website\\\" /></a>\\n\\n<!-- badges: start -->\\n<!-- badges: end -->\\n\\n`oceandatr` aims to provide simple functions for creating data for conducting a spatial conservation prioritization for large scale areas of the ocean, specifically offshore areas.\\n\\nFish images in logo modified from original by Tracey Saxby, [Integration and Application Network](https://ian.umces.edu/media-library)\\n\\n## Installation\\n\\nYou can install oceandatr from [GitHub](https://github.com/) with:\\n\\n```{r, eval = FALSE}\\nif (!require(remotes)) install.packages(\\\"remotes\\\")\\n#might need to increase timeout as it is a large package\\noptions(timeout = 9999)\\nremotes::install_github(\\\"emlab-ucsb/oceandatr\\\")\\n```\\n\\n## Example of usage\\n\\n```{r eval=FALSE}\\n#load oceandatr package\\nlibrary(oceandatr)\\n```\\n\\n### Obtain an EEZ for an area of interest\\n\\nThis function pulls data for EEZs from the [Marine Gazetteer](https://marineregions.org/gazetteer.php) using the `mregions2` R package; the function is just a wrapper to make the process a bit simpler. \\n\\n```{r area of interest, fig.height=h, fig.width=w, out.width=ow}\\nbermuda_eez <- get_area(area_name = \\\"Bermuda\\\", mregions_column = \\\"territory1\\\")\\n\\n#plot to check we have Bermuda's EEZ\\nplot(bermuda_eez[1], col = \\\"lightblue\\\", main=NULL, axes=TRUE)\\n```\\n\\n# Choose a CRS\\n\\nBest practice is to use a local, equal area projection for all geospatial data for use in the prioritization. Finding a suitable projection can be tricky, but [projection wizard](https://projectionwizard.org) provides a handy tool. Standard projections used for countries can also be found at https://epsg.io/ by searching with country name. \\n\\nThe bounding box coordinates for the area of interest can be used to generate the coordinate reference system (CRS) on [projection wizard](https://projectionwizard.org)\\n\\n```{r}\\nsf::st_bbox(bermuda_eez)\\n```\\n\\nThe coordinates above should be entered as the 'Geographic extent' and the map should then have a box drawn around the bounding box of the area of interest. The projection can then be copied and pasted from the pop-up box when clicking on 'WKT' or 'PROJ'. For brevity, we are using the PROJ string, but WKT is now [generally preferred](https://inbo.github.io/tutorials/tutorials/spatial_crs_coding/). The projection needs to be placed in quotation marks as follows:\\n\\n```{r projection}\\nprojection_bermuda <- '+proj=laea +lon_0=-64.8108333 +lat_0=32.3571917 +datum=WGS84 +units=m +no_defs'\\n```\\n\\n\\n### Get a planning grid for the area of interest\\n\\nA planning grid is needed for spatial prioritization. This divides the area of interest into grid cells. The `get_grid` function will return a planning grid for the specified area of interest (polygon), projected into the coordinate reference system specified, at the cell resolution specified in kilometres.\\n\\n```{r planning grid, warning=FALSE, fig.height=h, fig.width=w, out.width=ow}\\nplanning_grid <- get_grid(area_polygon = bermuda_eez, projection_crs = projection_bermuda, resolution = 5000)\\n\\n#project the eez into same projection as planning grid for plotting\\nbermuda_eez_projected <- bermuda_eez %>% \\n  sf::st_transform(crs = projection_bermuda) %>% \\n  sf::st_geometry()\\n\\n#plot the planning grid\\nterra::plot(planning_grid, col = \\\"gold3\\\", axes = FALSE, legend = FALSE)\\nplot(bermuda_eez_projected, add=TRUE)\\n```\\n\\nThe raster covers Bermuda's EEZ. The grid cells would be too small to see if we plotted them, but here is a coarser grid (lower resolution) visualized so we can see what the grid cells look like.\\n\\n```{r planning grid cells, fig.height=h, fig.width=w, out.width=ow}\\nplanning_grid_coarse <- get_grid(area_polygon = bermuda_eez, projection_crs = projection_bermuda, resolution = 20000)\\n\\nplot(bermuda_eez_projected, axes = FALSE)\\nterra::plot(terra::as.polygons(planning_grid_coarse, dissolve = FALSE), add=TRUE)\\n```\\n\\n### Get bathymetry\\n\\nNow we have our planning grid, we can get data for this area of interest. A key piece of data is bathymetry. If the user has downloaded data for the area of interest from the [GEBCO website](https://www.gebco.net), they can pass the file path to this function and it will crop and rasterize the data using the supplied planning grid. If no file path is provided, the function will extract bathymetry data for the area from the [ETOPO 2022 Global Relief model](https://www.ncei.noaa.gov/products/etopo-global-relief-model) using a function borrowed from the `marmap` package.\\n\\n```{r bathymetry, fig.height=h, fig.width=w, out.width=ow}\\nbathymetry <- get_bathymetry(spatial_grid = planning_grid, classify_bathymetry = FALSE)\\n\\nterra::plot(bathymetry, col = hcl.colors(n=255, \\\"Blues\\\"), axes = FALSE) \\nplot(bermuda_eez_projected, add=TRUE)\\n```\\n\\n### Depth classification\\n\\nThe ocean can be classified into 5 depth zones:\\n\\n* 0 - 200m: Epipelagic zone\\n* 200 - 1000m: Mesopelagic zone\\n* 1000 - 4000m: Bathypelagic zone\\n* 4000 - 6000m: Abyssopelagic zone\\n* 6000m+: Hadopelagic zone\\n\\nWe can get the depth zones for Bermuda simply by setting the `classify_bathymetry` argument in `get_bathymetry` to `TRUE`.\\n\\n```{r depth classification, fig.height=h, fig.width=w, out.width=ow}\\ndepth_zones <- get_bathymetry(spatial_grid = planning_grid, classify_bathymetry = TRUE)\\n\\nterra::plot(depth_zones, col = \\\"navyblue\\\", axes = FALSE, legend = FALSE, fun = function(){terra::lines(terra::vect(bermuda_eez_projected))})\\n```\\n\\n### Get geomorphological data\\n\\nThe seafloor has its own mountains, plains and other geomorphological features just as on land. These data come from [Harris et al. 2014, Geomorphology of the Oceans](https://doi.org/10.1016/j.margeo.2014.01.011) and are available for download from https://www.bluehabitats.org. The features that are suggested as major habitats for inclusion in no-take MPAs by [Ceccarelli et al. 2021](https://doi.org/10.3389/fmars.2021.634574) are included in this package, so it is not necessary to download them.\\n\\n```{r geomorphology, warning=FALSE, message=FALSE, fig.height=h, fig.width=w, out.width=ow}\\ngeomorphology <- get_geomorphology(spatial_grid = planning_grid)\\n\\nterra::plot(geomorphology, col = \\\"sienna2\\\", axes = FALSE, legend = FALSE, fun = function(){terra::lines(terra::vect(bermuda_eez_projected))})\\n```\\n\\n## Get knolls data\\n\\nKnolls are another geomorphological feature, which are 'small' seamounts, classified as seamounts between 200 and 1000m higher than the surrounding seafloor [Morato et al. 2008](https://doi.org/10.3354/meps07268). Data are the knoll base area data from [Yesson et al. 2011]( https://doi.org/10.1016/j.dsr.2011.02.004).\\n\\n```{r knolls, warning=FALSE, message=FALSE, fig.height=h, fig.width=w, out.width=ow}\\nknolls <- get_knolls(spatial_grid = planning_grid)\\n\\nterra::plot(knolls, col = \\\"grey40\\\", axes = FALSE, legend = FALSE)\\nplot(bermuda_eez_projected, add=TRUE)\\n```\\n\\n## Get seamount areas\\n\\nSeamounts, classified as peaks at least 1000m higher than the surrounding seafloor [Morato et al. 2008](https://doi.org/10.3354/meps07268). These data are from [Yesson et al. 2021](https://doi.org/10.14324/111.444/ucloe.000030). Each peak is buffered to the distance specified in the function call. The units of the buffer are in the same units as the area polygon or planning grid, which can be checked using, e.g. `sf::st_crs(planning_grid, parameters = TRUE)$units_gdal`\\n\\n```{r seamounts, warning=FALSE, message=FALSE, fig.height=h, fig.width=w, out.width=ow}\\n#planning grid units are metres, so set buffer to 30000 m = 30 km\\nseamounts <- get_seamounts_buffered(spatial_grid = planning_grid, buffer = 30000)\\n\\nterra::plot(seamounts, col = \\\"saddlebrown\\\", axes = FALSE, legend = FALSE)\\nplot(bermuda_eez_projected, add=TRUE)\\n```\\n\\n## Habitat suitability models\\n\\nRetrieve habitat suitability data for 3 deep water coral groups:\\n\\n* Antipatharia: Habitats associated with increased biodiversity in both invertebrate and vertebrate species; global distributions were modeled by [Yesson et al. (2017)](https://doi.org/10.1016/j.dsr2.2015.12.004)\\n* Cold water coral: Important habitats and nursery areas for many species; global distributions were modeled by [Davies and Guinotte (2011)](https://doi.org/10.1371/journal.pone.0018483)\\n* Octocoral: Important habitats for invertebrates, groundfish, rockfish and other species; global distributions were modeled by [Yesson et al. (2012)](https://doi.org/10.1111/j.1365-2699.2011.02681.x)\\n\\n\\n```{r coral habitat, warning=FALSE, message=FALSE, fig.height=h, fig.width=w, out.width=ow}\\ncoral_habitat <- get_coral_habitat(spatial_grid = planning_grid)\\n\\n#show the seamounts areas on the plot: coral habitat is often on seamounts which are shallower than surrounding ocean floor\\nplot_add <- function(){\\n  terra::lines(terra::vect(bermuda_eez_projected), col = \\\"grey40\\\")\\n  terra::lines(terra::as.polygons(seamounts, dissolve = TRUE), col = \\\"orangered4\\\")\\n  }\\n\\nterra::plot(coral_habitat, col = \\\"coral\\\", axes = FALSE, fun = plot_add)\\n```\\n\\n## Environmental Regions\\n\\nBioregions are often included in spatial planning, but available bioregional classifications are either too coarse or too detailed to be useful for planning at the EEZ level. Borrowing methods from [Magris et al. 2020](https://doi.org/10.1111/ddi.13183)\\n\\n```{r environmental regions, warning=FALSE, message=FALSE, fig.height=h, fig.width=w, out.width=ow}\\n#cluster the data\\n#set number of clusters to 3 to reduce runtime and memory usage\\nenviro_regions <- get_enviro_regions(spatial_grid = planning_grid, num_clusters = 3)\\n```\\n\\n\\n```{r, warning=FALSE, message=FALSE, fig.height=h, fig.width=w, out.width=ow}\\n#plot\\nterra::plot(enviro_regions, col = \\\"forestgreen\\\", axes = FALSE, legend =FALSE, fun = function(){terra::lines(terra::vect(bermuda_eez_projected))})\\n```\\n\\n\\n```{r pressure, echo = FALSE, include=FALSE}\\n## REMINDER FOR ME, WILL DELETE:\\n\\n# You'll still need to render `README.Rmd` regularly, to keep `README.md` up-to-date. `devtools::build_readme()` is handy for this. You could also use GitHub Actions to re-render `README.Rmd` every time you push. An example workflow can be found here: <https://github.com/r-lib/actions/tree/v1/examples>.\\n# \\n# You can also embed plots, for example:\\n\\n#plot(pressure)\\n\\n#In that case, don't forget to commit and push the resulting figure files, so they display on GitHub and CRAN.\\n```\\n\\n\\n\",\n          \"stglib Routines used by the USGS Coastal/Marine Hazards & Resources Program to process oceanographic time-series data. Hydrosphere Ocean and Hydrology Data Access # stglib - Process data from a variety of oceanographic instrumentation\\n\\n[![Documentation Status](https://readthedocs.org/projects/stglib/badge/?version=latest)](http://stglib.readthedocs.io/en/latest/?badge=latest)\\n![stglib](https://github.com/USGS-CMG/stglib/workflows/stglib/badge.svg)\\n[![Anaconda-Server Badge](https://anaconda.org/conda-forge/stglib/badges/version.svg)](https://anaconda.org/conda-forge/stglib)\\n\\nThis package contains code to process data from a variety of oceanographic instrumentation, consistent with the procedures of the USGS [Coastal/Marine Hazards and Resources Program](https://marine.usgs.gov) (formerly Coastal and Marine Geology Program).\\n\\nCurrently, this package has at least partial support for:\\n\\n- Nortek Aquadopp profilers, in mean-current wave-burst, and HR modes\\n- Nortek Vector velocimeters\\n- Nortek Signature profilers\\n- RBR pressure (including waves) and turbidity sensors\\n- YSI EXO2 water-quality sondes\\n- SonTek IQ flow monitors\\n- WET labs sensors, including ECO NTUSB and ECO PAR\\n- Onset HOBO pressure sensors\\n- Vaisala Weather Transmitter WXT sensors\\n- In-Situ Aqua TROLL sensors\\n- RD Instruments ADCPs\\n- Moving-boat ADCP data processed using [QRev](https://hydroacoustics.usgs.gov/movingboat/QRev.shtml), for use in index-velocity computation\\n- EofE ECHOLOGGER altimeters\\n\\nWe have plans to support:\\n\\n- RDI Sentinel V profilers\\n\\nThis package makes heavy use of [NumPy](http://www.numpy.org), [xarray](http://xarray.pydata.org/en/stable/), and [netCDF4](http://unidata.github.io/netcdf4-python/). It works on Python 3.9+.\\n\\n[Read the documentation](http://stglib.readthedocs.io/).\\n\",\n          \"RivGraph Extracting and quantifying graphical representations of river and delta channel networks from binary masks. Hydrosphere Freshwater and Hydrology [![build](https://github.com/VeinsOfTheEarth/RivGraph/actions/workflows/build.yml/badge.svg)](https://github.com/VeinsOfTheEarth/RivGraph/actions/workflows/build.yml)\\n[![Coverage Status](https://coveralls.io/repos/github/jonschwenk/RivGraph/badge.svg)](https://coveralls.io/github/jonschwenk/RivGraph)\\n![docs](https://github.com/VeinsOfTheEarth/RivGraph/workflows/docs/badge.svg)\\n[![DOI](https://joss.theoj.org/papers/10.21105/joss.02952/status.svg)](https://doi.org/10.21105/joss.02952)\\n<br />\\n\\n[![RivGraph logo](https://github.com/VeinsOfTheEarth/RivGraph/blob/master/docs/logos/rg_logo_full.png)](https://VeinsOfTheEarth.github.io/RivGraph/ \\\"Go to documentation.\\\")\\n\\nAbout\\n-----\\n\\nRivGraph is a Python package that provides tools for converting a binary mask of a channel network into a directed, weighted graph (i.e. a set of connected links and nodes).\\n\\n![Core functionality of RivGraph.\\\\label{fig:corefunctions}](https://github.com/VeinsOfTheEarth/RivGraph/blob/master/examples/images/rivgraph_overview_white.PNG)\\n\\nThe figure above demonstrates the core components of RivGraph, but many other features are provided, including:\\n\\n- Morphologic metrics (lengths, widths, branching angles, braiding indices)\\n- Algebraic representations of the channel network graph\\n- Topologic metrics (both topologic and dynamic such as alternative paths, flux sharing, entropies, mutual information, etc.)\\n- Tools for cleaning and preparing your binary channel network mask\\n- Island detection, metrics, and filtering\\n- Mesh generation for characterizing along-river characteristics\\n- (beta) Tools for centerline migration analysis\\n\\nAll of RivGraph's functionality maintains and respects georeferencing information. If you start with a georeferenced mask (e.g. a GeoTIFF), RivGraph exports your results in the CRS (coordinate reference system) of your mask for convenient mapping, analysis, and fusion with other datasets in a GIS.\\n\\nYou can see some description of RivGraph's functionality via this [AGU poster](https://www.researchgate.net/publication/329845073_Automatic_Extraction_of_Channel_Network_Topology_RivGraph), and the flow directionality logic and validation is described in our [ESurf Dynamics paper](https://www.earth-surf-dynam.net/8/87/2020/esurf-8-87-2020.html). Examples demonstrating the basic RivGraph features are available for a [delta channel network](https://github.com/VeinsOfTheEarth/RivGraph/blob/master/examples/delta_example.ipynb) and a [braided river](https://github.com/VeinsOfTheEarth/RivGraph/blob/master/examples/braided_river_example.ipynb).\\n\\nInstalling\\n-----\\n\\nRivGraph is hosted at conda-forge. We recommend installing into a fresh conda environment to minimize the risk of dependency clashes. The easiest way to do this is to open Terminal (Mac/Unix) or Anaconda Prompt (Windows) and type:\\n\\n<pre><code>conda create -n rivgraph_env rivgraph -c conda-forge\\nconda activate rivgraph_env\\n</code></pre>\\n\\nYou may then want to install Spyder or your preferred IDE. Conda should fetch all the required dependencies and handle versioning.\\n\\nIf you want to install RivGraph into an already-existing environment, you can run <pre><code>conda activate myenv\\nconda install rivgraph -c conda-forge</code></pre>\\n\\nYou may also [install RivGraph from this Github repo](https://VeinsOfTheEarth.github.io/RivGraph/install/index.html#installation-from-source).\\n\\nInstructions for testing your installation are available [here](https://VeinsOfTheEarth.github.io/RivGraph/install/index.html#installation-from-source).\\n\\nHow to use?\\n-----\\n\\nPlease see the [documentation](https://VeinsOfTheEarth.github.io/RivGraph/) for more detailed instructions.\\n\\nRivGraph requires that you provide a binary mask of your network. [This page](https://VeinsOfTheEarth.github.io/RivGraph/maskmaking/index.html) provides some help, hints, and tools for finding or creating your mask.\\n\\nTo see what RivGraph does and how to operate it, you can work through the [Colville Delta example](https://github.com/VeinsOfTheEarth/RivGraph/blob/master/examples/delta_example.ipynb) or the [Brahmaputra River example](https://github.com/VeinsOfTheEarth/RivGraph/blob/master/examples/braided_river_example.ipynb). Both examples include sample masks.\\n\\nRivGraph contains two primary classes (`delta` and `river`) that provide convenient methods for creating a processing workflow for a channel network. As the examples demonstrate, you can instantiate a delta or river class, then apply associated methods for each. After looking at the examples, take a look at [classes.py](https://github.com/VeinsOfTheEarth/RivGraph/blob/master/rivgraph/classes.py) to understand what methods are available.\\n\\n**Note**: there are many functions under the hood that may be useful to you. Check out the [im_utils script](https://github.com/VeinsOfTheEarth/RivGraph/blob/master/rivgraph/im_utils.py) (image utilities) in particular for functions to help whip your mask into shape!\\n\\nContributing\\n------------\\n\\nIf you think you're not skilled or experienced enough to contribute, think again! We agree wholeheartedly with the sentiments expressed by this [Imposter syndrome disclaimer](https://github.com/Unidata/MetPy#contributing). We welcome all forms of user contributions including feature requests, bug reports, code, documentation requests, and code. Simply open an issue in the [tracker](https://github.com/VeinsOfTheEarth/RivGraph/issues). For code development contributions, please contact us via email to be added to our slack channel where we can hash out a plan for your contribution.\\n\\nCiting RivGraph\\n------------\\n\\nCitations help us justify the effort that goes into building and maintaining this project. If you used RivGraph for your research, please consider citing us.\\n\\nIf you use RivGraph's flow directionality algorithms, please cite our [ESurf Dynamics paper](https://www.earth-surf-dynam.net/8/87/2020/esurf-8-87-2020.html). Additionally, if you publish work wherein RivGraph was used to process your data, please cite our [JOSS Paper](https://joss.theoj.org/papers/10.21105/joss.02952).\\n\\nContacting us\\n-------------\\n\\nThe best way to get in touch is to [open an issue](https://github.com/VeinsOfTheEarth/rivgraph/issues/new) or comment on any open issue or pull request. Otherwise, send an email to j.........k@gmail.com\\n\\nLicense\\n------------\\n\\nThis is free software: you can redistribute it and/or modify it under the terms of the **BSD 3-clause License**. A copy of this license is provided in [LICENSE.txt](https://github.com/VeinsOfTheEarth/RivGraph/blob/master/LICENSE.txt).\\n\\nRivGraph has been assigned number C19049 by the Feynman Center for Innovation.\\n\"\n        ],\n        \"semantic_type\": \"\",\n        \"description\": \"\"\n      }\n    }\n  ]\n}"
            }
          },
          "metadata": {},
          "execution_count": 45
        }
      ],
      "source": [
        "# Combine text columns - before was here just the description col in combined\n",
        "cols_to_combine = ['name','description','category','sub_category','readme']\n",
        "df['combined'] = df[cols_to_combine].agg(' '.join, axis=1)\n",
        "df.head()"
      ]
    },
    {
      "cell_type": "code",
      "execution_count": 46,
      "metadata": {
        "id": "hCI6xTP5aZmv",
        "collapsed": true
      },
      "outputs": [],
      "source": [
        "# df['combined'] = combined\n",
        "# df.head()"
      ]
    },
    {
      "cell_type": "code",
      "execution_count": 47,
      "metadata": {
        "id": "7OXAWga1a8Vv"
      },
      "outputs": [],
      "source": [
        "# Words to remove from column. We will keep adding to this list the more words we find that are irrelavent\n",
        "words_black_list_small = ['python','projects','affiliated','http','readthedocs','benchmarks',\n",
        "                    'license','matlab','user','guide','html','https','open','source','journal',\n",
        "                    'latest','release','build','publications','conda','installed','users','using'\n",
        "                    'google','documentation','please','github','data','model','install','code',\n",
        "                    'package','badge','project']"
      ]
    },
    {
      "cell_type": "code",
      "source": [
        "# More words to remove\n",
        "words_black_list_large = ['python','tool','based','pvlib','projects','affiliated','http','readthedocs','benchmarks','aims','high','series','functions','large','calculate','applications','flow','easy','contains','state','collection','real','flexsible','program','implementation','evaluate','track','engineering',\n",
        "                    'license','matlab','user','guide','html','https','open','source','journal','various','written','toolbox','working','design','related','level','deep','standard','within','applications','methods','toolkits','multi','network','coupled','platform','application','developed','possible',\n",
        "                    'latest','release','build','publications','conda','installed','users','using','julia','different','toolkit','toolkit','provide','focus','smart','simple','enables','sources','client','advanced','digital','across','suite','domain','estimate','evaluation','measurements','statistical',\n",
        "                    'google','documentation','please','github','data','model','install','code','numerical','simulation','algorithms','driven','interactive','helps', 'package','resolution','visualization','images','explore','develop','analysis','distributed','calculations','global','control','accessible',\n",
        "                    'package','badge','project','version','file','view','system','master','used','also','providing','enable','multiple','point','image','process','including','components','computer','easily','built','range','line','calculations','term','uses','faciliate','online','study','evaluate',\n",
        "                    'repository','example','docs','files','information','models','software','available','work','making','visualize','format','load','usage','module','apis','automated','temporal','curated','variable','best','variables','websites','sets','near','worldwide','automatic','problems','custom',\n",
        "                    'zenodo','command','modis','pull','request','pctl','theoj','brodiepearson','blob','getting','order','fast','daily','makes','domaine','around','processes','associated','long','type','clean','optimal','many','awesome','extract','three','variety','useful','inventory','allowing',\n",
        "                    'started','machine','learning','make','sure','pypi','ipcc','main','scholor','colorado','codecov','individual','researchers','historical','metadata','supporting','finite','analyze','databases','chemical','initiative','technologies','collect','hourly','given','solver','space',\n",
        "                    'none','jupyter','notebook','united','states','docker','anaconda','forge','datasets','false','would','reference','tracking','identify','general','techniques','scripts','world','libraries','estimating','neutral','response','algorithm','ground','retrieving','retrieve','quantitative',\n",
        "                    'like','gustavoirgang','google','collab','sciencedirect','yaml','downloads','actions','workflows', 'understanding','international','compute','gridded','studies','single','calculates','exchange','potential','robust','dimensional','reporting','development','simulations','flexsible',\n",
        "                    'media','icon','joss','papers','legend','description','jobs','download','input','output','latitude','longitude','analyse','measurement','directly','official','sheet','classifications','find','features','computational','operations','grids','includes','text','standardized','dedicated','easier','purpose',\n",
        "                    'unit','tests','cran','nbsp','colab','check','plot','ncss','contributing','installation', 'instructions','fortran','complex','simulating','component','access','bottom','flexible','search','agent','results','needed','creating','friendly','basic','linear','assess','wrapper','defined','wide','method',\n",
        "                    'wiki','wikipedia','feel','free','name','list','issues','start','examples','index','dataset','branch','create','high','performance','management','scale','website','codes','programs','downnloading','utility','imagery','events','websites','share','solutions','published',\n",
        "                    'enabling','specification','semantic','inputs','query','vertical','estimates','freely','several','object','specific','parameters','discover','accelerate','calculating','functionality','cover','testing','operation','reinforcement','form','perform',\n",
        "                    'better','towards','layer','evaluating','speed','comprehensive','cells','energyplus','derived','interactions','layers','emis','emerging','apps','hardware','past','read','android','utilities','nrel','better','repositories','simulate','oriented','european','tastes',\n",
        "                    'availability','part','language','extent','europe','german','germany','quickly','approach','total','programming','short','visualise','produced','intended','quantifying','availability','plugin',\n",
        "                    'server','noaa','existing','volume','primary','canada','post','core','carlo','platforms','gtfs','visualizations','chain','independent','benchmark','modules','change','changes',\n",
        "                    'probabilistic','criteria','benchmark','scaleable','scales','mission','empirical','inventories','parallel','consistent','organization','countries','collaboration','agency','devices','sensor','sensors','goals','neutral','area',\n",
        "                    'administration','meant','toolset','mixed','store','attrributes','unidata','improve','netcdf','supports','complete','levels','promote','levels','complete','collections','nasa','summary','conditions','effects',\n",
        "                    'options','usgs','australian','commercial','monte','capable','neutral','save','generate','manage','factors','modelica','rapid','boundary','relevant','simulates','powerful','stakeholders','dynamics',\n",
        "                    'containing','aware','operators','reading','notebooks','calculator','visualizing','statistics','direction','ensemble','automate','edge','xarray','integrating','along',\n",
        "                    'host','show','document','compute','handle','converter','sample','collect','explore','flow','solve',\n",
        "                    'explore','accurate','combine','signal','best','portfolio','removel','interact','extract','flow','interest','chemistry','detect','value','size','conduct','coordinate','class','obtain','attribute','group','trend','document','company','mean','sample','index',\n",
        "                    'mesh','cross','loading','survay','neutral','centre','parameter','necessary','integration','years','maintained','conventional','active','hyprid','reliable','ability','training','representation','ready','super',\n",
        "                    'routing','converts','benchmarking','specified','modern','offers','downloading','detect','apply','role','commonly','specifically','generalized','enhanced','routines','panel',\n",
        "                    'external','generated','spred','generic','organization','elevation','stack','equivalent','lagrangian','generalized','generalized','report','things','organizations','java','display',\n",
        "                    'next','analyzing','structured','practices','combines','widely','structure','qgis','operational','assessing','generates','characteristics','institute','estimation','determine','practitioners','benefit','particle','scale','technical','setup',\n",
        "                    'modeling','national','quality','modelling','service','modular','neutral','small','australia','cell','british','columbia','generating','analyses','sharing','notebook','experiments','portal','types','quantify','artificial','focused','protocol','highly','equations','first','tasks','arduino','suitable','automation','compare','comparison',\n",
        "                    'library','following','test','running','import','database','access','packages','directory','need','tools','simulation','time','framework','systems','designed','community','interface','optimization','allows','support','grid','research','processing','help','provides']"
      ],
      "metadata": {
        "id": "ZoBvEVbz0ezW"
      },
      "execution_count": 48,
      "outputs": []
    },
    {
      "cell_type": "code",
      "source": [
        "len(words_black_list_large)"
      ],
      "metadata": {
        "colab": {
          "base_uri": "https://localhost:8080/"
        },
        "id": "aKWZZ3jdE4Kv",
        "outputId": "ebe67d4b-362d-46c0-81ec-7f3734a98601"
      },
      "execution_count": 49,
      "outputs": [
        {
          "output_type": "execute_result",
          "data": {
            "text/plain": [
              "693"
            ]
          },
          "metadata": {},
          "execution_count": 49
        }
      ]
    },
    {
      "cell_type": "code",
      "source": [
        "from nltk.stem import WordNetLemmatizer\n",
        "from nltk.corpus import wordnet\n",
        "\n",
        "# initialize lemmatizer\n",
        "lemmatizer = WordNetLemmatizer()\n",
        "\n",
        "\n",
        "def lemmatize_tokens(tokens):\n",
        "    # convert POS tag to WordNet format\n",
        "    def get_wordnet_pos(word):\n",
        "        tag = nltk.pos_tag([word])[0][1][0].upper()\n",
        "        tag_dict = {\"J\": wordnet.ADJ,\n",
        "                    \"N\": wordnet.NOUN,\n",
        "                    \"V\": wordnet.VERB,\n",
        "                    \"R\": wordnet.ADV}\n",
        "        return tag_dict.get(tag, wordnet.NOUN)\n",
        "\n",
        "    # lemmatize tokens\n",
        "    lemmas = [lemmatizer.lemmatize(token, get_wordnet_pos(token)) for token in tokens]\n",
        "\n",
        "    return lemmas"
      ],
      "metadata": {
        "id": "cOLRb0Gjo6K3"
      },
      "execution_count": 50,
      "outputs": []
    },
    {
      "cell_type": "code",
      "execution_count": 51,
      "metadata": {
        "id": "sAX050Xnanob",
        "outputId": "b53ce89d-2551-4f85-ca25-55ba6bbbf71f",
        "colab": {
          "base_uri": "https://localhost:8080/"
        }
      },
      "outputs": [
        {
          "output_type": "execute_result",
          "data": {
            "text/plain": [
              "0       cmocean colormap standardizing plotting oceano...\n",
              "1       traptagger powered camera trap biosphere terre...\n",
              "2       opem proton membrane fuel energy storage hydro...\n",
              "3       climlab climate climate earth climate climlab ...\n",
              "4       fine optimizing energy energy energy ethos fin...\n",
              "                              ...                        \n",
              "1988    soil freeze thaw soil freeze thaw transport he...\n",
              "1989    polaris infrastructure cases ocean land exasca...\n",
              "1990    spacelidar icesat icesat gedi filtered attribu...\n",
              "1991    flood flood inundation caused tsunami river ra...\n",
              "1992    goestools signals goes satellites sustainable ...\n",
              "Name: cleaned_text, Length: 1993, dtype: object"
            ]
          },
          "metadata": {},
          "execution_count": 51
        }
      ],
      "source": [
        "# Create new column called \"cleaned_text\" and apply different cleaning methods\n",
        "df['cleaned_text'] = df['combined'].apply(lambda x: x.replace(\"\\\\n\", \" \")) # Replace \\\\n\n",
        "df['cleaned_text'] = df['cleaned_text'].apply(lambda x: ' '.join(x.lower() for x in str(x).split())) # Lowercase\n",
        "df['cleaned_text'] = df['cleaned_text'].apply(lambda x: re.sub(r'<[^>]+>', ' ', x)) # Remove HTML tags\n",
        "df['cleaned_text'] = df['cleaned_text'].apply(lambda x: re.sub(r'[^a-zA-Z0-9\\s]',' ', x)) # Remove symbols\n",
        "df['cleaned_text'] = df['cleaned_text'].apply(lambda x: ' '.join(x for x in str(x).split() if len(x) > 3)) # Remove short words\n",
        "df['cleaned_text'] = df['cleaned_text'].apply(lambda x: ' '.join(x for x in str(x).split() if x.isalpha())) # Remove numbers\n",
        "df['cleaned_text'] = df['cleaned_text'].apply(lambda x: ' '.join(x for x in str(x).split() if x not in words_black_list_large)) # Remove words from blacklist\n",
        "df['cleaned_text'] = df['cleaned_text'].apply(lambda x: ' '.join(x for x in str(x).split() if x not in stpwords)) # Remove stopwords\n",
        "\n",
        "df['cleaned_text']"
      ]
    },
    {
      "cell_type": "code",
      "execution_count": 51,
      "metadata": {
        "id": "2gqZo79tboxy"
      },
      "outputs": [],
      "source": []
    },
    {
      "cell_type": "markdown",
      "source": [
        "# 3.1 Try new Energy Systems subcategories"
      ],
      "metadata": {
        "id": "cQU9awF2zbhY"
      }
    },
    {
      "cell_type": "code",
      "source": [
        "# REMARK Michael: i am using another approach as above. and preprocessing the full 'combined text again here (line 58). With this approach the\n",
        "# fallback subcategory 'Other' is used only 30 times, whereas when i use the 'cleaned_text' from above i have 98 'Others'. I did not further evaluate why\n",
        "# this happens and don't have a good intuition at this point why this happens.\n",
        "\n",
        "from collections import Counter\n",
        "\n",
        "# Expanded list of Energy Systems sub-categories with more keywords\n",
        "new_energy_subcategories = {\n",
        "    'Solar Energy': ['photovoltaic', 'solar', 'pv', 'csp', 'concentrated solar power', 'solar thermal', 'solar cell', 'solar panel', 'solar energy'],\n",
        "    'Wind Energy': ['wind', 'onshore wind', 'offshore wind', 'wind turbine', 'wind farm', 'wind power'],\n",
        "    'Energy Storage': ['battery', 'storage', 'pumped hydro', 'thermal storage', 'hydrogen storage', 'energy storage', 'lithium-ion', 'flywheel', 'capacitor'],\n",
        "    'Grid Systems': ['grid', 'smart grid', 'microgrid', 'power distribution', 'electricity network', 'transmission', 'power system'],\n",
        "    'Energy Efficiency': ['efficiency', 'building energy', 'industrial energy', 'audit', 'energy saving', 'insulation', 'led lighting', 'heat recovery'],\n",
        "    'Hydroelectric Power': ['hydro', 'hydroelectric', 'run-of-river', 'dam', 'water turbine', 'hydropower'],\n",
        "    'Geothermal Energy': ['geothermal', 'ground source heat', 'geothermal power', 'earth energy'],\n",
        "    'Bioenergy': ['biomass', 'biofuel', 'biogas', 'biodiesel', 'ethanol', 'anaerobic digestion'],\n",
        "    'Hydrogen and Fuel Cells': ['hydrogen', 'fuel cell', 'electrolyzer', 'h2 production', 'hydrogen storage'],\n",
        "    'Energy System Integration': ['hybrid energy', 'sector coupling', 'system modeling', 'energy system', 'integrated energy', 'multi-energy system'],\n",
        "    'Energy Markets and Economics': ['energy trading', 'price forecasting', 'energy policy', 'energy market', 'electricity price', 'energy economics'],\n",
        "    'Emerging Energy Technologies': ['ocean energy', 'tidal', 'wave energy', 'advanced nuclear', 'fusion', 'small modular reactor', 'marine energy'],\n",
        "    'Energy Data and Analytics': ['energy data', 'energy analytics', 'energy monitoring', 'smart meter', 'energy management system', 'energy forecasting'],\n",
        "    'Electric Vehicles and Mobility': ['electric vehicle', 'ev charging', 'e-mobility', 'vehicle-to-grid', 'sustainable transport'],\n",
        "    'Carbon Capture and Storage': ['carbon capture', 'ccs', 'carbon sequestration', 'co2 storage', 'greenhouse gas reduction']\n",
        "}\n",
        "\n",
        "# initialize lemmatizer\n",
        "lemmatizer = WordNetLemmatizer()\n",
        "\n",
        "# Preprocess text\n",
        "def preprocess_text(text):\n",
        "    if pd.isna(text):\n",
        "        return \"\"\n",
        "    # Convert to lowercase\n",
        "    text = text.lower()\n",
        "    # Remove special characters\n",
        "    text = re.sub(r'[^a-zA-Z0-9\\s]', ' ', text)\n",
        "    # Tokenize\n",
        "    tokens = word_tokenize(text)\n",
        "    # Remove stopwords\n",
        "    tokens = [word for word in tokens if word not in stopwords.words('english')]\n",
        "    # Lemmatize\n",
        "    tokens = [lemmatizer.lemmatize(word) for word in tokens]\n",
        "    return ' '.join(tokens)\n",
        "\n",
        "# Function to assign a single new sub-category\n",
        "def assign_single_subcategory(text):\n",
        "    text = preprocess_text(text)\n",
        "    category_scores = {}\n",
        "    for category, keywords in new_energy_subcategories.items():\n",
        "        score = sum(text.count(keyword) for keyword in keywords)\n",
        "        category_scores[category] = score\n",
        "\n",
        "    # Find the category with the highest score\n",
        "    best_category = max(category_scores, key=category_scores.get)\n",
        "\n",
        "    # If no keywords were found, assign 'Other'\n",
        "    return best_category if category_scores[best_category] > 0 else 'Other'\n",
        "\n",
        "# preprocess the combined text\n",
        "df['cleand_text_michael'] = df['combined'].apply(preprocess_text)\n",
        "\n",
        "# Apply the new categorization only to 'Energy Systems' category\n",
        "df['new_energy_subcategory'] = df.apply(lambda row: assign_single_subcategory(row['cleand_text_michael']) if row['category'] == 'Energy Systems' else 'Not an Energy System', axis=1)\n",
        "\n",
        "# Calculate the distribution of subcategories\n",
        "energy_subcategory_distribution = df[df['category'] == 'Energy Systems']['new_energy_subcategory'].value_counts()\n",
        "\n",
        "print(\"Distribution of new Energy Systems sub-categories:\")\n",
        "print(energy_subcategory_distribution)"
      ],
      "metadata": {
        "id": "KgAFIdqhzXqM",
        "outputId": "ade63f4c-5804-41f5-b331-ceb027f19d35",
        "colab": {
          "base_uri": "https://localhost:8080/"
        }
      },
      "execution_count": 52,
      "outputs": [
        {
          "output_type": "stream",
          "name": "stdout",
          "text": [
            "Distribution of new Energy Systems sub-categories:\n",
            "new_energy_subcategory\n",
            "Grid Systems                    76\n",
            "Energy System Integration       54\n",
            "Wind Energy                     23\n",
            "Energy Storage                  18\n",
            "Solar Energy                    13\n",
            "Energy Data and Analytics       10\n",
            "Hydroelectric Power              7\n",
            "Energy Efficiency                4\n",
            "Energy Markets and Economics     3\n",
            "Name: count, dtype: int64\n"
          ]
        }
      ]
    },
    {
      "cell_type": "code",
      "source": [
        "# Visualize the new sub-category distribution\n",
        "import matplotlib.pyplot as plt\n",
        "\n",
        "plt.figure(figsize=(12, 6))\n",
        "energy_subcategory_distribution.plot(kind='bar')\n",
        "plt.title('Distribution of New Energy Systems Sub-Categories')\n",
        "plt.xlabel('Sub-Category')\n",
        "plt.ylabel('Number of Projects')\n",
        "plt.xticks(rotation=45, ha='right')\n",
        "plt.tight_layout()\n",
        "plt.show()"
      ],
      "metadata": {
        "id": "9yNm2GmEZT6q",
        "outputId": "6527de91-681c-4fdb-bbde-73da21b96bd5",
        "colab": {
          "base_uri": "https://localhost:8080/",
          "height": 607
        }
      },
      "execution_count": 53,
      "outputs": [
        {
          "output_type": "display_data",
          "data": {
            "text/plain": [
              "<Figure size 1200x600 with 1 Axes>"
            ],
            "image/png": "[encoded data removed]"
          },
          "metadata": {}
        }
      ]
    },
    {
      "cell_type": "code",
      "source": [
        "energy_subcategory_distribution"
      ],
      "metadata": {
        "id": "XGlsbnOCaWg1",
        "outputId": "1343f1c2-8239-43ad-f345-3fef66dc5d91",
        "colab": {
          "base_uri": "https://localhost:8080/"
        }
      },
      "execution_count": 54,
      "outputs": [
        {
          "output_type": "execute_result",
          "data": {
            "text/plain": [
              "new_energy_subcategory\n",
              "Grid Systems                    76\n",
              "Energy System Integration       54\n",
              "Wind Energy                     23\n",
              "Energy Storage                  18\n",
              "Solar Energy                    13\n",
              "Energy Data and Analytics       10\n",
              "Hydroelectric Power              7\n",
              "Energy Efficiency                4\n",
              "Energy Markets and Economics     3\n",
              "Name: count, dtype: int64"
            ]
          },
          "metadata": {},
          "execution_count": 54
        }
      ]
    },
    {
      "cell_type": "code",
      "source": [
        "# Get top keywords for each new sub-category\n",
        "def get_top_keywords(subcategory, n=10):\n",
        "    texts = df[df['new_energy_subcategories'].apply(lambda x: subcategory in x)]['cleaned_text'].fillna('')\n",
        "    words = [word for text in texts for word in preprocess_text(text).split()]\n",
        "    return Counter(words).most_common(n)\n",
        "\n",
        "# Print top keywords for each new sub-category\n",
        "for subcategory in new_energy_subcategories.keys():\n",
        "    print(f\"\\nTop 10 keywords for {subcategory}:\")\n",
        "    print(get_top_keywords(subcategory))\n",
        "\n",
        "# Save the updated dataframe\n",
        "# df.to_csv('updated_energy_systems_projects.csv', index=False)"
      ],
      "metadata": {
        "id": "xRST1UdMZhae",
        "outputId": "3ebb9564-84c0-4a75-c74d-b59239e237f9",
        "colab": {
          "base_uri": "https://localhost:8080/",
          "height": 539
        }
      },
      "execution_count": 55,
      "outputs": [
        {
          "output_type": "stream",
          "name": "stdout",
          "text": [
            "\n",
            "Top 10 keywords for Solar Energy:\n"
          ]
        },
        {
          "output_type": "error",
          "ename": "KeyError",
          "evalue": "'new_energy_subcategories'",
          "traceback": [
            "\u001b[0;31m---------------------------------------------------------------------------\u001b[0m",
            "\u001b[0;31mKeyError\u001b[0m                                  Traceback (most recent call last)",
            "\u001b[0;32m/usr/local/lib/python3.10/dist-packages/pandas/core/indexes/base.py\u001b[0m in \u001b[0;36mget_loc\u001b[0;34m(self, key)\u001b[0m\n\u001b[1;32m   3652\u001b[0m         \u001b[0;32mtry\u001b[0m\u001b[0;34m:\u001b[0m\u001b[0;34m\u001b[0m\u001b[0;34m\u001b[0m\u001b[0m\n\u001b[0;32m-> 3653\u001b[0;31m             \u001b[0;32mreturn\u001b[0m \u001b[0mself\u001b[0m\u001b[0;34m.\u001b[0m\u001b[0m_engine\u001b[0m\u001b[0;34m.\u001b[0m\u001b[0mget_loc\u001b[0m\u001b[0;34m(\u001b[0m\u001b[0mcasted_key\u001b[0m\u001b[0;34m)\u001b[0m\u001b[0;34m\u001b[0m\u001b[0;34m\u001b[0m\u001b[0m\n\u001b[0m\u001b[1;32m   3654\u001b[0m         \u001b[0;32mexcept\u001b[0m \u001b[0mKeyError\u001b[0m \u001b[0;32mas\u001b[0m \u001b[0merr\u001b[0m\u001b[0;34m:\u001b[0m\u001b[0;34m\u001b[0m\u001b[0;34m\u001b[0m\u001b[0m\n",
            "\u001b[0;32m/usr/local/lib/python3.10/dist-packages/pandas/_libs/index.pyx\u001b[0m in \u001b[0;36mpandas._libs.index.IndexEngine.get_loc\u001b[0;34m()\u001b[0m\n",
            "\u001b[0;32m/usr/local/lib/python3.10/dist-packages/pandas/_libs/index.pyx\u001b[0m in \u001b[0;36mpandas._libs.index.IndexEngine.get_loc\u001b[0;34m()\u001b[0m\n",
            "\u001b[0;32mpandas/_libs/hashtable_class_helper.pxi\u001b[0m in \u001b[0;36mpandas._libs.hashtable.PyObjectHashTable.get_item\u001b[0;34m()\u001b[0m\n",
            "\u001b[0;32mpandas/_libs/hashtable_class_helper.pxi\u001b[0m in \u001b[0;36mpandas._libs.hashtable.PyObjectHashTable.get_item\u001b[0;34m()\u001b[0m\n",
            "\u001b[0;31mKeyError\u001b[0m: 'new_energy_subcategories'",
            "\nThe above exception was the direct cause of the following exception:\n",
            "\u001b[0;31mKeyError\u001b[0m                                  Traceback (most recent call last)",
            "\u001b[0;32m<ipython-input-55-f2559f25455e>\u001b[0m in \u001b[0;36m<cell line: 8>\u001b[0;34m()\u001b[0m\n\u001b[1;32m      8\u001b[0m \u001b[0;32mfor\u001b[0m \u001b[0msubcategory\u001b[0m \u001b[0;32min\u001b[0m \u001b[0mnew_energy_subcategories\u001b[0m\u001b[0;34m.\u001b[0m\u001b[0mkeys\u001b[0m\u001b[0;34m(\u001b[0m\u001b[0;34m)\u001b[0m\u001b[0;34m:\u001b[0m\u001b[0;34m\u001b[0m\u001b[0;34m\u001b[0m\u001b[0m\n\u001b[1;32m      9\u001b[0m     \u001b[0mprint\u001b[0m\u001b[0;34m(\u001b[0m\u001b[0;34mf\"\\nTop 10 keywords for {subcategory}:\"\u001b[0m\u001b[0;34m)\u001b[0m\u001b[0;34m\u001b[0m\u001b[0;34m\u001b[0m\u001b[0m\n\u001b[0;32m---> 10\u001b[0;31m     \u001b[0mprint\u001b[0m\u001b[0;34m(\u001b[0m\u001b[0mget_top_keywords\u001b[0m\u001b[0;34m(\u001b[0m\u001b[0msubcategory\u001b[0m\u001b[0;34m)\u001b[0m\u001b[0;34m)\u001b[0m\u001b[0;34m\u001b[0m\u001b[0;34m\u001b[0m\u001b[0m\n\u001b[0m\u001b[1;32m     11\u001b[0m \u001b[0;34m\u001b[0m\u001b[0m\n\u001b[1;32m     12\u001b[0m \u001b[0;31m# Save the updated dataframe\u001b[0m\u001b[0;34m\u001b[0m\u001b[0;34m\u001b[0m\u001b[0m\n",
            "\u001b[0;32m<ipython-input-55-f2559f25455e>\u001b[0m in \u001b[0;36mget_top_keywords\u001b[0;34m(subcategory, n)\u001b[0m\n\u001b[1;32m      1\u001b[0m \u001b[0;31m# Get top keywords for each new sub-category\u001b[0m\u001b[0;34m\u001b[0m\u001b[0;34m\u001b[0m\u001b[0m\n\u001b[1;32m      2\u001b[0m \u001b[0;32mdef\u001b[0m \u001b[0mget_top_keywords\u001b[0m\u001b[0;34m(\u001b[0m\u001b[0msubcategory\u001b[0m\u001b[0;34m,\u001b[0m \u001b[0mn\u001b[0m\u001b[0;34m=\u001b[0m\u001b[0;36m10\u001b[0m\u001b[0;34m)\u001b[0m\u001b[0;34m:\u001b[0m\u001b[0;34m\u001b[0m\u001b[0;34m\u001b[0m\u001b[0m\n\u001b[0;32m----> 3\u001b[0;31m     \u001b[0mtexts\u001b[0m \u001b[0;34m=\u001b[0m \u001b[0mdf\u001b[0m\u001b[0;34m[\u001b[0m\u001b[0mdf\u001b[0m\u001b[0;34m[\u001b[0m\u001b[0;34m'new_energy_subcategories'\u001b[0m\u001b[0;34m]\u001b[0m\u001b[0;34m.\u001b[0m\u001b[0mapply\u001b[0m\u001b[0;34m(\u001b[0m\u001b[0;32mlambda\u001b[0m \u001b[0mx\u001b[0m\u001b[0;34m:\u001b[0m \u001b[0msubcategory\u001b[0m \u001b[0;32min\u001b[0m \u001b[0mx\u001b[0m\u001b[0;34m)\u001b[0m\u001b[0;34m]\u001b[0m\u001b[0;34m[\u001b[0m\u001b[0;34m'cleaned_text'\u001b[0m\u001b[0;34m]\u001b[0m\u001b[0;34m.\u001b[0m\u001b[0mfillna\u001b[0m\u001b[0;34m(\u001b[0m\u001b[0;34m''\u001b[0m\u001b[0;34m)\u001b[0m\u001b[0;34m\u001b[0m\u001b[0;34m\u001b[0m\u001b[0m\n\u001b[0m\u001b[1;32m      4\u001b[0m     \u001b[0mwords\u001b[0m \u001b[0;34m=\u001b[0m \u001b[0;34m[\u001b[0m\u001b[0mword\u001b[0m \u001b[0;32mfor\u001b[0m \u001b[0mtext\u001b[0m \u001b[0;32min\u001b[0m \u001b[0mtexts\u001b[0m \u001b[0;32mfor\u001b[0m \u001b[0mword\u001b[0m \u001b[0;32min\u001b[0m \u001b[0mpreprocess_text\u001b[0m\u001b[0;34m(\u001b[0m\u001b[0mtext\u001b[0m\u001b[0;34m)\u001b[0m\u001b[0;34m.\u001b[0m\u001b[0msplit\u001b[0m\u001b[0;34m(\u001b[0m\u001b[0;34m)\u001b[0m\u001b[0;34m]\u001b[0m\u001b[0;34m\u001b[0m\u001b[0;34m\u001b[0m\u001b[0m\n\u001b[1;32m      5\u001b[0m     \u001b[0;32mreturn\u001b[0m \u001b[0mCounter\u001b[0m\u001b[0;34m(\u001b[0m\u001b[0mwords\u001b[0m\u001b[0;34m)\u001b[0m\u001b[0;34m.\u001b[0m\u001b[0mmost_common\u001b[0m\u001b[0;34m(\u001b[0m\u001b[0mn\u001b[0m\u001b[0;34m)\u001b[0m\u001b[0;34m\u001b[0m\u001b[0;34m\u001b[0m\u001b[0m\n",
            "\u001b[0;32m/usr/local/lib/python3.10/dist-packages/pandas/core/frame.py\u001b[0m in \u001b[0;36m__getitem__\u001b[0;34m(self, key)\u001b[0m\n\u001b[1;32m   3759\u001b[0m             \u001b[0;32mif\u001b[0m \u001b[0mself\u001b[0m\u001b[0;34m.\u001b[0m\u001b[0mcolumns\u001b[0m\u001b[0;34m.\u001b[0m\u001b[0mnlevels\u001b[0m \u001b[0;34m>\u001b[0m \u001b[0;36m1\u001b[0m\u001b[0;34m:\u001b[0m\u001b[0;34m\u001b[0m\u001b[0;34m\u001b[0m\u001b[0m\n\u001b[1;32m   3760\u001b[0m                 \u001b[0;32mreturn\u001b[0m \u001b[0mself\u001b[0m\u001b[0;34m.\u001b[0m\u001b[0m_getitem_multilevel\u001b[0m\u001b[0;34m(\u001b[0m\u001b[0mkey\u001b[0m\u001b[0;34m)\u001b[0m\u001b[0;34m\u001b[0m\u001b[0;34m\u001b[0m\u001b[0m\n\u001b[0;32m-> 3761\u001b[0;31m             \u001b[0mindexer\u001b[0m \u001b[0;34m=\u001b[0m \u001b[0mself\u001b[0m\u001b[0;34m.\u001b[0m\u001b[0mcolumns\u001b[0m\u001b[0;34m.\u001b[0m\u001b[0mget_loc\u001b[0m\u001b[0;34m(\u001b[0m\u001b[0mkey\u001b[0m\u001b[0;34m)\u001b[0m\u001b[0;34m\u001b[0m\u001b[0;34m\u001b[0m\u001b[0m\n\u001b[0m\u001b[1;32m   3762\u001b[0m             \u001b[0;32mif\u001b[0m \u001b[0mis_integer\u001b[0m\u001b[0;34m(\u001b[0m\u001b[0mindexer\u001b[0m\u001b[0;34m)\u001b[0m\u001b[0;34m:\u001b[0m\u001b[0;34m\u001b[0m\u001b[0;34m\u001b[0m\u001b[0m\n\u001b[1;32m   3763\u001b[0m                 \u001b[0mindexer\u001b[0m \u001b[0;34m=\u001b[0m \u001b[0;34m[\u001b[0m\u001b[0mindexer\u001b[0m\u001b[0;34m]\u001b[0m\u001b[0;34m\u001b[0m\u001b[0;34m\u001b[0m\u001b[0m\n",
            "\u001b[0;32m/usr/local/lib/python3.10/dist-packages/pandas/core/indexes/base.py\u001b[0m in \u001b[0;36mget_loc\u001b[0;34m(self, key)\u001b[0m\n\u001b[1;32m   3653\u001b[0m             \u001b[0;32mreturn\u001b[0m \u001b[0mself\u001b[0m\u001b[0;34m.\u001b[0m\u001b[0m_engine\u001b[0m\u001b[0;34m.\u001b[0m\u001b[0mget_loc\u001b[0m\u001b[0;34m(\u001b[0m\u001b[0mcasted_key\u001b[0m\u001b[0;34m)\u001b[0m\u001b[0;34m\u001b[0m\u001b[0;34m\u001b[0m\u001b[0m\n\u001b[1;32m   3654\u001b[0m         \u001b[0;32mexcept\u001b[0m \u001b[0mKeyError\u001b[0m \u001b[0;32mas\u001b[0m \u001b[0merr\u001b[0m\u001b[0;34m:\u001b[0m\u001b[0;34m\u001b[0m\u001b[0;34m\u001b[0m\u001b[0m\n\u001b[0;32m-> 3655\u001b[0;31m             \u001b[0;32mraise\u001b[0m \u001b[0mKeyError\u001b[0m\u001b[0;34m(\u001b[0m\u001b[0mkey\u001b[0m\u001b[0;34m)\u001b[0m \u001b[0;32mfrom\u001b[0m \u001b[0merr\u001b[0m\u001b[0;34m\u001b[0m\u001b[0;34m\u001b[0m\u001b[0m\n\u001b[0m\u001b[1;32m   3656\u001b[0m         \u001b[0;32mexcept\u001b[0m \u001b[0mTypeError\u001b[0m\u001b[0;34m:\u001b[0m\u001b[0;34m\u001b[0m\u001b[0;34m\u001b[0m\u001b[0m\n\u001b[1;32m   3657\u001b[0m             \u001b[0;31m# If we have a listlike key, _check_indexing_error will raise\u001b[0m\u001b[0;34m\u001b[0m\u001b[0;34m\u001b[0m\u001b[0m\n",
            "\u001b[0;31mKeyError\u001b[0m: 'new_energy_subcategories'"
          ]
        }
      ]
    },
    {
      "cell_type": "markdown",
      "metadata": {
        "id": "bHbJ_08IdVz-"
      },
      "source": [
        "# 4. Unique Words\n",
        "\n"
      ]
    },
    {
      "cell_type": "code",
      "execution_count": null,
      "metadata": {
        "id": "2-rg0PaTdffl"
      },
      "outputs": [],
      "source": [
        "from collections import Counter\n",
        "\n",
        "# Tokenize text\n",
        "tokenized_data = [nltk.word_tokenize(text) for text in df['cleaned_text']]\n",
        "\n",
        "# lemmatize\n",
        "tokenized_data = [lemmatize_tokens(tokens) for tokens in tokenized_data]\n",
        "\n",
        "# count the occurrence of each token\n",
        "token_counts = [Counter(tokens) for tokens in tokenized_data]\n",
        "\n",
        "# combine the counts from all rows\n",
        "combined_counts = sum(token_counts, Counter())"
      ]
    },
    {
      "cell_type": "code",
      "execution_count": null,
      "metadata": {
        "id": "eDC0AWZrdn8n"
      },
      "outputs": [],
      "source": [
        "# print the top 30 most common tokens\n",
        "word_freq = combined_counts.most_common(300)\n",
        "word_freq"
      ]
    },
    {
      "cell_type": "code",
      "source": [
        "from wordcloud import WordCloud\n",
        "import matplotlib.pyplot as plt\n",
        "plt.rcParams['figure.dpi'] = 120"
      ],
      "metadata": {
        "id": "LVLNZX7l7X-O"
      },
      "execution_count": null,
      "outputs": []
    },
    {
      "cell_type": "code",
      "source": [
        "wc = WordCloud(background_color=\"white\", max_words=300,width=3000,height=2000,relative_scaling=0.2)\n",
        "wc.generate_from_frequencies(dict(word_freq))\n",
        "plt.figure(figsize=(20,20))\n",
        "plt.clf()\n",
        "plt.imshow(wc)\n",
        "plt.axis('off')\n",
        "plt.show()"
      ],
      "metadata": {
        "id": "ALtUzHN78zkN"
      },
      "execution_count": null,
      "outputs": []
    },
    {
      "cell_type": "markdown",
      "metadata": {
        "id": "3jc2cfWzjWEA"
      },
      "source": [
        "# 5. Unique Bigrams and Trigrams"
      ]
    },
    {
      "cell_type": "code",
      "execution_count": null,
      "metadata": {
        "id": "MhWlnFs0iLWV"
      },
      "outputs": [],
      "source": [
        "df['cleaned_text'].str.split()"
      ]
    },
    {
      "cell_type": "code",
      "source": [
        "df['cleaned_text_bigrams'] = df['combined'].apply(lambda x: x.replace(\"\\\\n\", \" \")) # Replace \\\\n\n",
        "df['cleaned_text_bigrams'] = df['cleaned_text_bigrams'].apply(lambda x: ' '.join(x.lower() for x in str(x).split())) # Lowercase\n",
        "df['cleaned_text_bigrams'] = df['cleaned_text_bigrams'].apply(lambda x: re.sub(r'<[^>]+>', ' ', x)) # Remove HTML tags\n",
        "df['cleaned_text_bigrams'] = df['cleaned_text_bigrams'].apply(lambda x: re.sub(r'[^a-zA-Z0-9\\s]',' ', x)) # Remove symbols\n",
        "df['cleaned_text_bigrams'] = df['cleaned_text_bigrams'].apply(lambda x: ' '.join(x for x in str(x).split() if len(x) > 3)) # Remove short words\n",
        "df['cleaned_text_bigrams'] = df['cleaned_text_bigrams'].apply(lambda x: ' '.join(x for x in str(x).split() if x.isalpha())) # Remove numbers\n",
        "df['cleaned_text_bigrams'] = df['cleaned_text_bigrams'].apply(lambda x: ' '.join(x for x in str(x).split() if x not in words_black_list_small)) # Remove words from blacklist\n",
        "df['cleaned_text_bigrams'] = df['cleaned_text_bigrams'].apply(lambda x: ' '.join(x for x in str(x).split() if x not in stpwords)) # Remove stopwords"
      ],
      "metadata": {
        "id": "x6WCm-WKoEl2"
      },
      "execution_count": null,
      "outputs": []
    },
    {
      "cell_type": "code",
      "execution_count": null,
      "metadata": {
        "id": "ryevOv3Gi7ql"
      },
      "outputs": [],
      "source": [
        "# Create list of words in the order in which they orignally appear\n",
        "words = list(df['cleaned_text_bigrams'].str.split().apply(pd.Series).stack().reset_index(drop = True))"
      ]
    },
    {
      "cell_type": "code",
      "execution_count": null,
      "metadata": {
        "id": "nu9vfANLe2EA"
      },
      "outputs": [],
      "source": [
        "# Most frequent bigrams\n",
        "bigrams = (pd.Series(nltk.ngrams(words, 2)).value_counts()).to_frame()"
      ]
    },
    {
      "cell_type": "code",
      "source": [
        "type(bigrams)"
      ],
      "metadata": {
        "id": "pAkRbfPw8Dr7"
      },
      "execution_count": null,
      "outputs": []
    },
    {
      "cell_type": "code",
      "source": [
        "bigrams.head(300)"
      ],
      "metadata": {
        "id": "Fezu6xbq_HgN"
      },
      "execution_count": null,
      "outputs": []
    },
    {
      "cell_type": "code",
      "source": [
        "# This are the bigrams manually filtered to match to the OpenSustain.tech database\n",
        "bigrams_ost = [\"climate change\",\"energy systems\",\"power system\",\"earth system\",\"energy system\",\"energy consumption\",\"power systems\",\"remote sensing\",\"renewable energy\",\"water quality\",\"life cycle\",\"radiative transfer\",\"weather climate\",\"integrated assessment\",\"wind energy\",\"earth science\",\"carbon footprint\",\"surface water\",\"sustainable development\",\"species distriibution\",\"power plants\",\"wind turbine\", \"electric vehicle\",\"wind farm\",\"carbon emiśsions\",\"greenhouse emissions\",\"greenhouse gases\",\"electricity market\",\"land surface\",\"numerical weather\",\"wind turbine\", \"energy storage\",\"development goals\",\"solar cells\", \"soil water\", \"energy resources\", \"solar energy\",\"energy managment\", \"carbon intensity\", \"water balance\", \"soil moisture\", \"climate science\", \"environmental impacts\", \"climate models\", \"carbon cycle\", \"offshore wind\", \"energy sector\", \"energy information\", \"distributed energy\", \"impact climate\", \"weather prediction\", \"urban energy\", \"power consumption\", \"citizen science\", \"decision making\", \"atmospheric science\", \"water resources\", \"land cover\", \"circular economy\", \"biodivercity information\", \"global climate\", \"forest management\", \"hydrological models\", \"large eddy\", \"energy market\", \"forest carbon\", \"atmospheric oceanic\", \"solar radiation\", \"stock assessment\",\"general circulation\", \"battery models\", \"weather forecasts\", \"climate scenarios\", \"environmental economic\", \"climate policy\", \"climate analysis\", \"climate carbon\", \"electricity generation\", \"energy policy\", \"power grid\", \"electricity system\", \"fisheries stock\", \"global weather\", \"cloud microphysics\",\"storage systems\",\"wind speed\", \"wind farms\",\"public transport\",\"solar thermal\", \"statisical downscaling\", \"future energy\", \"energy modeling\", \"energy generation\", \"environment climate\",\"tree crown\",\"climate downscaling\",\"solar power\",\"wildland fire\",\"climate sciences\",\"fossil fuel\",\"global scale\",\"impact assessment\",\"energy resource\",\"carbon dioxide\",\"carbon nitrogen\",\"ocean state\",\"emissions energy\",\"soil properties\",\"shallow water\",\"smart grid\",\"water treatment\",\"future climate\",\"climate impacts\",\"level rise\",\"global soil\",\"niche models\",\"land use\",\"costal ocean\",\"heating cooling\", \"ecological niche\", \"energy usage\", \"weather radar\",\"water flow\",\"wave energy\",\"heat pump\",\"district heating\",\"flood inundation\",\"protected areas\",\"smart meter\",\"demand flexibility\",\" groundwater surface\",\"bottom trawl\",\"tropical cyclone\",\"water management\",\"water carbon\",\"organic carbon\",\"atmospheric composition\",\"marine debris\",\"fire spread\",\"electrial grid\",\"social environmental\",\"atmospheric models\",\"global change\",\"plastic pollution\",\"change analysis\"]\n"
      ],
      "metadata": {
        "id": "oAZBGPNr_1a0"
      },
      "execution_count": null,
      "outputs": []
    },
    {
      "cell_type": "code",
      "source": [
        "bigrams_ost"
      ],
      "metadata": {
        "id": "bKTUNJoZEGIV"
      },
      "execution_count": null,
      "outputs": []
    },
    {
      "cell_type": "code",
      "execution_count": null,
      "metadata": {
        "id": "XH01om74c683"
      },
      "outputs": [],
      "source": [
        "# Most frequent trigrams\n",
        "(pd.Series(nltk.ngrams(words, 3)).value_counts())[:100]"
      ]
    },
    {
      "cell_type": "code",
      "source": [
        "!wget https://raw.githubusercontent.com/sadielbartholomew/cf-standard-names-linguistics/master/data/all_cf_standard_names_for_table_v83_at_30_11_23.txt"
      ],
      "metadata": {
        "id": "ekEynwN7IMIn"
      },
      "execution_count": null,
      "outputs": []
    },
    {
      "cell_type": "code",
      "source": [
        "cf_file = open(\"all_cf_standard_names_for_table_v83_at_30_11_23.txt\", \"r\")\n",
        "cf_meta_data = cf_file.read().split(\"\\n\")\n",
        "df_cf_meta = pd.DataFrame(cf_meta_data,columns =['description'])"
      ],
      "metadata": {
        "id": "kODmDMxYINib"
      },
      "execution_count": null,
      "outputs": []
    },
    {
      "cell_type": "code",
      "source": [
        "df_cf_meta"
      ],
      "metadata": {
        "id": "ZIZolz0BIjTJ"
      },
      "execution_count": null,
      "outputs": []
    },
    {
      "cell_type": "code",
      "source": [
        "df_cf_meta['description'] = df_cf_meta['description'].apply(lambda x: ' '.join(x.lower() for x in str(x).split())) # Lowercase\n",
        "df_cf_meta['description'] = df_cf_meta['description'].apply(lambda x: re.sub(r'<[^>]+>', ' ', x)) # Remove HTML tags\n",
        "df_cf_meta['description'] = df_cf_meta['description'].apply(lambda x: re.sub(r'[^a-zA-Z0-9\\s]',' ', x)) # Remove symbols\n",
        "df_cf_meta['description'] = df_cf_meta['description'].apply(lambda x: ' '.join(x for x in str(x).split() if len(x) > 3)) # Remove short words\n",
        "df_cf_meta['description'] = df_cf_meta['description'].apply(lambda x: ' '.join(x for x in str(x).split() if x.isalpha())) # Remove numbers\n",
        "df_cf_meta['description'] = df_cf_meta['description'].apply(lambda x: ' '.join(x for x in str(x).split() if x not in words_black_list_large)) # Remove words from blacklist\n",
        "df_cf_meta['description'] = df_cf_meta['description'].apply(lambda x: ' '.join(x for x in str(x).split() if x not in stpwords)) # Remove stopwords"
      ],
      "metadata": {
        "id": "XirwzBYQ_Pl3"
      },
      "execution_count": null,
      "outputs": []
    },
    {
      "cell_type": "code",
      "source": [
        "# Tokenize text\n",
        "tokenized_data = [nltk.word_tokenize(text) for text in df_cf_meta['description']]\n",
        "\n",
        "# lemmatize\n",
        "tokenized_data = [lemmatize_tokens(tokens) for tokens in tokenized_data]\n",
        "\n",
        "# count the occurrence of each token\n",
        "token_counts = [Counter(tokens) for tokens in tokenized_data]\n",
        "\n",
        "# combine the counts from all rows\n",
        "combined_counts = sum(token_counts, Counter())"
      ],
      "metadata": {
        "id": "gfBXLjg-Ip-w"
      },
      "execution_count": null,
      "outputs": []
    },
    {
      "cell_type": "code",
      "source": [
        "# print the top 30 most common tokens\n",
        "word_freq = combined_counts.most_common(300)\n",
        "word_freq\n"
      ],
      "metadata": {
        "id": "0trtkljsItG2"
      },
      "execution_count": null,
      "outputs": []
    },
    {
      "cell_type": "code",
      "source": [
        "words_cf_meta = list(df_cf_meta['description'].str.split().apply(pd.Series).stack().reset_index(drop = True))"
      ],
      "metadata": {
        "id": "8Twzoz1IKvKw"
      },
      "execution_count": null,
      "outputs": []
    },
    {
      "cell_type": "code",
      "source": [
        "# Most frequent bigrams\n",
        "bigrams = (pd.Series(nltk.ngrams(words_cf_meta, 2)).value_counts()).to_frame()"
      ],
      "metadata": {
        "id": "SOgNhWYmAzhs"
      },
      "execution_count": null,
      "outputs": []
    },
    {
      "cell_type": "code",
      "source": [
        "bigrams.head(300)"
      ],
      "metadata": {
        "id": "t8Qv83ZjBFFi"
      },
      "execution_count": null,
      "outputs": []
    },
    {
      "cell_type": "code",
      "source": [],
      "metadata": {
        "id": "y3up-pwlBLA2"
      },
      "execution_count": null,
      "outputs": []
    }
  ],
  "metadata": {
    "colab": {
      "provenance": []
    },
    "kernelspec": {
      "display_name": "Python 3.8 (XPython)",
      "language": "python",
      "name": "xpython"
    },
    "language_info": {
      "file_extension": ".py",
      "mimetype": "text/x-python",
      "name": "python",
      "version": "3.8.9"
    }
  },
  "nbformat": 4,
  "nbformat_minor": 0
}